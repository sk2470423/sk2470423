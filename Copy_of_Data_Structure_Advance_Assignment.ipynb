{
  "nbformat": 4,
  "nbformat_minor": 0,
  "metadata": {
    "colab": {
      "provenance": [],
      "toc_visible": true,
      "include_colab_link": true
    },
    "kernelspec": {
      "name": "python3",
      "display_name": "Python 3"
    },
    "language_info": {
      "name": "python"
    }
  },
  "cells": [
    {
      "cell_type": "markdown",
      "metadata": {
        "id": "view-in-github",
        "colab_type": "text"
      },
      "source": [
        "<a href=\"https://colab.research.google.com/github/sk2470423/sk2470423/blob/main/Copy_of_Data_Structure_Advance_Assignment.ipynb\" target=\"_parent\"><img src=\"https://colab.research.google.com/assets/colab-badge.svg\" alt=\"Open In Colab\"/></a>"
      ]
    },
    {
      "cell_type": "markdown",
      "source": [
        "Q1.Write a code to reverse a string ."
      ],
      "metadata": {
        "id": "JaDABI_4q5gW"
      }
    },
    {
      "cell_type": "code",
      "source": [
        "from google.colab import drive\n",
        "drive.mount('/content/drive')"
      ],
      "metadata": {
        "id": "0wUc6dmTb5qC"
      },
      "execution_count": null,
      "outputs": []
    },
    {
      "cell_type": "code",
      "source": [
        "def reverse_string(s):\n",
        "    return s[::-1]\n",
        "\n",
        "# Example usage:\n",
        "string = \"Hello, World!\"\n",
        "reversed_string = reverse_string(string)\n",
        "print(\"Reversed string:\", reversed_string)\n"
      ],
      "metadata": {
        "colab": {
          "base_uri": "https://localhost:8080/"
        },
        "id": "J-aOvdOLsFZf",
        "outputId": "09c48a53-dbb7-4824-dd89-ea5dc9b2af09"
      },
      "execution_count": null,
      "outputs": [
        {
          "output_type": "stream",
          "name": "stdout",
          "text": [
            "Reversed string: !dlroW ,olleH\n"
          ]
        }
      ]
    },
    {
      "cell_type": "markdown",
      "source": [
        "Q2.write a code to count the number of vowels in a string ."
      ],
      "metadata": {
        "id": "oXw6OplIsO6H"
      }
    },
    {
      "cell_type": "code",
      "source": [
        "def count_vowels(s):\n",
        "    vowels = \"aeiouAEIOU\"\n",
        "    count = 0\n",
        "    for char in s:\n",
        "        if char in vowels:\n",
        "            count += 1\n",
        "    return count\n",
        "\n",
        "# Example usage:\n",
        "string = \"Hello, World!\"\n",
        "vowel_count = count_vowels(string)\n",
        "print(\"Number of vowels:\", vowel_count)\n"
      ],
      "metadata": {
        "colab": {
          "base_uri": "https://localhost:8080/"
        },
        "id": "fFka-qoLsvsl",
        "outputId": "f9a978aa-8762-4c4b-d4a1-794ce2497634"
      },
      "execution_count": null,
      "outputs": [
        {
          "output_type": "stream",
          "name": "stdout",
          "text": [
            "Number of vowels: 3\n"
          ]
        }
      ]
    },
    {
      "cell_type": "markdown",
      "source": [
        "Q3.write a code to check if a given string is a palindrome or not."
      ],
      "metadata": {
        "id": "6eXJ9Qyqs3T0"
      }
    },
    {
      "cell_type": "code",
      "source": [
        "def is_palindrome(s):\n",
        "    # Remove spaces and convert to lowercase for a case-insensitive comparison\n",
        "    s = s.replace(\" \", \"\").lower()\n",
        "\n",
        "    # Check if the string is equal to its reverse\n",
        "    return s == s[::-1]\n",
        "\n",
        "# Example usage:\n",
        "string = \"A man a plan a canal Panama\"\n",
        "if is_palindrome(string):\n",
        "    print(f'\"{string}\" is a palindrome.')\n",
        "else:\n",
        "    print(f'\"{string}\" is not a palindrome.')\n"
      ],
      "metadata": {
        "colab": {
          "base_uri": "https://localhost:8080/"
        },
        "id": "9xpcB6-1tgwm",
        "outputId": "d166788d-ddcd-45af-a2ed-bbe1fd69c1f0"
      },
      "execution_count": null,
      "outputs": [
        {
          "output_type": "stream",
          "name": "stdout",
          "text": [
            "\"A man a plan a canal Panama\" is a palindrome.\n"
          ]
        }
      ]
    },
    {
      "cell_type": "markdown",
      "source": [
        "Q4.write a code to check if two given string are anograms of each other."
      ],
      "metadata": {
        "id": "bh58eevltrGK"
      }
    },
    {
      "cell_type": "code",
      "source": [
        "def are_anagrams(str1, str2):\n",
        "    # Remove spaces and convert to lowercase for case-insensitive comparison\n",
        "    str1 = str1.replace(\" \", \"\").lower()\n",
        "    str2 = str2.replace(\" \", \"\").lower()\n",
        "\n",
        "    # Check if sorted characters of both strings are the same\n",
        "    return sorted(str1) == sorted(str2)\n",
        "\n",
        "# Example usage:\n",
        "string1 = \"listen\"\n",
        "string2 = \"silent\"\n",
        "if are_anagrams(string1, string2):\n",
        "    print(f'\"{string1}\" and \"{string2}\" are anagrams.')\n",
        "else:\n",
        "    print(f'\"{string1}\" and \"{string2}\" are not anagrams.')\n"
      ],
      "metadata": {
        "colab": {
          "base_uri": "https://localhost:8080/"
        },
        "id": "Iv_V_8sPueNn",
        "outputId": "63d034ff-ea51-4fcd-a73a-acd6de9d7695"
      },
      "execution_count": null,
      "outputs": [
        {
          "output_type": "stream",
          "name": "stdout",
          "text": [
            "\"listen\" and \"silent\" are anagrams.\n"
          ]
        }
      ]
    },
    {
      "cell_type": "markdown",
      "source": [
        "Q5. write a code to find all occurrences of a given substring within onother string."
      ],
      "metadata": {
        "id": "1Zb7gUWJvRT6"
      }
    },
    {
      "cell_type": "code",
      "source": [
        "def find_substring_occurrences(main_str, sub_str):\n",
        "    occurrences = []\n",
        "    start = 0\n",
        "    while start < len(main_str):\n",
        "        # Find the next occurrence of the substring\n",
        "        pos = main_str.find(sub_str, start)\n",
        "\n",
        "        # If the substring is found, store the index\n",
        "        if pos != -1:\n",
        "            occurrences.append(pos)\n",
        "            # Move start to the next character after the found occurrence\n",
        "            start = pos + 1\n",
        "        else:\n",
        "            break\n",
        "    return occurrences\n",
        "\n",
        "# Example usage:\n",
        "main_string = \"abracadabra\"\n",
        "substring = \"abra\"\n",
        "occurrences = find_substring_occurrences(main_string, substring)\n",
        "print(f'Occurrences of \"{substring}\" in \"{main_string}\": {occurrences}')\n",
        "\n"
      ],
      "metadata": {
        "colab": {
          "base_uri": "https://localhost:8080/"
        },
        "id": "gWAVYvtCwsqa",
        "outputId": "3de3940d-9eff-4ada-f81e-b32cc7dbe132"
      },
      "execution_count": null,
      "outputs": [
        {
          "output_type": "stream",
          "name": "stdout",
          "text": [
            "Occurrences of \"abra\" in \"abracadabra\": [0, 7]\n"
          ]
        }
      ]
    },
    {
      "cell_type": "markdown",
      "source": [
        "Q6.Write a code to perform  basic string compression using the count of repeated characters."
      ],
      "metadata": {
        "id": "CK3-SPI6xUlw"
      }
    },
    {
      "cell_type": "code",
      "source": [
        "def compress_string(s):\n",
        "    if not s:\n",
        "        return \"\"\n",
        "\n",
        "    compressed = []\n",
        "    count = 1\n",
        "\n",
        "    # Iterate through the string\n",
        "    for i in range(1, len(s)):\n",
        "        if s[i] == s[i - 1]:\n",
        "            count += 1\n",
        "        else:\n",
        "            compressed.append(s[i - 1] + str(count))\n",
        "            count = 1\n",
        "\n",
        "    # Append the last character and its count\n",
        "    compressed.append(s[-1] + str(count))\n",
        "\n",
        "    # Join the list into a compressed string\n",
        "    compressed_string = ''.join(compressed)\n",
        "\n",
        "    # Return the original string if the compressed one is not smaller\n",
        "    return compressed_string if len(compressed_string) < len(s) else s\n",
        "\n",
        "# Example usage:\n",
        "input_string = \"aaabbccccdaa\"\n",
        "compressed_string = compress_string(input_string)\n",
        "print(f'Compressed string: {compressed_string}')\n"
      ],
      "metadata": {
        "colab": {
          "base_uri": "https://localhost:8080/"
        },
        "id": "Qw6kJ4iAyWrw",
        "outputId": "a0ed208c-f82a-4fc0-857a-8829bf0db433"
      },
      "execution_count": null,
      "outputs": [
        {
          "output_type": "stream",
          "name": "stdout",
          "text": [
            "Compressed string: a3b2c4d1a2\n"
          ]
        }
      ]
    },
    {
      "cell_type": "markdown",
      "source": [
        "Q7.Write a code to determine if a string has all unique characters."
      ],
      "metadata": {
        "id": "-qJw6MzKzSdh"
      }
    },
    {
      "cell_type": "code",
      "source": [
        "def has_unique_chars(s):\n",
        "    # Use a set to track characters seen so far\n",
        "    char_set = set()\n",
        "\n",
        "    for char in s:\n",
        "        if char in char_set:\n",
        "            return False  # Character is repeated\n",
        "        char_set.add(char)\n",
        "\n",
        "    return True  # All characters are unique\n",
        "\n",
        "# Example usage:\n",
        "input_string = \"abcdefg\"\n",
        "if has_unique_chars(input_string):\n",
        "    print(f'\"{input_string}\" has all unique characters.')\n",
        "else:\n",
        "    print(f'\"{input_string}\" does not have all unique characters.')\n"
      ],
      "metadata": {
        "colab": {
          "base_uri": "https://localhost:8080/"
        },
        "id": "ncNb4HKrz56T",
        "outputId": "3dc0f64c-fa82-41dd-81d0-d13f73f11fae"
      },
      "execution_count": null,
      "outputs": [
        {
          "output_type": "stream",
          "name": "stdout",
          "text": [
            "\"abcdefg\" has all unique characters.\n"
          ]
        }
      ]
    },
    {
      "cell_type": "markdown",
      "source": [
        "Q8.Write a code to convert a given string to uppercase or lowercase."
      ],
      "metadata": {
        "id": "dO7zn_k90asm"
      }
    },
    {
      "cell_type": "code",
      "source": [
        "def convert_case(s, to_upper=True):\n",
        "    if to_upper:\n",
        "        return s.upper()  # Convert to uppercase\n",
        "    else:\n",
        "        return s.lower()  # Convert to lowercase\n",
        "\n",
        "# Example usage:\n",
        "input_string = \"Hello, World!\"\n",
        "\n",
        "# Convert to uppercase\n",
        "uppercase_string = convert_case(input_string, to_upper=True)\n",
        "print(f'Uppercase: {uppercase_string}')\n",
        "\n",
        "# Convert to lowercase\n",
        "lowercase_string = convert_case(input_string, to_upper=False)\n",
        "print(f'Lowercase: {lowercase_string}')\n"
      ],
      "metadata": {
        "colab": {
          "base_uri": "https://localhost:8080/"
        },
        "id": "6_554bEw0y-4",
        "outputId": "92f7a30b-dabc-494f-9002-40f3edf707a1"
      },
      "execution_count": null,
      "outputs": [
        {
          "output_type": "stream",
          "name": "stdout",
          "text": [
            "Uppercase: HELLO, WORLD!\n",
            "Lowercase: hello, world!\n"
          ]
        }
      ]
    },
    {
      "cell_type": "markdown",
      "source": [
        "Q9.Write a code to count the number of words in a string."
      ],
      "metadata": {
        "id": "O0UUhkO11vsq"
      }
    },
    {
      "cell_type": "code",
      "source": [
        "def count_words(s):\n",
        "    # Split the string by whitespace to get a list of words\n",
        "    words = s.split()\n",
        "    return len(words)\n",
        "\n",
        "# Example usage:\n",
        "input_string = \"Hello, how are you doing today?\"\n",
        "word_count = count_words(input_string)\n",
        "print(f'Number of words: {word_count}')\n",
        "\n"
      ],
      "metadata": {
        "colab": {
          "base_uri": "https://localhost:8080/"
        },
        "id": "QJEV6OJ82PBQ",
        "outputId": "2c597458-301b-4822-bada-7d1fef94cb74"
      },
      "execution_count": null,
      "outputs": [
        {
          "output_type": "stream",
          "name": "stdout",
          "text": [
            "Number of words: 6\n"
          ]
        }
      ]
    },
    {
      "cell_type": "markdown",
      "source": [
        "Q10.Write a code to concatenate two string without using the + operator."
      ],
      "metadata": {
        "id": "0qPCDCle2yT1"
      }
    },
    {
      "cell_type": "code",
      "source": [
        "def concatenate_strings(str1, str2):\n",
        "    # Use the join method to concatenate the two strings\n",
        "    return ''.join([str1, str2])\n",
        "\n",
        "# Example usage:\n",
        "string1 = \"Hello, \"\n",
        "string2 = \"World!\"\n",
        "result = concatenate_strings(string1, string2)\n",
        "print(f'Concatenated string: {result}')\n"
      ],
      "metadata": {
        "colab": {
          "base_uri": "https://localhost:8080/"
        },
        "id": "iTkNDfy83qNn",
        "outputId": "7c385aa3-c2df-4cf0-fde9-1e269421f414"
      },
      "execution_count": null,
      "outputs": [
        {
          "output_type": "stream",
          "name": "stdout",
          "text": [
            "Concatenated string: Hello, World!\n"
          ]
        }
      ]
    },
    {
      "cell_type": "markdown",
      "source": [
        "Q11.Write a code to remove all occurrences of a specific element fro a  list."
      ],
      "metadata": {
        "id": "DU4oohDC3-Pa"
      }
    },
    {
      "cell_type": "code",
      "source": [
        "def remove_occurrences(lst, element):\n",
        "    # Use a list comprehension to create a new list with the element removed\n",
        "    return [x for x in lst if x != element]\n",
        "\n",
        "# Example usage:\n",
        "my_list = [1, 2, 3, 4, 2, 5, 2]\n",
        "element_to_remove = 2\n",
        "updated_list = remove_occurrences(my_list, element_to_remove)\n",
        "print(f'Updated list: {updated_list}')\n"
      ],
      "metadata": {
        "colab": {
          "base_uri": "https://localhost:8080/"
        },
        "id": "TOtaQRSh4Z0j",
        "outputId": "65c7bb74-9c27-4e06-848e-c10c4b774ec1"
      },
      "execution_count": null,
      "outputs": [
        {
          "output_type": "stream",
          "name": "stdout",
          "text": [
            "Updated list: [1, 3, 4, 5]\n"
          ]
        }
      ]
    },
    {
      "cell_type": "markdown",
      "source": [
        "Q12.Implement a code to find the second largest number in a givenlist of integers."
      ],
      "metadata": {
        "id": "6nzx-PwC443f"
      }
    },
    {
      "cell_type": "code",
      "source": [
        "def find_second_largest(lst):\n",
        "    if len(lst) < 2:\n",
        "        raise ValueError(\"List must contain at least two elements\")\n",
        "\n",
        "    first = second = float('-inf')\n",
        "\n",
        "    for num in lst:\n",
        "        if num > first:\n",
        "            second = first\n",
        "            first = num\n",
        "        elif first > num > second:\n",
        "            second = num\n",
        "\n",
        "    if second == float('-inf'):\n",
        "        raise ValueError(\"There is no second largest element\")\n",
        "\n",
        "    return second\n",
        "\n",
        "# Example usage:\n",
        "my_list = [10, 20, 4, 45, 99, 99, 45]\n",
        "second_largest = find_second_largest(my_list)\n",
        "print(f'Second largest number: {second_largest}')\n"
      ],
      "metadata": {
        "colab": {
          "base_uri": "https://localhost:8080/"
        },
        "id": "fdAHidkQ5XOK",
        "outputId": "052e1e51-c15d-4c67-80e9-bc682e8843b0"
      },
      "execution_count": null,
      "outputs": [
        {
          "output_type": "stream",
          "name": "stdout",
          "text": [
            "Second largest number: 45\n"
          ]
        }
      ]
    },
    {
      "cell_type": "markdown",
      "source": [
        "Q13 Create a code to count the occuurrences of each element in a list and return a dictionary with elements as keys and their counts as values."
      ],
      "metadata": {
        "id": "pJh3q6TF779Q"
      }
    },
    {
      "cell_type": "code",
      "source": [
        "def count_occurrences(lst):\n",
        "    # Create an empty dictionary to store counts\n",
        "    count_dict = {}\n",
        "\n",
        "    # Iterate through the list and count occurrences\n",
        "    for item in lst:\n",
        "        if item in count_dict:\n",
        "            count_dict[item] += 1\n",
        "        else:\n",
        "            count_dict[item] = 1\n",
        "\n",
        "    return count_dict\n",
        "\n",
        "# Example usage:\n",
        "my_list = [1, 2, 2, 3, 4, 4, 4, 5]\n",
        "occurrences = count_occurrences(my_list)\n",
        "print('Occurrences:', occurrences)\n"
      ],
      "metadata": {
        "colab": {
          "base_uri": "https://localhost:8080/"
        },
        "id": "XFk8llcU8m_p",
        "outputId": "f4723624-aedd-466a-addc-84b2ba9c65d7"
      },
      "execution_count": null,
      "outputs": [
        {
          "output_type": "stream",
          "name": "stdout",
          "text": [
            "Occurrences: {1: 1, 2: 2, 3: 1, 4: 3, 5: 1}\n"
          ]
        }
      ]
    },
    {
      "cell_type": "markdown",
      "source": [
        "Q14.Write a code to reverse a list in-place without using any built-in reverse function."
      ],
      "metadata": {
        "id": "mmbO6Ytk88nf"
      }
    },
    {
      "cell_type": "code",
      "source": [
        "def reverse_list(lst):\n",
        "    left = 0\n",
        "    right = len(lst) - 1\n",
        "\n",
        "    while left < right:\n",
        "        # Swap elements at the left and right indices\n",
        "        lst[left], lst[right] = lst[right], lst[left]\n",
        "        # Move towards the center\n",
        "        left += 1\n",
        "        right -= 1\n",
        "\n",
        "# Example usage:\n",
        "my_list = [1, 2, 3, 4, 5]\n",
        "reverse_list(my_list)\n",
        "print('Reversed list:', my_list)\n"
      ],
      "metadata": {
        "colab": {
          "base_uri": "https://localhost:8080/"
        },
        "id": "mXkAeN4S9Wfx",
        "outputId": "20dfe406-4864-4964-9548-5621df9ead63"
      },
      "execution_count": null,
      "outputs": [
        {
          "output_type": "stream",
          "name": "stdout",
          "text": [
            "Reversed list: [5, 4, 3, 2, 1]\n"
          ]
        }
      ]
    },
    {
      "cell_type": "markdown",
      "source": [
        "Q15.Implement a code to find and remove duplicate from a list while preserving the original oreder ofelements."
      ],
      "metadata": {
        "id": "zelu1Kf__Gc5"
      }
    },
    {
      "cell_type": "code",
      "source": [
        "def remove_duplicates(lst):\n",
        "    seen = set()  # Set to track seen elements\n",
        "    result = []   # List to store the result without duplicates\n",
        "\n",
        "    for item in lst:\n",
        "        if item not in seen:\n",
        "            seen.add(item)\n",
        "            result.append(item)\n",
        "\n",
        "    return result\n",
        "\n",
        "# Example usage:\n",
        "my_list = [1, 2, 3, 2, 4, 5, 4, 6]\n",
        "unique_list = remove_duplicates(my_list)\n",
        "print('List without duplicates:', unique_list)\n"
      ],
      "metadata": {
        "colab": {
          "base_uri": "https://localhost:8080/"
        },
        "id": "zTQ_p4rg_pc8",
        "outputId": "d0965aba-1ef6-4dd9-ae41-eb5f45261771"
      },
      "execution_count": null,
      "outputs": [
        {
          "output_type": "stream",
          "name": "stdout",
          "text": [
            "List without duplicates: [1, 2, 3, 4, 5, 6]\n"
          ]
        }
      ]
    },
    {
      "cell_type": "markdown",
      "source": [
        "Q16.Create a code to check if a given list is sorted (either in ascending or decending order) or not."
      ],
      "metadata": {
        "id": "Q_JE_WSq_5NM"
      }
    },
    {
      "cell_type": "code",
      "source": [
        "def is_sorted(lst):\n",
        "    if not lst:\n",
        "        return True  # An empty list is considered sorted\n",
        "\n",
        "    ascending = all(lst[i] <= lst[i + 1] for i in range(len(lst) - 1))\n",
        "    descending = all(lst[i] >= lst[i + 1] for i in range(len(lst) - 1))\n",
        "\n",
        "    return ascending or descending\n",
        "\n",
        "# Example usage:\n",
        "my_list = [1, 2, 3, 4, 5]\n",
        "if is_sorted(my_list):\n",
        "    print('The list is sorted.')\n",
        "else:\n",
        "    print('The list is not sorted.')\n",
        "\n",
        "# Testing with a descending list\n",
        "my_list_desc = [5, 4, 3, 2, 1]\n",
        "if is_sorted(my_list_desc):\n",
        "    print('The list is sorted.')\n",
        "else:\n",
        "    print('The list is not sorted.')\n"
      ],
      "metadata": {
        "colab": {
          "base_uri": "https://localhost:8080/"
        },
        "id": "Ke-3u7p6AoCK",
        "outputId": "45ae903f-38e3-47f0-ac4e-53d491701479"
      },
      "execution_count": null,
      "outputs": [
        {
          "output_type": "stream",
          "name": "stdout",
          "text": [
            "The list is sorted.\n",
            "The list is sorted.\n"
          ]
        }
      ]
    },
    {
      "cell_type": "markdown",
      "source": [
        "Q17.Write a code to merge two sorted lists into a single sorted list."
      ],
      "metadata": {
        "id": "Gc1XAZxPAzfW"
      }
    },
    {
      "cell_type": "code",
      "source": [
        "def merge_sorted_lists(list1, list2):\n",
        "    merged_list = []\n",
        "    i, j = 0, 0\n",
        "\n",
        "    # Traverse both lists\n",
        "    while i < len(list1) and j < len(list2):\n",
        "        if list1[i] < list2[j]:\n",
        "            merged_list.append(list1[i])\n",
        "            i += 1\n",
        "        else:\n",
        "            merged_list.append(list2[j])\n",
        "            j += 1\n",
        "\n",
        "    # If there are remaining elements in list1\n",
        "    while i < len(list1):\n",
        "        merged_list.append(list1[i])\n",
        "        i += 1\n",
        "\n",
        "    # If there are remaining elements in list2\n",
        "    while j < len(list2):\n",
        "        merged_list.append(list2[j])\n",
        "        j += 1\n",
        "\n",
        "    return merged_list\n",
        "\n",
        "# Example usage\n",
        "list1 = [1, 3, 5, 7]\n",
        "list2 = [2, 4, 6, 8]\n",
        "merged = merge_sorted_lists(list1, list2)\n",
        "print(merged)  # Output: [1, 2, 3, 4, 5, 6, 7, 8]\n"
      ],
      "metadata": {
        "colab": {
          "base_uri": "https://localhost:8080/"
        },
        "id": "Tqk5lTwgBYtl",
        "outputId": "e3843f1e-3b0d-4d01-82fb-0c0971312a74"
      },
      "execution_count": null,
      "outputs": [
        {
          "output_type": "stream",
          "name": "stdout",
          "text": [
            "[1, 2, 3, 4, 5, 6, 7, 8]\n"
          ]
        }
      ]
    },
    {
      "cell_type": "markdown",
      "source": [
        "Q18.Implement a code to find the intersection of two given list."
      ],
      "metadata": {
        "id": "8wrjctlaBfRA"
      }
    },
    {
      "cell_type": "code",
      "source": [
        "def intersect_lists(list1, list2):\n",
        "    # Convert both lists to sets\n",
        "    set1 = set(list1)\n",
        "    set2 = set(list2)\n",
        "\n",
        "    # Find the intersection of both sets\n",
        "    intersection = set1 & set2\n",
        "\n",
        "    # Convert the result back to a list (optional, depending on the desired output)\n",
        "    return list(intersection)\n",
        "\n",
        "# Example usage\n",
        "list1 = [1, 2, 3, 4, 5]\n",
        "list2 = [3, 4, 5, 6, 7]\n",
        "intersection = intersect_lists(list1, list2)\n",
        "print(intersection)  # Output: [3, 4, 5]\n"
      ],
      "metadata": {
        "colab": {
          "base_uri": "https://localhost:8080/"
        },
        "id": "b1OsCMgjB5X8",
        "outputId": "4605bcc3-9ee7-4a12-e439-6eea904b856b"
      },
      "execution_count": null,
      "outputs": [
        {
          "output_type": "stream",
          "name": "stdout",
          "text": [
            "[3, 4, 5]\n"
          ]
        }
      ]
    },
    {
      "cell_type": "markdown",
      "source": [
        "Q19.create a code to find the union of two lists without duplicates."
      ],
      "metadata": {
        "id": "mhNXcKlYB9lb"
      }
    },
    {
      "cell_type": "code",
      "source": [
        "def union_lists(list1, list2):\n",
        "    # Convert both lists to sets to remove duplicates and find the union\n",
        "    set1 = set(list1)\n",
        "    set2 = set(list2)\n",
        "\n",
        "    # Find the union of both sets\n",
        "    union = set1 | set2\n",
        "\n",
        "    # Convert the result back to a list (optional, depending on the desired output)\n",
        "    return list(union)\n",
        "\n",
        "# Example usage\n",
        "list1 = [1, 2, 3, 4, 5]\n",
        "list2 = [4, 5, 6, 7, 8]\n",
        "union = union_lists(list1, list2)\n",
        "print(union)  # Output: [1, 2, 3, 4, 5, 6, 7, 8]\n"
      ],
      "metadata": {
        "colab": {
          "base_uri": "https://localhost:8080/"
        },
        "id": "JlQGjoF7CifV",
        "outputId": "c55918cb-5a43-4e51-c138-d3500ba0aea8"
      },
      "execution_count": null,
      "outputs": [
        {
          "output_type": "stream",
          "name": "stdout",
          "text": [
            "[1, 2, 3, 4, 5, 6, 7, 8]\n"
          ]
        }
      ]
    },
    {
      "cell_type": "markdown",
      "source": [
        "Q20.write a code to shuffle a given list randomly without using any built-in shuffle function."
      ],
      "metadata": {
        "id": "o4dVAf0uCnfb"
      }
    },
    {
      "cell_type": "code",
      "source": [
        "import random\n",
        "\n",
        "def shuffle_list(lst):\n",
        "    # Traverse the list from the last element to the second element\n",
        "    for i in range(len(lst) - 1, 0, -1):\n",
        "        # Generate a random index from 0 to i\n",
        "        j = random.randint(0, i)\n",
        "        # Swap the elements at indices i and j\n",
        "        lst[i], lst[j] = lst[j], lst[i]\n",
        "\n",
        "# Example usage\n",
        "my_list = [1, 2, 3, 4, 5]\n",
        "shuffle_list(my_list)\n",
        "print(my_list)  # Output will be a randomly shuffled list\n"
      ],
      "metadata": {
        "colab": {
          "base_uri": "https://localhost:8080/"
        },
        "id": "fDtKq7GrDGat",
        "outputId": "f068f06d-47ac-468a-c463-01687f7d1a86"
      },
      "execution_count": null,
      "outputs": [
        {
          "output_type": "stream",
          "name": "stdout",
          "text": [
            "[2, 5, 4, 1, 3]\n"
          ]
        }
      ]
    },
    {
      "cell_type": "markdown",
      "source": [
        "Q21.Write a code that takes two tuples as input and returns anew tuples contaning elements that are common to both input tuples."
      ],
      "metadata": {
        "id": "QKe99BTODMxt"
      }
    },
    {
      "cell_type": "code",
      "source": [
        "def intersect_tuples(tuple1, tuple2):\n",
        "    # Convert tuples to sets to find the intersection\n",
        "    set1 = set(tuple1)\n",
        "    set2 = set(tuple2)\n",
        "\n",
        "    # Find the intersection of both sets\n",
        "    intersection = set1 & set2\n",
        "\n",
        "    # Convert the result back to a tuple\n",
        "    return tuple(intersection)\n",
        "\n",
        "# Example usage\n",
        "tuple1 = (1, 2, 3, 4, 5)\n",
        "tuple2 = (4, 5, 6, 7, 8)\n",
        "common_elements = intersect_tuples(tuple1, tuple2)\n",
        "print(common_elements)  # Output: (4, 5)\n"
      ],
      "metadata": {
        "colab": {
          "base_uri": "https://localhost:8080/"
        },
        "id": "y32XBYl0EBe_",
        "outputId": "0daea174-137b-4dc5-fabf-82d99ccc5d57"
      },
      "execution_count": null,
      "outputs": [
        {
          "output_type": "stream",
          "name": "stdout",
          "text": [
            "(4, 5)\n"
          ]
        }
      ]
    },
    {
      "cell_type": "markdown",
      "source": [
        "Q22.Create a code that prompts the user to enter two sets of integers separated by commas. then, print the intersection of these two sets."
      ],
      "metadata": {
        "id": "YmCw5vAwEO_H"
      }
    },
    {
      "cell_type": "code",
      "source": [
        "def get_set_from_input(prompt):\n",
        "    # Prompt user for input\n",
        "    input_str = input(prompt)\n",
        "    # Convert the input string to a list of integers\n",
        "    try:\n",
        "        # Convert the comma-separated string to a list of integers\n",
        "        integer_list = [int(x.strip()) for x in input_str.split(',')]\n",
        "        # Convert the list to a set\n",
        "        return set(integer_list)\n",
        "    except ValueError:\n",
        "        print(\"Invalid input. Please enter integers separated by commas.\")\n",
        "        return get_set_from_input(prompt)\n",
        "\n",
        "def main():\n",
        "    # Get two sets from user input\n",
        "    set1 = get_set_from_input(\"Enter the first set of integers separated by commas: \")\n",
        "    set2 = get_set_from_input(\"Enter the second set of integers separated by commas: \")\n",
        "\n",
        "    # Find the intersection of the two sets\n",
        "    intersection = set1 & set2\n",
        "\n",
        "    # Print the result\n",
        "    print(\"The intersection of the two sets is:\", intersection)\n",
        "\n",
        "if __name__ == \"__main__\":\n",
        "    main()\n"
      ],
      "metadata": {
        "colab": {
          "base_uri": "https://localhost:8080/"
        },
        "id": "rMVtXOIiFBuf",
        "outputId": "8f15f66d-220e-485d-ad7a-5e937f710de0"
      },
      "execution_count": null,
      "outputs": [
        {
          "output_type": "stream",
          "name": "stdout",
          "text": [
            "Enter the first set of integers separated by commas: 23\n",
            "Enter the second set of integers separated by commas: 67\n",
            "The intersection of the two sets is: set()\n"
          ]
        }
      ]
    },
    {
      "cell_type": "markdown",
      "source": [
        "Q23.Write a code to contenatenate two tuples. the function should take two tuples as input and return a new tuple containing element from both input tuples."
      ],
      "metadata": {
        "id": "96w0onUYGEiQ"
      }
    },
    {
      "cell_type": "code",
      "source": [
        "def concatenate_tuples(tuple1, tuple2):\n",
        "    # Concatenate the two tuples\n",
        "    result_tuple = tuple1 + tuple2\n",
        "    return result_tuple\n",
        "\n",
        "# Example usage\n",
        "tuple1 = (1, 2, 3)\n",
        "tuple2 = (4, 5, 6)\n",
        "result = concatenate_tuples(tuple1, tuple2)\n",
        "print(result)  # Output: (1, 2, 3, 4, 5, 6)\n"
      ],
      "metadata": {
        "colab": {
          "base_uri": "https://localhost:8080/"
        },
        "id": "l5si3a5YHpEB",
        "outputId": "1bf0ee6e-06b0-4221-ed64-e2942ff2cf08"
      },
      "execution_count": null,
      "outputs": [
        {
          "output_type": "stream",
          "name": "stdout",
          "text": [
            "(1, 2, 3, 4, 5, 6)\n"
          ]
        }
      ]
    },
    {
      "cell_type": "markdown",
      "source": [
        "Q24.Develop a code that prompts the user to input two sets of strings. Then print the elements that are present in the first set  but non in the second set."
      ],
      "metadata": {
        "id": "5X9WA9yGMTcM"
      }
    },
    {
      "cell_type": "code",
      "source": [
        "def get_set_from_input(prompt):\n",
        "    # Prompt user for input\n",
        "    input_str = input(prompt)\n",
        "    # Convert the input string to a set of strings\n",
        "    # Split by commas and strip any extra spaces\n",
        "    string_set = {s.strip() for s in input_str.split(',')}\n",
        "    return string_set\n",
        "\n",
        "def main():\n",
        "    # Get two sets of strings from user input\n",
        "    set1 = get_set_from_input(\"Enter the first set of strings separated by commas: \")\n",
        "    set2 = get_set_from_input(\"Enter the second set of strings separated by commas: \")\n",
        "\n",
        "    # Find elements in set1 but not in set2\n",
        "    difference = set1 - set2\n",
        "\n",
        "    # Print the result\n",
        "    print(\"Elements in the first set but not in the second set are:\", difference)\n",
        "\n",
        "if __name__ == \"__main__\":\n",
        "    main()\n"
      ],
      "metadata": {
        "colab": {
          "base_uri": "https://localhost:8080/"
        },
        "id": "L9B7IyqHNasj",
        "outputId": "136c19cb-3532-43bb-a491-fe4cf63c1d02"
      },
      "execution_count": null,
      "outputs": [
        {
          "output_type": "stream",
          "name": "stdout",
          "text": [
            "Enter the first set of strings separated by commas: mukul\n",
            "Enter the second set of strings separated by commas: bhati\n",
            "Elements in the first set but not in the second set are: {'mukul'}\n"
          ]
        }
      ]
    },
    {
      "cell_type": "markdown",
      "source": [
        "Q25.Create a code that takes a tuple and two integers as input. the function should return a new tuple containing elements from the original tuple within the specified range of indices"
      ],
      "metadata": {
        "id": "UszuzkAANnmD"
      }
    },
    {
      "cell_type": "code",
      "source": [
        "def slice_tuple(original_tuple, start_index, end_index):\n",
        "    # Validate indices\n",
        "    if not (0 <= start_index < len(original_tuple)) or not (0 <= end_index <= len(original_tuple)):\n",
        "        raise ValueError(\"Indices are out of range\")\n",
        "\n",
        "    # Return the sliced tuple\n",
        "    return original_tuple[start_index:end_index]\n",
        "\n",
        "# Example usage\n",
        "original_tuple = (10, 20, 30, 40, 50, 60, 70)\n",
        "start_index = 2\n",
        "end_index = 5\n",
        "result = slice_tuple(original_tuple, start_index, end_index)\n",
        "print(result)  # Output: (30, 40, 50)\n"
      ],
      "metadata": {
        "colab": {
          "base_uri": "https://localhost:8080/"
        },
        "id": "NOUmRE10OaHT",
        "outputId": "0b755031-04ae-4fba-cd09-407d54943c1f"
      },
      "execution_count": null,
      "outputs": [
        {
          "output_type": "stream",
          "name": "stdout",
          "text": [
            "(30, 40, 50)\n"
          ]
        }
      ]
    },
    {
      "cell_type": "markdown",
      "source": [
        "Q26.write a code that prompts the user to input two sets of characters. Then ,print the union of these two sets."
      ],
      "metadata": {
        "id": "qg-Co1iJOnKF"
      }
    },
    {
      "cell_type": "code",
      "source": [
        "def get_set_from_input(prompt):\n",
        "    # Prompt user for input\n",
        "    input_str = input(prompt)\n",
        "    # Convert the input string to a set of characters\n",
        "    # Split by commas and strip any extra spaces\n",
        "    char_set = {c.strip() for c in input_str.split(',')}\n",
        "    return char_set\n",
        "\n",
        "def main():\n",
        "    # Get two sets of characters from user input\n",
        "    set1 = get_set_from_input(\"Enter the first set of characters separated by commas: \")\n",
        "    set2 = get_set_from_input(\"Enter the second set of characters separated by commas: \")\n",
        "\n",
        "    # Find the union of the two sets\n",
        "    union = set1 | set2\n",
        "\n",
        "    # Print the result\n",
        "    print(\"The union of the two sets is:\", union)\n",
        "\n",
        "if __name__ == \"__main__\":\n",
        "    main()\n"
      ],
      "metadata": {
        "colab": {
          "base_uri": "https://localhost:8080/"
        },
        "id": "kLuQjMTTPQvi",
        "outputId": "43ef6cb0-99e3-47b8-d5bc-0bf217bca831"
      },
      "execution_count": null,
      "outputs": [
        {
          "output_type": "stream",
          "name": "stdout",
          "text": [
            "Enter the first set of characters separated by commas: My name is mukul\n",
            "Enter the second set of characters separated by commas: my age is 22\n",
            "The union of the two sets is: {'my age is 22', 'My name is mukul'}\n"
          ]
        }
      ]
    },
    {
      "cell_type": "markdown",
      "source": [
        "Q27.Develop a code that takes  tuple of integers as input. The function should return the maximum and munimum values from the tiple using tuple unpacking."
      ],
      "metadata": {
        "id": "tI6stLxRPhAt"
      }
    },
    {
      "cell_type": "code",
      "source": [
        "def find_max_min(values):\n",
        "    # Ensure the input is not empty\n",
        "    if not values:\n",
        "        raise ValueError(\"The tuple is empty. Cannot determine max and min values.\")\n",
        "\n",
        "    # Find maximum and minimum values\n",
        "    max_value = max(values)\n",
        "    min_value = min(values)\n",
        "\n",
        "    # Return the maximum and minimum values as a tuple\n",
        "    return max_value, min_value\n",
        "\n",
        "# Example usage\n",
        "input_tuple = (10, 20, 30, 40, 50)\n",
        "max_value, min_value = find_max_min(input_tuple)\n",
        "print(\"Maximum value:\", max_value)  # Output: Maximum value: 50\n",
        "print(\"Minimum value:\", min_value)  # Output: Minimum value: 10\n",
        "\n"
      ],
      "metadata": {
        "colab": {
          "base_uri": "https://localhost:8080/"
        },
        "id": "pTdChb8LQowF",
        "outputId": "a5d66ce3-0717-468c-8c55-0eee877b9042"
      },
      "execution_count": null,
      "outputs": [
        {
          "output_type": "stream",
          "name": "stdout",
          "text": [
            "Maximum value: 50\n",
            "Minimum value: 10\n"
          ]
        }
      ]
    },
    {
      "cell_type": "markdown",
      "source": [
        "Q28.Create  a code that defines two sets of integers. Then, print the union, intersection, and difference of these two sets."
      ],
      "metadata": {
        "id": "37UzRVPbQzGJ"
      }
    },
    {
      "cell_type": "code",
      "source": [
        "def set_operations(set1, set2):\n",
        "    # Calculate union\n",
        "    union = set1 | set2\n",
        "\n",
        "    # Calculate intersection\n",
        "    intersection = set1 & set2\n",
        "\n",
        "    # Calculate difference (elements in set1 but not in set2)\n",
        "    difference = set1 - set2\n",
        "\n",
        "    # Print results\n",
        "    print(\"Union of the two sets:\", union)\n",
        "    print(\"Intersection of the two sets:\", intersection)\n",
        "    print(\"Difference of the two sets (set1 - set2):\", difference)\n",
        "\n",
        "# Define two sets of integers\n",
        "set1 = {1, 2, 3, 4, 5}\n",
        "set2 = {4, 5, 6, 7, 8}\n",
        "\n",
        "# Perform set operations\n",
        "set_operations(set1, set2)\n"
      ],
      "metadata": {
        "colab": {
          "base_uri": "https://localhost:8080/"
        },
        "id": "aEF3U_yERpRz",
        "outputId": "d6f7145e-b209-4031-eb9a-76f504ddb1c6"
      },
      "execution_count": null,
      "outputs": [
        {
          "output_type": "stream",
          "name": "stdout",
          "text": [
            "Union of the two sets: {1, 2, 3, 4, 5, 6, 7, 8}\n",
            "Intersection of the two sets: {4, 5}\n",
            "Difference of the two sets (set1 - set2): {1, 2, 3}\n"
          ]
        }
      ]
    },
    {
      "cell_type": "markdown",
      "source": [
        "Q29.Write  a code that takes a tuple and an element as input. The function should return the count of occurrences of the given element in the tuple."
      ],
      "metadata": {
        "id": "-R3lLR-RRuOh"
      }
    },
    {
      "cell_type": "code",
      "source": [
        "def count_occurrences(tpl, element):\n",
        "    return tpl.count(element)\n",
        "\n",
        "# Example usage:\n",
        "my_tuple = (1, 2, 3, 2, 2, 4)\n",
        "element_to_count = 2\n",
        "print(count_occurrences(my_tuple, element_to_count))\n"
      ],
      "metadata": {
        "colab": {
          "base_uri": "https://localhost:8080/"
        },
        "id": "JR5T2CNmSsek",
        "outputId": "2b627bca-0977-4814-dfe4-a79f2bd7801e"
      },
      "execution_count": null,
      "outputs": [
        {
          "output_type": "stream",
          "name": "stdout",
          "text": [
            "3\n"
          ]
        }
      ]
    },
    {
      "cell_type": "markdown",
      "source": [
        "Q30.Develop a code that prompts the user to input two sets of strings.Then, print the symmetric difference of these two sets."
      ],
      "metadata": {
        "id": "dH1YHoPSS0r6"
      }
    },
    {
      "cell_type": "code",
      "source": [
        "def get_set_from_input(prompt):\n",
        "    user_input = input(prompt)\n",
        "    # Split the input by commas and strip whitespace\n",
        "    return set(map(str.strip, user_input.split(',')))\n",
        "\n",
        "# Get the sets from the user\n",
        "set1 = get_set_from_input(\"Enter the first set of strings (comma-separated): \")\n",
        "set2 = get_set_from_input(\"Enter the second set of strings (comma-separated): \")\n",
        "\n",
        "# Calculate the symmetric difference\n",
        "symmetric_diff = set1.symmetric_difference(set2)\n",
        "\n",
        "# Print the result\n",
        "print(\"Symmetric difference:\", symmetric_diff)\n"
      ],
      "metadata": {
        "colab": {
          "base_uri": "https://localhost:8080/"
        },
        "id": "nGorIHSlUGAo",
        "outputId": "e497038d-d0d1-4794-9dbe-e11b03a5f303"
      },
      "execution_count": null,
      "outputs": [
        {
          "output_type": "stream",
          "name": "stdout",
          "text": [
            "Enter the first set of strings (comma-separated): apple\n",
            "Enter the second set of strings (comma-separated): mango\n",
            "Symmetric difference: {'mango', 'apple'}\n"
          ]
        }
      ]
    },
    {
      "cell_type": "markdown",
      "source": [
        "Q31.Write a code that takes a list of words as input and returns a dictionary where the keys are unique words and the frequencies of those words in the input list."
      ],
      "metadata": {
        "id": "3CIF2RmcUUdF"
      }
    },
    {
      "cell_type": "code",
      "source": [
        "def word_frequencies(words):\n",
        "    # Create an empty dictionary to store the frequencies\n",
        "    frequency_dict = {}\n",
        "\n",
        "    # Iterate over each word in the list\n",
        "    for word in words:\n",
        "        # If the word is already in the dictionary, increment its count\n",
        "        if word in frequency_dict:\n",
        "            frequency_dict[word] += 1\n",
        "        # If the word is not in the dictionary, add it with a count of 1\n",
        "        else:\n",
        "            frequency_dict[word] = 1\n",
        "\n",
        "    return frequency_dict\n",
        "\n",
        "# Example usage:\n",
        "words_list = input(\"Enter a list of words (comma-separated): \").split(',')\n",
        "words_list = [word.strip() for word in words_list]  # Strip any extra spaces\n",
        "frequencies = word_frequencies(words_list)\n",
        "print(\"Word frequencies:\", frequencies)\n"
      ],
      "metadata": {
        "colab": {
          "base_uri": "https://localhost:8080/"
        },
        "id": "Hp80PKSaVLB7",
        "outputId": "184c4d47-3461-484c-aca0-d5168fe09305"
      },
      "execution_count": null,
      "outputs": [
        {
          "output_type": "stream",
          "name": "stdout",
          "text": [
            "Enter a list of words (comma-separated): apple ,mango, banana, lichi\n",
            "Word frequencies: {'apple': 1, 'mango': 1, 'banana': 1, 'lichi': 1}\n"
          ]
        }
      ]
    },
    {
      "cell_type": "markdown",
      "source": [
        "Q32.Write a code that takes two dictionaries as input and merges them into a single dictionary. if there are common keys, the values should be added together."
      ],
      "metadata": {
        "id": "wyBsHQ6cVbH9"
      }
    },
    {
      "cell_type": "code",
      "source": [
        "def merge_dicts(dict1, dict2):\n",
        "    # Create a new dictionary to store the merged results\n",
        "    merged_dict = dict1.copy()  # Start with a copy of dict1\n",
        "\n",
        "    # Iterate over the second dictionary\n",
        "    for key, value in dict2.items():\n",
        "        if key in merged_dict:\n",
        "            # If the key exists in both dictionaries, add the values\n",
        "            merged_dict[key] += value\n",
        "        else:\n",
        "            # Otherwise, add the new key-value pair\n",
        "            merged_dict[key] = value\n",
        "\n",
        "    return merged_dict\n",
        "\n",
        "# Example usage\n",
        "dict1 = {'a': 1, 'b': 2, 'c': 3}\n",
        "dict2 = {'b': 3, 'c': 4, 'd': 5}\n",
        "\n",
        "result = merge_dicts(dict1, dict2)\n",
        "print(result)\n"
      ],
      "metadata": {
        "colab": {
          "base_uri": "https://localhost:8080/"
        },
        "id": "t16hk5xkWL1-",
        "outputId": "eb5f98d5-3c99-4af3-8a52-37fad8ec7ed6"
      },
      "execution_count": null,
      "outputs": [
        {
          "output_type": "stream",
          "name": "stdout",
          "text": [
            "{'a': 1, 'b': 5, 'c': 7, 'd': 5}\n"
          ]
        }
      ]
    },
    {
      "cell_type": "markdown",
      "source": [
        "Q33. write a code to access a value in a nested dictionary. The function sholud take the dictonary and a list of keys as input, and return the corresponding value. i  any of the keys do not exist in the dictionary, the function should return None."
      ],
      "metadata": {
        "id": "THeILXg-WPPg"
      }
    },
    {
      "cell_type": "code",
      "source": [
        "def get_nested_value(d, keys):\n",
        "    \"\"\"\n",
        "    Access a value in a nested dictionary using a list of keys.\n",
        "\n",
        "    :param d: The dictionary to search.\n",
        "    :param keys: A list of keys representing the path to the desired value.\n",
        "    :return: The value corresponding to the path, or None if any key is not found.\n",
        "    \"\"\"\n",
        "    current_value = d\n",
        "    for key in keys:\n",
        "        if isinstance(current_value, dict) and key in current_value:\n",
        "            current_value = current_value[key]\n",
        "        else:\n",
        "            return None\n",
        "    return current_value\n",
        "\n",
        "# Example usage\n",
        "nested_dict = {\n",
        "    'a': {\n",
        "        'b': {\n",
        "            'c': 10\n",
        "        }\n",
        "    }\n",
        "}\n",
        "keys = ['a', 'b', 'c']\n",
        "result = get_nested_value(nested_dict, keys)\n",
        "print(result)  # Output: 10\n",
        "\n",
        "# Testing a key that doesn't exist\n",
        "keys_invalid = ['a', 'b', 'd']\n",
        "result_invalid = get_nested_value(nested_dict, keys_invalid)\n",
        "print(result_invalid)  # Output: None\n"
      ],
      "metadata": {
        "colab": {
          "base_uri": "https://localhost:8080/"
        },
        "id": "HmxBJ0vRXfE6",
        "outputId": "4ee57f7a-0237-47a9-d989-bc4c0a849140"
      },
      "execution_count": null,
      "outputs": [
        {
          "output_type": "stream",
          "name": "stdout",
          "text": [
            "10\n",
            "None\n"
          ]
        }
      ]
    },
    {
      "cell_type": "markdown",
      "source": [
        "Q34.Write a code that takes a dictionary as input and returns a sorted version of it based on the values. you can choose whether to sort in ascending or descending order."
      ],
      "metadata": {
        "id": "cdibusAUXkN3"
      }
    },
    {
      "cell_type": "code",
      "source": [
        "def sort_dict_by_values(d, descending=False):\n",
        "    \"\"\"\n",
        "    Sort a dictionary by its values.\n",
        "\n",
        "    :param d: The dictionary to be sorted.\n",
        "    :param descending: Whether to sort in descending order. Default is False (ascending).\n",
        "    :return: A new dictionary sorted by values.\n",
        "    \"\"\"\n",
        "    # Sort the dictionary items based on values and return a new dictionary\n",
        "    sorted_dict = dict(sorted(d.items(), key=lambda item: item[1], reverse=descending))\n",
        "    return sorted_dict\n",
        "\n",
        "# Example usage\n",
        "my_dict = {'a': 3, 'b': 1, 'c': 2}\n",
        "\n",
        "# Sorting in ascending order\n",
        "sorted_dict_asc = sort_dict_by_values(my_dict)\n",
        "print(\"Ascending:\", sorted_dict_asc)  # Output: {'b': 1, 'c': 2, 'a': 3}\n",
        "\n",
        "# Sorting in descending order\n",
        "sorted_dict_desc = sort_dict_by_values(my_dict, descending=True)\n",
        "print(\"Descending:\", sorted_dict_desc)  # Output: {'a': 3, 'c': 2, 'b': 1}\n"
      ],
      "metadata": {
        "colab": {
          "base_uri": "https://localhost:8080/"
        },
        "id": "jYBUl930YOEh",
        "outputId": "212a398a-e3fb-4e4f-d888-e66aeaa80c5a"
      },
      "execution_count": null,
      "outputs": [
        {
          "output_type": "stream",
          "name": "stdout",
          "text": [
            "Ascending: {'b': 1, 'c': 2, 'a': 3}\n",
            "Descending: {'a': 3, 'c': 2, 'b': 1}\n"
          ]
        }
      ]
    },
    {
      "cell_type": "markdown",
      "source": [
        "Q35.Write a code that inverts a dictionary,swapping keys and values.ensure that the inverted dictionary correctly handle cases where multiple keys have the same values by sorting the keys as a list in the inverted dictionary"
      ],
      "metadata": {
        "id": "NIPpJnyzYTnL"
      }
    },
    {
      "cell_type": "code",
      "source": [
        "def invert_dict(d):\n",
        "    \"\"\"\n",
        "    Invert a dictionary, swapping keys and values.\n",
        "    If multiple keys have the same value, store the keys in a sorted list.\n",
        "\n",
        "    :param d: The dictionary to be inverted.\n",
        "    :return: The inverted dictionary.\n",
        "    \"\"\"\n",
        "    inverted_dict = {}\n",
        "\n",
        "    for key, value in d.items():\n",
        "        if value in inverted_dict:\n",
        "            # If the value is already a key in the inverted dictionary\n",
        "            if isinstance(inverted_dict[value], list):\n",
        "                inverted_dict[value].append(key)\n",
        "                inverted_dict[value].sort()  # Ensure the list is sorted\n",
        "            else:\n",
        "                # Convert existing single key to a list and add the new key\n",
        "                inverted_dict[value] = sorted([inverted_dict[value], key])\n",
        "        else:\n",
        "            # If the value is not yet a key in the inverted dictionary\n",
        "            inverted_dict[value] = key\n",
        "\n",
        "    return inverted_dict\n",
        "\n",
        "# Example usage\n",
        "original_dict = {'a': 1, 'b': 2, 'c': 1, 'd': 3}\n",
        "\n",
        "inverted_dict = invert_dict(original_dict)\n",
        "print(inverted_dict)\n"
      ],
      "metadata": {
        "id": "ZVWQTD5UZPsN",
        "outputId": "5b6216c5-760a-4363-93fc-06e059b7874a",
        "colab": {
          "base_uri": "https://localhost:8080/"
        }
      },
      "execution_count": null,
      "outputs": [
        {
          "output_type": "stream",
          "name": "stdout",
          "text": [
            "{1: ['a', 'c'], 2: 'b', 3: 'd'}\n"
          ]
        }
      ]
    }
  ]
}