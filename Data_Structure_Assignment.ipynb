{
  "nbformat": 4,
  "nbformat_minor": 0,
  "metadata": {
    "colab": {
      "provenance": [],
      "include_colab_link": true
    },
    "kernelspec": {
      "name": "python3",
      "display_name": "Python 3"
    },
    "language_info": {
      "name": "python"
    }
  },
  "cells": [
    {
      "cell_type": "markdown",
      "metadata": {
        "id": "view-in-github",
        "colab_type": "text"
      },
      "source": [
        "<a href=\"https://colab.research.google.com/github/sk2470423/sk2470423/blob/main/Data_Structure_Assignment.ipynb\" target=\"_parent\"><img src=\"https://colab.research.google.com/assets/colab-badge.svg\" alt=\"Open In Colab\"/></a>"
      ]
    },
    {
      "cell_type": "markdown",
      "source": [
        "# Q.1. Discuss string slicing and provide examples.\n",
        "Ans. String slicing is a fundamental process where we extract a subset of characters from a larger string by specifying a start index,end index and optionally a step value.\n",
        "It follows the basic format as :-  \n",
        "                  **string [start:stop:step]**\n",
        "\n",
        " (a). start : it is the starting index of the slice.\n",
        "\n",
        " (b). stop : it is the ending index of the slice.\n",
        "\n",
        " (c). step : it is the increment between the indices.\n",
        "\n",
        " Python slicing can be done in two ways :-  \n",
        " (i). using a slice() method\n",
        " (ii). using the array slicing [::  ] method\n",
        "\n",
        " **Examples :-**\n",
        "\n",
        " (a). Ommiting Start Index -\n",
        "\n",
        "\n",
        "\n"
      ],
      "metadata": {
        "id": "kpQoIu5qDkrx"
      }
    },
    {
      "cell_type": "code",
      "source": [
        "\"Hello World!\" [ :5]"
      ],
      "metadata": {
        "colab": {
          "base_uri": "https://localhost:8080/",
          "height": 35
        },
        "id": "KR5tFeTOIomR",
        "outputId": "03404850-8438-48d3-94d7-946ee78106fb"
      },
      "execution_count": null,
      "outputs": [
        {
          "output_type": "execute_result",
          "data": {
            "text/plain": [
              "'Hello'"
            ],
            "application/vnd.google.colaboratory.intrinsic+json": {
              "type": "string"
            }
          },
          "metadata": {},
          "execution_count": 7
        }
      ]
    },
    {
      "cell_type": "markdown",
      "source": [
        "(b).Omitting End Index -\n",
        "\n"
      ],
      "metadata": {
        "id": "LmjAx4WRI4KE"
      }
    },
    {
      "cell_type": "code",
      "source": [
        "\"Hello World!\" [6 : ]"
      ],
      "metadata": {
        "colab": {
          "base_uri": "https://localhost:8080/",
          "height": 35
        },
        "id": "btCSSNj5JJWj",
        "outputId": "fa9a1bd3-bddb-488f-cc80-accaeb43889d"
      },
      "execution_count": null,
      "outputs": [
        {
          "output_type": "execute_result",
          "data": {
            "text/plain": [
              "'World!'"
            ],
            "application/vnd.google.colaboratory.intrinsic+json": {
              "type": "string"
            }
          },
          "metadata": {},
          "execution_count": 10
        }
      ]
    },
    {
      "cell_type": "markdown",
      "source": [
        "(c).Reversing a String -"
      ],
      "metadata": {
        "id": "YNp52ULCJbLW"
      }
    },
    {
      "cell_type": "code",
      "source": [
        "\"Hello World!\" [:: -1]"
      ],
      "metadata": {
        "colab": {
          "base_uri": "https://localhost:8080/",
          "height": 35
        },
        "id": "X_eUi5NiJitQ",
        "outputId": "fb698ac8-00f7-46e3-eb5b-d7601ebb7c60"
      },
      "execution_count": null,
      "outputs": [
        {
          "output_type": "execute_result",
          "data": {
            "text/plain": [
              "'!dlroW olleH'"
            ],
            "application/vnd.google.colaboratory.intrinsic+json": {
              "type": "string"
            }
          },
          "metadata": {},
          "execution_count": 11
        }
      ]
    },
    {
      "cell_type": "markdown",
      "source": [
        "(d). **Python Example:-**\n"
      ],
      "metadata": {
        "id": "nRtlJyJHJ3aS"
      }
    },
    {
      "cell_type": "code",
      "source": [
        "my_string = \"Hello World!\"\n",
        "print (my_string [0:5])"
      ],
      "metadata": {
        "colab": {
          "base_uri": "https://localhost:8080/"
        },
        "id": "Pf6G6wINKC6n",
        "outputId": "32895f3b-34ef-4432-8124-2436b3b66488"
      },
      "execution_count": null,
      "outputs": [
        {
          "output_type": "stream",
          "name": "stdout",
          "text": [
            "Hello\n"
          ]
        }
      ]
    },
    {
      "cell_type": "markdown",
      "source": [
        "___________________________________________________________________________"
      ],
      "metadata": {
        "id": "jsLU2kjZKUpF"
      }
    },
    {
      "cell_type": "markdown",
      "source": [
        "# **Q.2. Explain the key features of  Lists in Python.**\n",
        "Ans. Lists are fundamental data structure. They offer powerful features for data manipulation.A List is a collection of things enclosed in [  ] and separated by commas.\n",
        "\n",
        "Some of the features of Lists are as follows :-  \n",
        "(a). Python Lists are just like dynamically sized arrays, declared in other languages like :- vector in C++ and ArrayList in Java.\n",
        "\n",
        "(b). Lists are the most powerful tool in Python.One of its reason is that it need not be homogeneous always.\n",
        "\n",
        "(c). Elements can be added to the List by using the built in **append ()** method. Only one element at a time can be added to the list by this method.\n",
        "\n",
        "(d). Inserting, Removing, Reversing, Slicing etc. can also be done in Lists.\n",
        "\n",
        "(e). Different methods like :- append ( ), extend ( ), insert ( ), remove ( ), pop ( ) are used in Lists.\n",
        "\n",
        "**Example :-**\n",
        "\n",
        "Creating a List  in Python :-\n"
      ],
      "metadata": {
        "id": "f3Z93I1XKaAs"
      }
    },
    {
      "cell_type": "code",
      "source": [
        "my_list = [1,2,3,\"hello\", 4.5]"
      ],
      "metadata": {
        "id": "fefoyU1_O-jh"
      },
      "execution_count": null,
      "outputs": []
    },
    {
      "cell_type": "markdown",
      "source": [
        "___________________________________________________________________________"
      ],
      "metadata": {
        "id": "zIVjUpAMPUHO"
      }
    },
    {
      "cell_type": "markdown",
      "source": [
        "# **Q.3. Describe how to access,modify and delete elements in a list with examples.**\n",
        "Ans. The processes to access, modify and delete elements in a lists are explained below :-  \n",
        "**Accessing Elements in Lists -**\n",
        "In order to access the list items refer to the index number.Use the index operator [  ] to access an item in a list. The index must be an integer."
      ],
      "metadata": {
        "id": "C_D2Q-j0PWcC"
      }
    },
    {
      "cell_type": "code",
      "source": [
        "# Creating a List with\n",
        "# the use of multiple values\n",
        "List= [ 1,2,3,4]\n",
        "#accessing an element for the\n",
        "# list using index number\n",
        "print (\"Accessing a element from the list\")\n",
        "print (List [0])\n",
        "print (List [2])"
      ],
      "metadata": {
        "colab": {
          "base_uri": "https://localhost:8080/"
        },
        "id": "Vl0zmWb7SLlp",
        "outputId": "5676d268-c7e5-4bf7-9a38-d9af46daa1f7"
      },
      "execution_count": null,
      "outputs": [
        {
          "output_type": "stream",
          "name": "stdout",
          "text": [
            "Accessing a element from the list\n",
            "1\n",
            "3\n"
          ]
        }
      ]
    },
    {
      "cell_type": "markdown",
      "source": [
        "**Delelting elements from Lists -**\n",
        "Elements can be deleted from Lists using built-in remove() function as :-  "
      ],
      "metadata": {
        "id": "IHZAo2NqTBmh"
      }
    },
    {
      "cell_type": "code",
      "source": [
        "# Creating a List\n",
        "List = [1,2,3,4,5,6,7,8,9,10]\n",
        "print (\"Initial List: \")\n",
        "print (List)\n",
        "\n",
        "# Removing elements from List\n",
        "# using Remove () method\n",
        "List. remove (5)\n",
        "List. remove (6)\n",
        "print(\"\\n List after removal of two elements: \")\n",
        "print (List)"
      ],
      "metadata": {
        "colab": {
          "base_uri": "https://localhost:8080/"
        },
        "id": "LxyqzaQCUXWc",
        "outputId": "38e9d9a7-3a3a-43f9-eead-7c01496031ac"
      },
      "execution_count": null,
      "outputs": [
        {
          "output_type": "stream",
          "name": "stdout",
          "text": [
            "Initial List: \n",
            "[1, 2, 3, 4, 5, 6, 7, 8, 9, 10]\n",
            "\n",
            " List after removal of two elements: \n",
            "[1, 2, 3, 4, 7, 8, 9, 10]\n"
          ]
        }
      ]
    },
    {
      "cell_type": "markdown",
      "source": [
        "Elements can also be Deleted from List using pop() method as -"
      ],
      "metadata": {
        "id": "aoYz3WZ8VRBm"
      }
    },
    {
      "cell_type": "code",
      "source": [
        "List = [1,2,3,4,5]\n",
        "# Removing element from the\n",
        "# Set using the pop( ) method\n",
        "List. pop()\n",
        "print(\"\\n List after popping an element:\")\n",
        "print (List)"
      ],
      "metadata": {
        "colab": {
          "base_uri": "https://localhost:8080/"
        },
        "id": "10exxKfkVckS",
        "outputId": "0083af3d-d0bc-494b-d314-32656157e3f7"
      },
      "execution_count": null,
      "outputs": [
        {
          "output_type": "stream",
          "name": "stdout",
          "text": [
            "\n",
            " List after popping an element:\n",
            "[1, 2, 3, 4]\n"
          ]
        }
      ]
    },
    {
      "cell_type": "markdown",
      "source": [
        "**Modifying elements in Lists-**\n",
        "We can assign new value in a List or insert elements at a specific index or append ( means adding elements to the end) or extend the number of elements in a List. These are the modifications that can be done in Lists."
      ],
      "metadata": {
        "id": "fk4BOETFWTtM"
      }
    },
    {
      "cell_type": "code",
      "source": [
        "my_list = [1,2,3,4,5]\n",
        "my_list [0]=10\n",
        "print (my_list)"
      ],
      "metadata": {
        "colab": {
          "base_uri": "https://localhost:8080/"
        },
        "id": "MBIiD0iEXKc9",
        "outputId": "d31ba568-8183-423b-cacb-7a6a2fee503d"
      },
      "execution_count": null,
      "outputs": [
        {
          "output_type": "stream",
          "name": "stdout",
          "text": [
            "[10, 2, 3, 4, 5]\n"
          ]
        }
      ]
    },
    {
      "cell_type": "code",
      "source": [
        "my_list=[1,2,3,4]\n",
        "my_list.append(4)\n",
        "print(my_list)"
      ],
      "metadata": {
        "colab": {
          "base_uri": "https://localhost:8080/"
        },
        "id": "TYZDmeNXXo0J",
        "outputId": "d9b6efa6-3aaa-4911-fb4c-b8c6267b9320"
      },
      "execution_count": null,
      "outputs": [
        {
          "output_type": "stream",
          "name": "stdout",
          "text": [
            "[1, 2, 3, 4, 4]\n"
          ]
        }
      ]
    },
    {
      "cell_type": "markdown",
      "source": [
        "___________________________________________________________________________"
      ],
      "metadata": {
        "id": "xXP8v-M9X5aw"
      }
    },
    {
      "cell_type": "markdown",
      "source": [
        "# **Q.4. Compare and contrast tuples and lists with examples.**\n",
        "Ans. Lists and tuples are two classes Python Data Structures.There are some similarities and some differences between Lists and Tuples which can be seen below :-  \n",
        "\n",
        "**Similarities :-**\n",
        "\n",
        "(a). Lists and Tuples both store multiple values.\n",
        "\n",
        "(b). Both are ordered collections.\n",
        "\n",
        "(c). Both support indexing, slicing and iteration.\n",
        "\n",
        "**Differences :-**\n",
        "\n",
        "(a). List is dynamic in nature whereas Tuple is static and can't be changed.\n",
        "\n",
        "(b). Tuples are immutable but Lists are mutable.\n",
        "\n",
        "(c). Tuples use parantheses (  ) but Lists use brackets [  ].\n",
        "\n",
        "**Examples :-**\n",
        "\n"
      ],
      "metadata": {
        "id": "37sYfJUhX7lo"
      }
    },
    {
      "cell_type": "code",
      "source": [
        "my_tuple = (1,2,3,4,5,)\n",
        "print (my_tuple [ :3])"
      ],
      "metadata": {
        "colab": {
          "base_uri": "https://localhost:8080/"
        },
        "id": "bgXEhpyBZ95v",
        "outputId": "4255aff9-ec37-44c9-c8d8-47d9e435f4bd"
      },
      "execution_count": null,
      "outputs": [
        {
          "output_type": "stream",
          "name": "stdout",
          "text": [
            "(1, 2, 3)\n"
          ]
        }
      ]
    },
    {
      "cell_type": "code",
      "source": [
        "my_list = [1,2,3,4,5]\n",
        "print (my_list[0])"
      ],
      "metadata": {
        "colab": {
          "base_uri": "https://localhost:8080/"
        },
        "id": "-mDZpnrIbtPW",
        "outputId": "1b7b70c3-0868-4ea5-96dc-f7bd0b0a4235"
      },
      "execution_count": null,
      "outputs": [
        {
          "output_type": "stream",
          "name": "stdout",
          "text": [
            "1\n"
          ]
        }
      ]
    },
    {
      "cell_type": "markdown",
      "source": [
        "__________________________________________________________________________"
      ],
      "metadata": {
        "id": "1AMW0kFmcDYk"
      }
    },
    {
      "cell_type": "markdown",
      "source": [
        "# **Q.5. Describe the key features of sets and provide examples of their use.**\n",
        "Ans. Sets are a fundamental data structure in Python which offer efficient and powerful features for managing unique elements.Some of the key features of sts and their examples are given below :-  \n",
        " (a). Sets are unordered collection of unique elements.\n",
        "\n",
        " (b). No duplicate or repeated elements are allowed in sets.\n",
        "\n",
        " (c). There is support for mathematical operations such as union, intersection, difference.\n",
        "\n",
        " (d). They are mutable.\n",
        "\n",
        " (e). Sets provide efficient and powerful features for managing unique elements.\n",
        "\n",
        " Some examples are :-  \n",
        " 1. Union of Sets -  "
      ],
      "metadata": {
        "id": "ZNkE0sIpcGA5"
      }
    },
    {
      "cell_type": "code",
      "source": [
        "# Python Program to\n",
        "# demonstrate union of\n",
        "# two sets\n",
        "\n",
        "people = {\"Jay\", \"Idrish\", \"Archil\"}\n",
        "vampires = {\"Karan\", \"Arjun\"}\n",
        "dracula = {\"Deepanshu\", \"Raju\"}\n",
        "\n",
        "# Union using union()\n",
        "# function\n",
        "population = people.union(vampires)\n",
        "\n",
        "print(\"Union using union() function\")\n",
        "print(population)\n",
        "\n",
        "# Union using \"|\"\n",
        "# operator\n",
        "population = people|dracula\n",
        "\n",
        "print(\"\\nUnion using '|' operator\")\n",
        "print(population)\n"
      ],
      "metadata": {
        "colab": {
          "base_uri": "https://localhost:8080/"
        },
        "id": "Swt8-lqsflDE",
        "outputId": "9b13e4cb-08c7-4fb1-daa6-6fb445ec6229"
      },
      "execution_count": null,
      "outputs": [
        {
          "output_type": "stream",
          "name": "stdout",
          "text": [
            "Union using union() function\n",
            "{'Jay', 'Idrish', 'Karan', 'Archil', 'Arjun'}\n",
            "\n",
            "Union using '|' operator\n",
            "{'Raju', 'Jay', 'Idrish', 'Archil', 'Deepanshu'}\n"
          ]
        }
      ]
    },
    {
      "cell_type": "markdown",
      "source": [
        "2. Intersection of Sets -"
      ],
      "metadata": {
        "id": "jOZC8JM_fx5q"
      }
    },
    {
      "cell_type": "code",
      "source": [
        "# Python program to\n",
        "# demonstrate intersection\n",
        "# of two sets\n",
        "\n",
        "set1 = set()\n",
        "set2 = set()\n",
        "\n",
        "for i in range(5):\n",
        "    set1.add(i)\n",
        "\n",
        "for i in range(3,9):\n",
        "    set2.add(i)\n",
        "\n",
        "# Intersection using\n",
        "# intersection() function\n",
        "set3 = set1.intersection(set2)\n",
        "\n",
        "print(\"Intersection using intersection() function\")\n",
        "print(set3)\n",
        "\n",
        "# Intersection using\n",
        "# \"&\" operator\n",
        "set3 = set1 & set2\n",
        "\n",
        "print(\"\\nIntersection using '&' operator\")\n",
        "print(set3)\n"
      ],
      "metadata": {
        "colab": {
          "base_uri": "https://localhost:8080/"
        },
        "id": "P_eZc2qjf80H",
        "outputId": "778ea484-14a7-4ba2-ac14-ea90a602d4ea"
      },
      "execution_count": null,
      "outputs": [
        {
          "output_type": "stream",
          "name": "stdout",
          "text": [
            "Intersection using intersection() function\n",
            "{3, 4}\n",
            "\n",
            "Intersection using '&' operator\n",
            "{3, 4}\n"
          ]
        }
      ]
    },
    {
      "cell_type": "markdown",
      "source": [
        "3. Difference of sets -"
      ],
      "metadata": {
        "id": "IlzAe7uxgCsW"
      }
    },
    {
      "cell_type": "code",
      "source": [
        "# Python program to\n",
        "# demonstrate difference\n",
        "# of two sets\n",
        "\n",
        "set1 = set()\n",
        "set2 = set()\n",
        "\n",
        "for i in range(5):\n",
        "    set1.add(i)\n",
        "\n",
        "for i in range(3,9):\n",
        "    set2.add(i)\n",
        "\n",
        "# Difference of two sets\n",
        "# using difference() function\n",
        "set3 = set1.difference(set2)\n",
        "\n",
        "print(\" Difference of two sets using difference() function\")\n",
        "print(set3)\n",
        "\n",
        "# Difference of two sets\n",
        "# using '-' operator\n",
        "set3 = set1 - set2\n",
        "\n",
        "print(\"\\nDifference of two sets using '-' operator\")\n",
        "print(set3)\n"
      ],
      "metadata": {
        "colab": {
          "base_uri": "https://localhost:8080/"
        },
        "id": "N1zzKpZ0gHTl",
        "outputId": "1a5c6368-8152-404e-a21a-3c33e065c63d"
      },
      "execution_count": null,
      "outputs": [
        {
          "output_type": "stream",
          "name": "stdout",
          "text": [
            " Difference of two sets using difference() function\n",
            "{0, 1, 2}\n",
            "\n",
            "Difference of two sets using '-' operator\n",
            "{0, 1, 2}\n"
          ]
        }
      ]
    },
    {
      "cell_type": "markdown",
      "source": [
        "___________________________________________________________________________"
      ],
      "metadata": {
        "id": "88GQU4SwgMqm"
      }
    },
    {
      "cell_type": "markdown",
      "source": [
        "# *Q.6. Discuss the use case of tuples and sets in Python programming.*\n",
        "Ans. Tuples are immutable and ordered collection of values.\n",
        "\n",
        "Use cases of tuples are :-  \n",
        "(a). it stores data that should not change.\n",
        "\n",
        "(b). used for passing multiple to functions.\n",
        "\n",
        "(c). used to represent rows in a database or items in a list.\n",
        "\n",
        "(d). tuples are used as keys in dictionaries.\n",
        "\n",
        "Sets are unordered collection of unique values.\n",
        "\n",
        "Use cases of sets are :-  \n",
        "\n",
        "(a). remove duplicates from lists.\n",
        "\n",
        "(b). to check if an element exists.\n",
        "\n",
        "(c). to perform set operations like union,intersection, difference.\n",
        "\n",
        "(d). improves query performance.\n",
        "\n",
        "**Examples :-**\n",
        "\n",
        "Using tuples as dictionary keys -\n"
      ],
      "metadata": {
        "id": "7q4iTpYagsPC"
      }
    },
    {
      "cell_type": "code",
      "source": [
        "data = {(1,2):\"value 1\",(3,4):\"value 2\"}\n",
        "print(data[(1,2)])"
      ],
      "metadata": {
        "colab": {
          "base_uri": "https://localhost:8080/"
        },
        "id": "1Xc2V3CxjkHV",
        "outputId": "bf7d6ff8-fe48-44c3-8351-186677ec33b7"
      },
      "execution_count": null,
      "outputs": [
        {
          "output_type": "stream",
          "name": "stdout",
          "text": [
            "value 1\n"
          ]
        }
      ]
    },
    {
      "cell_type": "markdown",
      "source": [
        "Using Sets for removing duplicates -"
      ],
      "metadata": {
        "id": "9qv6i1mykG1P"
      }
    },
    {
      "cell_type": "code",
      "source": [
        "names = [\"John\",\"Mary\",\"John\"]\n",
        "unique_names=set(names)\n",
        "print(unique_names)"
      ],
      "metadata": {
        "colab": {
          "base_uri": "https://localhost:8080/"
        },
        "id": "KzFoxJorkSZI",
        "outputId": "01415161-d140-47aa-c254-7cefbe0de332"
      },
      "execution_count": null,
      "outputs": [
        {
          "output_type": "stream",
          "name": "stdout",
          "text": [
            "{'John', 'Mary'}\n"
          ]
        }
      ]
    },
    {
      "cell_type": "markdown",
      "source": [
        "__________________________________________________________________________"
      ],
      "metadata": {
        "id": "1lMwmlWCkp36"
      }
    },
    {
      "cell_type": "markdown",
      "source": [
        "# **Q.7. Describe how to add,modify and delete items in a dictionary with examples.**\n",
        "Ans. Given below is mentioned how to add, modify and delete items in a dictionary :-  \n",
        "\n",
        "(a). Adding items in a dictionary -\n",
        "\n",
        "1. update (  ) method :    "
      ],
      "metadata": {
        "id": "nIT8uuGHksSD"
      }
    },
    {
      "cell_type": "code",
      "source": [
        "my_dict={\"name\":\"John\",\"age\":30}\n",
        "my_dict.update({\"country\":\"USA\",\"city\":\"New York\"})\n",
        "print(my_dict)"
      ],
      "metadata": {
        "colab": {
          "base_uri": "https://localhost:8080/"
        },
        "id": "zej4KvcPmf2f",
        "outputId": "87450474-5e83-4e00-d55b-b0275ae65b04"
      },
      "execution_count": null,
      "outputs": [
        {
          "output_type": "stream",
          "name": "stdout",
          "text": [
            "{'name': 'John', 'age': 30, 'country': 'USA', 'city': 'New York'}\n"
          ]
        }
      ]
    },
    {
      "cell_type": "markdown",
      "source": [
        "2. setdefault (  ) method -"
      ],
      "metadata": {
        "id": "bJaRAACvnA6v"
      }
    },
    {
      "cell_type": "code",
      "source": [
        "my_dict={\"name\":\"John\",\"age\":30}\n",
        "my_dict.setdefault(\"country\",\"USA\")\n",
        "print(my_dict)"
      ],
      "metadata": {
        "colab": {
          "base_uri": "https://localhost:8080/"
        },
        "id": "iqudyfOXnJjD",
        "outputId": "e66e7d52-fd22-4165-b3e3-38d947c13b6c"
      },
      "execution_count": null,
      "outputs": [
        {
          "output_type": "stream",
          "name": "stdout",
          "text": [
            "{'name': 'John', 'age': 30, 'country': 'USA'}\n"
          ]
        }
      ]
    },
    {
      "cell_type": "markdown",
      "source": [
        "(b). Modifying items in a dictionary -\n",
        "\n",
        "1. update ( ) method :  "
      ],
      "metadata": {
        "id": "7joQ-yCTnpVk"
      }
    },
    {
      "cell_type": "code",
      "source": [
        "my_dict = {\"name\": \"John\", \"age\": 30}\n",
        "my_dict.update({\"age\": 31, \"name\": \"Jane\"})\n",
        "print(my_dict)"
      ],
      "metadata": {
        "colab": {
          "base_uri": "https://localhost:8080/"
        },
        "id": "8V9f3HpmnzDJ",
        "outputId": "c4c35741-3480-4d51-ffd7-794004ca7673"
      },
      "execution_count": null,
      "outputs": [
        {
          "output_type": "stream",
          "name": "stdout",
          "text": [
            "{'name': 'Jane', 'age': 31}\n"
          ]
        }
      ]
    },
    {
      "cell_type": "markdown",
      "source": [
        "(c). Deleting items in a dictionary -\n",
        "\n",
        "1. pop (  ) method : removes last inserted item."
      ],
      "metadata": {
        "id": "duUG3HSKotXr"
      }
    },
    {
      "cell_type": "code",
      "source": [
        "my_dict = {\"name\": \"John\", \"age\": 30}\n",
        "my_dict.pop(\"age\")\n",
        "print(my_dict)"
      ],
      "metadata": {
        "colab": {
          "base_uri": "https://localhost:8080/"
        },
        "id": "N0kY-Fk5o93H",
        "outputId": "53f07814-83b2-484c-9555-640184dfd754"
      },
      "execution_count": null,
      "outputs": [
        {
          "output_type": "stream",
          "name": "stdout",
          "text": [
            "{'name': 'John'}\n"
          ]
        }
      ]
    },
    {
      "cell_type": "markdown",
      "source": [
        "2. clear (  ) method : used for removing all the items."
      ],
      "metadata": {
        "id": "OxE4OQi-pQrO"
      }
    },
    {
      "cell_type": "code",
      "source": [
        "my_dict = {\"name\": \"John\", \"age\": 30}\n",
        "my_dict.clear()\n",
        "print(my_dict)"
      ],
      "metadata": {
        "colab": {
          "base_uri": "https://localhost:8080/"
        },
        "id": "LjYBlG1fpiY-",
        "outputId": "d1f9addf-91b5-4b02-81f0-2a812d268226"
      },
      "execution_count": null,
      "outputs": [
        {
          "output_type": "stream",
          "name": "stdout",
          "text": [
            "{}\n"
          ]
        }
      ]
    },
    {
      "cell_type": "markdown",
      "source": [
        "___________________________________________________________________________"
      ],
      "metadata": {
        "id": "yLJW2wpXp8WW"
      }
    },
    {
      "cell_type": "markdown",
      "source": [
        "# **Q.8. Discuss the importance of dictionary keys being immutable and provide examples.**\n",
        "Ans.In Python, dictionary keys must be immutable, means they can't be changed after creation. This is due to several reasons :-  \n",
        "(a). Hashing :-  dictionary keys are hashed for efficiency.Immutable keys ensure consistent hash values for fast and reliable key retrievals.\n",
        "\n",
        "(b). Uniqueness :- Immutability guarantees unique keys and prevents accidental key duplication.\n",
        "\n",
        "(c). Predictability :- Immutable keys simplifies debugging and maintenance.\n",
        "\n",
        "There are different types of immutable keys used :-  \n",
        "\n",
        "1. Integers (int) :1,2,3 etc.\n",
        "\n",
        "2. Floats (float) : 3.14,-0.15,etc.\n",
        "\n",
        "3. Strings (str) : \"hello\", \"world\", etc.\n",
        "\n",
        "4. tuples :(1,2,3), (a,b,c), etc.\n",
        "\n",
        "Some operations of immutable keys are stated below :-  \n",
        "1. Using tuples as keys -"
      ],
      "metadata": {
        "id": "023dsKZ9p-9R"
      }
    },
    {
      "cell_type": "code",
      "source": [
        "my_tuple=(1,2,3)\n",
        "my_dict={my_tuple:\"value\"}\n",
        "print(my_dict[my_tuple])"
      ],
      "metadata": {
        "colab": {
          "base_uri": "https://localhost:8080/"
        },
        "id": "S0ITKVOqtT4k",
        "outputId": "b162a178-be6f-4ad0-f154-a49d6e930e6a"
      },
      "execution_count": null,
      "outputs": [
        {
          "output_type": "stream",
          "name": "stdout",
          "text": [
            "value\n"
          ]
        }
      ]
    },
    {
      "cell_type": "markdown",
      "source": [
        "2. Converting mutable keys into immutable -"
      ],
      "metadata": {
        "id": "m-2t4rw1tvpD"
      }
    },
    {
      "cell_type": "code",
      "source": [
        "my_list=[1,2,3]\n",
        "my_tuple=tuple(my_list)  #Convert list to tuple\n",
        "my_dict={my_tuple:\"value\"}\n",
        "print(my_dict[my_tuple])"
      ],
      "metadata": {
        "colab": {
          "base_uri": "https://localhost:8080/"
        },
        "id": "y3HjsJNot7rz",
        "outputId": "5194ad58-5ad2-484f-e794-b966a4979465"
      },
      "execution_count": null,
      "outputs": [
        {
          "output_type": "stream",
          "name": "stdout",
          "text": [
            "value\n"
          ]
        }
      ]
    },
    {
      "cell_type": "markdown",
      "source": [
        "3. Attempting to use mutable keys -"
      ],
      "metadata": {
        "id": "P62zlpbGueJ4"
      }
    },
    {
      "cell_type": "code",
      "source": [
        "my_list=[1,2,3]\n",
        "my_dict={my_list:\"value\"}"
      ],
      "metadata": {
        "colab": {
          "base_uri": "https://localhost:8080/",
          "height": 158
        },
        "id": "rOasOfSvungO",
        "outputId": "566bded3-479f-441a-a115-4ed34b6c2392"
      },
      "execution_count": null,
      "outputs": [
        {
          "output_type": "error",
          "ename": "TypeError",
          "evalue": "unhashable type: 'list'",
          "traceback": [
            "\u001b[0;31m---------------------------------------------------------------------------\u001b[0m",
            "\u001b[0;31mTypeError\u001b[0m                                 Traceback (most recent call last)",
            "\u001b[0;32m<ipython-input-37-8552c465d604>\u001b[0m in \u001b[0;36m<cell line: 2>\u001b[0;34m()\u001b[0m\n\u001b[1;32m      1\u001b[0m \u001b[0mmy_list\u001b[0m\u001b[0;34m=\u001b[0m\u001b[0;34m[\u001b[0m\u001b[0;36m1\u001b[0m\u001b[0;34m,\u001b[0m\u001b[0;36m2\u001b[0m\u001b[0;34m,\u001b[0m\u001b[0;36m3\u001b[0m\u001b[0;34m]\u001b[0m\u001b[0;34m\u001b[0m\u001b[0;34m\u001b[0m\u001b[0m\n\u001b[0;32m----> 2\u001b[0;31m \u001b[0mmy_dict\u001b[0m\u001b[0;34m=\u001b[0m\u001b[0;34m{\u001b[0m\u001b[0mmy_list\u001b[0m\u001b[0;34m:\u001b[0m\u001b[0;34m\"value\"\u001b[0m\u001b[0;34m}\u001b[0m\u001b[0;34m\u001b[0m\u001b[0;34m\u001b[0m\u001b[0m\n\u001b[0m",
            "\u001b[0;31mTypeError\u001b[0m: unhashable type: 'list'"
          ]
        }
      ]
    },
    {
      "cell_type": "markdown",
      "source": [
        "From above code we can see that when we try to use mutable keys, we get an Error.\n",
        "___________________________________________________________________________"
      ],
      "metadata": {
        "id": "j2o-HYX8u77M"
      }
    }
  ]
}