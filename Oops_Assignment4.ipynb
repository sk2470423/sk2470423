{
  "nbformat": 4,
  "nbformat_minor": 0,
  "metadata": {
    "colab": {
      "provenance": [],
      "include_colab_link": true
    },
    "kernelspec": {
      "name": "python3",
      "display_name": "Python 3"
    },
    "language_info": {
      "name": "python"
    }
  },
  "cells": [
    {
      "cell_type": "markdown",
      "metadata": {
        "id": "view-in-github",
        "colab_type": "text"
      },
      "source": [
        "<a href=\"https://colab.research.google.com/github/sk2470423/sk2470423/blob/main/Oops_Assignment4.ipynb\" target=\"_parent\"><img src=\"https://colab.research.google.com/assets/colab-badge.svg\" alt=\"Open In Colab\"/></a>"
      ]
    },
    {
      "cell_type": "markdown",
      "source": [
        "# **Assignment - Oops**"
      ],
      "metadata": {
        "id": "3yHF5mnIlAry"
      }
    },
    {
      "cell_type": "markdown",
      "source": [
        "## **Q1- What are the five key concepts of Object-Oriented Programming (OOP)?**\n",
        "**Ans -** The five key concepts of Object-Oriented Programming (OOP) are:\n",
        "\n",
        "1. **Encapsulation**: This concept involves bundling the data (attributes) and methods (functions) that operate on the data into a single unit called a class. It restricts direct access to some of an object's components, which can prevent unintended interference and misuse.\n",
        "\n",
        "2. **Abstraction**: Abstraction focuses on hiding complex implementation details and exposing only the essential features of an object. This allows developers to interact with objects at a high level without needing to understand the underlying complexities.\n",
        "\n",
        "3. **Inheritance**: Inheritance allows a new class (subclass) to inherit properties and behaviors (methods) from an existing class (superclass). This promotes code reusability and establishes a hierarchical relationship between classes.\n",
        "\n",
        "4. **Polymorphism**: Polymorphism enables objects of different classes to be treated as objects of a common superclass. It allows methods to do different things based on the object it is acting upon, typically implemented through method overriding and method overloading.\n",
        "\n",
        "5. **Composition**: Composition is a design principle where a class is composed of one or more objects from other classes, allowing for a “has-a” relationship. This promotes flexibility and reusability by enabling complex types to be built from simpler ones.\n",
        "\n",
        "These concepts work together to create a robust framework for organizing and managing code in a modular and efficient way.\n"
      ],
      "metadata": {
        "id": "YSjJIOLdX_Up"
      }
    },
    {
      "cell_type": "markdown",
      "source": [
        "##**Q2-  Write a Python class for a `Car` with attributes for `make`, `model`, and `year`. Include a method to display the car's information.**"
      ],
      "metadata": {
        "id": "9Rt6N2fhYZ8g"
      }
    },
    {
      "cell_type": "code",
      "source": [
        "class Car:\n",
        "    def __init__(self, make, model, year):\n",
        "        self.make = make\n",
        "        self.model = model\n",
        "        self.year = year\n",
        "\n",
        "    def display_info(self):\n",
        "        print(f\"Car Information:\\nMake: {self.make}\\nModel: {self.model}\\nYear: {self.year}\")\n",
        "\n",
        "# Example usage:\n",
        "my_car = Car(\"Toyota\", \"Camry\", 2020)\n",
        "my_car.display_info()"
      ],
      "metadata": {
        "colab": {
          "base_uri": "https://localhost:8080/"
        },
        "id": "K8hPtWeSZG0I",
        "outputId": "865a97c4-2837-4070-9a01-d366fddd93e4"
      },
      "execution_count": null,
      "outputs": [
        {
          "output_type": "stream",
          "name": "stdout",
          "text": [
            "Car Information:\n",
            "Make: Toyota\n",
            "Model: Camry\n",
            "Year: 2020\n"
          ]
        }
      ]
    },
    {
      "cell_type": "markdown",
      "source": [
        "## **Q3-  Explain the difference between instance methods and class methods. Provide an example of each.**\n",
        "**Ans -** In Python, instance methods and class methods are two different types of methods that serve different purposes in a class. Here's an explanation of each along with examples:\n",
        "\n",
        "### **Instance Methods**\n",
        "\n",
        "  **Definition:** Instance methods are functions defined within a class that operate on instances of that class. They take self as the first parameter, which refers to the specific instance of the class.\n",
        "  \n",
        "  **Purpose:** These methods can access and modify instance attributes.\n",
        "\n",
        "**Example:**"
      ],
      "metadata": {
        "id": "_nI-OQZgZSTU"
      }
    },
    {
      "cell_type": "code",
      "source": [
        "class Dog:\n",
        "    def __init__(self, name):\n",
        "        self.name = name\n",
        "\n",
        "    def bark(self):\n",
        "        print(f\"{self.name} says woof!\")\n",
        "\n",
        "# Example usage\n",
        "my_dog = Dog(\"Buddy\")\n",
        "my_dog.bark()"
      ],
      "metadata": {
        "colab": {
          "base_uri": "https://localhost:8080/"
        },
        "id": "AmdfW6Y2Z6ac",
        "outputId": "d5655f1f-829f-4425-dd3b-aeba2106aaea"
      },
      "execution_count": null,
      "outputs": [
        {
          "output_type": "stream",
          "name": "stdout",
          "text": [
            "Buddy says woof!\n"
          ]
        }
      ]
    },
    {
      "cell_type": "markdown",
      "source": [
        "### **Class Methods**\n",
        "\n",
        "  **Definition:** Class methods are functions defined within a class that are bound to the class rather than its instances. They take cls as the first parameter, which refers to the class itself.\n",
        "    \n",
        "  **Purpose:** Class methods can be used to access class-level attributes and modify class state. They are decorated with @classmethod.\n",
        "\n",
        "**Example:**"
      ],
      "metadata": {
        "id": "lGGnUIRiZ-bO"
      }
    },
    {
      "cell_type": "code",
      "source": [
        "class Dog:\n",
        "    species = \"Canis lupus familiaris\"  # Class attribute\n",
        "\n",
        "    @classmethod\n",
        "    def get_species(cls):\n",
        "        return cls.species\n",
        "\n",
        "# Example usage\n",
        "print(Dog.get_species())"
      ],
      "metadata": {
        "colab": {
          "base_uri": "https://localhost:8080/"
        },
        "id": "IbkRWhUCaNqh",
        "outputId": "00771a54-0cb6-4b6d-c2f4-ebf03a8fd18d"
      },
      "execution_count": null,
      "outputs": [
        {
          "output_type": "stream",
          "name": "stdout",
          "text": [
            "Canis lupus familiaris\n"
          ]
        }
      ]
    },
    {
      "cell_type": "markdown",
      "source": [
        "## **Q4- How does Python implement method overloading? Give an example.**\n",
        "**Ans -** Python does not support method overloading in the traditional sense, like some other languages (e.g., Java or C++). Instead, Python allows you to define a method with the same name, but it does not automatically differentiate between them based on the number or type of arguments. The most recent definition of the method will overwrite the previous ones.\n",
        "\n",
        "However, you can achieve similar behavior using default arguments or by using variable-length arguments (*args and **kwargs). Here’s an example of how you can simulate method overloading in Python:\n",
        "\n",
        "**Example Using Default Arguments**"
      ],
      "metadata": {
        "id": "qV2RoSEVaS_9"
      }
    },
    {
      "cell_type": "code",
      "source": [
        "class Calculator:\n",
        "    def add(self, a, b=0, c=0):\n",
        "        return a + b + c\n",
        "\n",
        "# Example usage\n",
        "calc = Calculator()\n",
        "print(calc.add(5))\n",
        "print(calc.add(5, 10))\n",
        "print(calc.add(5, 10, 15))"
      ],
      "metadata": {
        "colab": {
          "base_uri": "https://localhost:8080/"
        },
        "id": "loprIXB1auka",
        "outputId": "7890f4e2-8395-43d7-d425-b39c6687d293"
      },
      "execution_count": null,
      "outputs": [
        {
          "output_type": "stream",
          "name": "stdout",
          "text": [
            "5\n",
            "15\n",
            "30\n"
          ]
        }
      ]
    },
    {
      "cell_type": "markdown",
      "source": [
        "**Example Using Variable-Length Arguments**"
      ],
      "metadata": {
        "id": "miO9c1CZa7Ds"
      }
    },
    {
      "cell_type": "code",
      "source": [
        "class Calculator:\n",
        "    def add(self, *args):\n",
        "        return sum(args)\n",
        "\n",
        "# Example usage\n",
        "calc = Calculator()\n",
        "print(calc.add(5))\n",
        "print(calc.add(5, 10))\n",
        "print(calc.add(5, 10, 15))\n",
        "print(calc.add(1, 2, 3, 4, 5))"
      ],
      "metadata": {
        "colab": {
          "base_uri": "https://localhost:8080/"
        },
        "id": "zQ_gk4GZa_6I",
        "outputId": "a372ba9b-874b-45c8-90d1-3e8edb7d1184"
      },
      "execution_count": null,
      "outputs": [
        {
          "output_type": "stream",
          "name": "stdout",
          "text": [
            "5\n",
            "15\n",
            "30\n",
            "15\n"
          ]
        }
      ]
    },
    {
      "cell_type": "markdown",
      "source": [
        "## **Q5-  What are the three types of access modifiers in Python? How are they denoted?**\n",
        "**Ans -** In Python, there are three types of access modifiers that control the visibility and accessibility of class members (attributes and methods). They are:\n",
        "\n",
        "### **1. Public**\n",
        "\n",
        "**Definition:** Public members are accessible from outside the class. They can be accessed directly without any restrictions.\n",
        "    \n",
        "**Denotation**: Public members are defined without any special prefix.\n",
        "\n",
        "### **Example:**"
      ],
      "metadata": {
        "id": "_3cXm8w6bIll"
      }
    },
    {
      "cell_type": "code",
      "source": [
        "class MyClass:\n",
        "    def __init__(self):\n",
        "        self.public_attribute = \"I am public\"\n",
        "\n",
        "obj = MyClass()\n",
        "print(obj.public_attribute)"
      ],
      "metadata": {
        "colab": {
          "base_uri": "https://localhost:8080/"
        },
        "id": "KnBhgoltbujk",
        "outputId": "b76ab315-0c89-4a5b-f651-fb9052528f22"
      },
      "execution_count": null,
      "outputs": [
        {
          "output_type": "stream",
          "name": "stdout",
          "text": [
            "I am public\n"
          ]
        }
      ]
    },
    {
      "cell_type": "markdown",
      "source": [
        "### **2. Protected**\n",
        "\n",
        "**Definition:** Protected members are intended to be accessible within the class and its subclasses. They are not meant to be accessed directly from outside the class hierarchy.\n",
        "    \n",
        "**Denotation:** Protected members are denoted by a single underscore (_) prefix.\n",
        "\n",
        "### **Example:**"
      ],
      "metadata": {
        "id": "jbfHHPp9b1zL"
      }
    },
    {
      "cell_type": "code",
      "source": [
        "class MyClass:\n",
        "    def __init__(self):\n",
        "        self._protected_attribute = \"I am protected\"\n",
        "\n",
        "class SubClass(MyClass):\n",
        "    def access_protected(self):\n",
        "        return self._protected_attribute\n",
        "\n",
        "obj = SubClass()\n",
        "print(obj.access_protected())  # Accessible within subclass: Output: I am protected"
      ],
      "metadata": {
        "colab": {
          "base_uri": "https://localhost:8080/"
        },
        "id": "5zhPz6wEcEH4",
        "outputId": "040f453c-03a0-4a87-8cda-ed85aed6406f"
      },
      "execution_count": null,
      "outputs": [
        {
          "output_type": "stream",
          "name": "stdout",
          "text": [
            "I am protected\n"
          ]
        }
      ]
    },
    {
      "cell_type": "markdown",
      "source": [
        "### **3. Private**\n",
        "\n",
        "**Definition:** Private members are meant to be accessible only within the class itself. They cannot be accessed from outside the class or by subclasses.\n",
        "    \n",
        "**Denotation:** Private members are denoted by a double underscore (__) prefix, which triggers name mangling (the interpreter changes the name of the variable to include the class name).\n",
        "\n",
        "### **Example:**"
      ],
      "metadata": {
        "id": "Xi_UY4S1cKFn"
      }
    },
    {
      "cell_type": "code",
      "source": [
        "class MyClass:\n",
        "    def __init__(self):\n",
        "        self.__private_attribute = \"I am private\"\n",
        "\n",
        "    def access_private(self):\n",
        "        return self.__private_attribute\n",
        "\n",
        "obj = MyClass()\n",
        "print(obj.access_private())  # Accessible via class method: Output: I am private\n",
        "\n",
        "# Attempting to access directly will raise an AttributeError\n",
        "# print(obj.__private_attribute)  # Uncommenting this line will raise an error"
      ],
      "metadata": {
        "colab": {
          "base_uri": "https://localhost:8080/"
        },
        "id": "G3Fl0rEycXs8",
        "outputId": "18e57e01-180b-4daf-ac13-2a896af56f68"
      },
      "execution_count": null,
      "outputs": [
        {
          "output_type": "stream",
          "name": "stdout",
          "text": [
            "I am private\n"
          ]
        }
      ]
    },
    {
      "cell_type": "markdown",
      "source": [
        "## **Q6-  Describe the five types of inheritance in Python. Provide a simple example of multiple inheritance.**\n",
        "**Ans -** In Python, there are five main types of inheritance:\n",
        "\n",
        "### **1. Single Inheritance**\n",
        "\n",
        "In single inheritance, a class (subclass) inherits from one superclass (base class).\n",
        "\n",
        "**Example:**"
      ],
      "metadata": {
        "id": "jH5MvdoCcgwo"
      }
    },
    {
      "cell_type": "code",
      "source": [
        "class Animal:\n",
        "    def speak(self):\n",
        "        return \"Animal speaks\"\n",
        "\n",
        "class Dog(Animal):\n",
        "    def bark(self):\n",
        "        return \"Woof!\"\n",
        "\n",
        "dog = Dog()\n",
        "print(dog.speak())\n",
        "print(dog.bark())"
      ],
      "metadata": {
        "colab": {
          "base_uri": "https://localhost:8080/"
        },
        "id": "exAERGcFc9x3",
        "outputId": "421c63d6-423f-46cc-8412-4adf9a23f7cd"
      },
      "execution_count": null,
      "outputs": [
        {
          "output_type": "stream",
          "name": "stdout",
          "text": [
            "Animal speaks\n",
            "Woof!\n"
          ]
        }
      ]
    },
    {
      "cell_type": "markdown",
      "source": [
        "###**2. Multiple Inheritance**\n",
        "\n",
        "In multiple inheritance, a class can inherit from more than one superclass. This allows the subclass to access attributes and methods from multiple parent classes.\n",
        "\n",
        "### **Example:**"
      ],
      "metadata": {
        "id": "obphVSDgdEhh"
      }
    },
    {
      "cell_type": "code",
      "source": [
        "class Flyer:\n",
        "    def fly(self):\n",
        "        return \"I can fly!\"\n",
        "\n",
        "class Swimmer:\n",
        "    def swim(self):\n",
        "        return \"I can swim!\"\n",
        "\n",
        "class Duck(Flyer, Swimmer):\n",
        "    def quack(self):\n",
        "        return \"Quack!\"\n",
        "\n",
        "duck = Duck()\n",
        "print(duck.fly())\n",
        "print(duck.swim())\n",
        "print(duck.quack())"
      ],
      "metadata": {
        "colab": {
          "base_uri": "https://localhost:8080/"
        },
        "id": "RDa0Vhm5dT1M",
        "outputId": "5f6e459c-d94d-43f1-f50c-ce1f0508f753"
      },
      "execution_count": null,
      "outputs": [
        {
          "output_type": "stream",
          "name": "stdout",
          "text": [
            "I can fly!\n",
            "I can swim!\n",
            "Quack!\n"
          ]
        }
      ]
    },
    {
      "cell_type": "markdown",
      "source": [
        "### **3. Multilevel Inheritance**\n",
        "\n",
        "In multilevel inheritance, a class inherits from a subclass, forming a hierarchy.\n",
        "\n",
        "### **Example:**"
      ],
      "metadata": {
        "id": "-gAbyCvzdfuL"
      }
    },
    {
      "cell_type": "code",
      "source": [
        "class Animal:\n",
        "    def speak(self):\n",
        "        return \"Animal speaks\"\n",
        "\n",
        "class Dog(Animal):\n",
        "    def bark(self):\n",
        "        return \"Woof!\"\n",
        "\n",
        "class Puppy(Dog):\n",
        "    def whimper(self):\n",
        "        return \"Whimper!\"\n",
        "\n",
        "puppy = Puppy()\n",
        "print(puppy.speak())\n",
        "print(puppy.bark())\n",
        "print(puppy.whimper())"
      ],
      "metadata": {
        "colab": {
          "base_uri": "https://localhost:8080/"
        },
        "id": "wBCaDTVmdn4f",
        "outputId": "ac3ecc76-b62c-4f7c-9f51-c0b65443246c"
      },
      "execution_count": null,
      "outputs": [
        {
          "output_type": "stream",
          "name": "stdout",
          "text": [
            "Animal speaks\n",
            "Woof!\n",
            "Whimper!\n"
          ]
        }
      ]
    },
    {
      "cell_type": "markdown",
      "source": [
        "### **4. Hierarchical Inheritance**\n",
        "\n",
        "In hierarchical inheritance, multiple subclasses inherit from a single superclass.\n",
        "\n",
        "### **Example:**"
      ],
      "metadata": {
        "id": "AXeMaQ6IdvR-"
      }
    },
    {
      "cell_type": "code",
      "source": [
        "class Animal:\n",
        "    def speak(self):\n",
        "        return \"Animal speaks\"\n",
        "\n",
        "class Dog(Animal):\n",
        "    def bark(self):\n",
        "        return \"Woof!\"\n",
        "\n",
        "class Cat(Animal):\n",
        "    def meow(self):\n",
        "        return \"Meow!\"\n",
        "\n",
        "dog = Dog()\n",
        "cat = Cat()\n",
        "print(dog.speak())\n",
        "print(cat.speak())\n",
        "print(dog.bark())\n",
        "print(cat.meow())"
      ],
      "metadata": {
        "colab": {
          "base_uri": "https://localhost:8080/"
        },
        "id": "2MshTcGNd2L1",
        "outputId": "9e6502b7-1ad5-43e6-c55e-cf259695ba0b"
      },
      "execution_count": null,
      "outputs": [
        {
          "output_type": "stream",
          "name": "stdout",
          "text": [
            "Animal speaks\n",
            "Animal speaks\n",
            "Woof!\n",
            "Meow!\n"
          ]
        }
      ]
    },
    {
      "cell_type": "markdown",
      "source": [
        "### **5. Hybrid Inheritance**\n",
        "\n",
        "Hybrid inheritance is a combination of two or more types of inheritance. It can include multiple inheritance, multilevel inheritance, etc.\n",
        "\n",
        "### **Example:**"
      ],
      "metadata": {
        "id": "jokPMXjLd-L2"
      }
    },
    {
      "cell_type": "code",
      "source": [
        "class A:\n",
        "    pass\n",
        "\n",
        "class B(A):\n",
        "    pass\n",
        "\n",
        "class C(A):\n",
        "    pass\n",
        "\n",
        "class D(B, C):  # D inherits from both B and C, which inherit from A\n",
        "    pass"
      ],
      "metadata": {
        "id": "vwXJrIB9eGPi"
      },
      "execution_count": null,
      "outputs": []
    },
    {
      "cell_type": "markdown",
      "source": [
        "## **Q7-  What is the Method Resolution Order (MRO) in Python? How can you retrieve it programmatically?**\n",
        "**Ans -** Method Resolution Order (MRO) in Python is the order in which classes are looked up when searching for a method or an attribute. This is particularly important in multiple inheritance scenarios, where the same method might exist in more than one parent class.\n",
        "\n",
        "**Python uses the C3 linearization algorithm to determine the MRO, ensuring that:**\n",
        "\n",
        "**1-** A class is always considered before its parent classes.\n",
        "\n",
        "**2-** The order of parent classes is preserved.\n",
        "\n",
        "**3-** A class cannot appear before its parents in the MRO.\n",
        "\n",
        "### **How to Retrieve MRO Programmatically**\n",
        "\n",
        "You can retrieve the MRO of a class using the __mro__ attribute or the mro() method.\n",
        "\n",
        "### **Example:**"
      ],
      "metadata": {
        "id": "QgKsUaiCeLFt"
      }
    },
    {
      "cell_type": "code",
      "source": [
        "class A:\n",
        "    pass\n",
        "\n",
        "class B(A):\n",
        "    pass\n",
        "\n",
        "class C(A):\n",
        "    pass\n",
        "\n",
        "class D(B, C):  # D inherits from B and C\n",
        "    pass\n",
        "\n",
        "# Retrieve MRO using __mro__ attribute\n",
        "print(D.__mro__)\n",
        "\n",
        "# Retrieve MRO using mro() method\n",
        "print(D.mro())"
      ],
      "metadata": {
        "colab": {
          "base_uri": "https://localhost:8080/"
        },
        "id": "Iuxie1rce8Nl",
        "outputId": "1a7aba47-641b-4153-d5a8-02ff2b977546"
      },
      "execution_count": null,
      "outputs": [
        {
          "output_type": "stream",
          "name": "stdout",
          "text": [
            "(<class '__main__.D'>, <class '__main__.B'>, <class '__main__.C'>, <class '__main__.A'>, <class 'object'>)\n",
            "[<class '__main__.D'>, <class '__main__.B'>, <class '__main__.C'>, <class '__main__.A'>, <class 'object'>]\n"
          ]
        }
      ]
    },
    {
      "cell_type": "markdown",
      "source": [
        "## **Q8-  Create an abstract base class `Shape` with an abstract method `area()`. Then create two subclasses `Circle` and `Rectangle` that implement the `area()` method**\n",
        "**Ans -** Here's how you can create an abstract base class Shape with an abstract method area(), and then create two subclasses, Circle and Rectangle, that implement the area() method.\n",
        "\n",
        "### **Step 1: Create the Abstract Base Class**\n",
        "\n",
        "You will use the abc module to define the abstract base class."
      ],
      "metadata": {
        "id": "2C-OiDwKfNJc"
      }
    },
    {
      "cell_type": "code",
      "source": [
        "from abc import ABC, abstractmethod\n",
        "import math\n",
        "\n",
        "class Shape(ABC):\n",
        "    @abstractmethod\n",
        "    def area(self):\n",
        "        pass"
      ],
      "metadata": {
        "id": "CRbscTGHfvCl"
      },
      "execution_count": null,
      "outputs": []
    },
    {
      "cell_type": "markdown",
      "source": [
        "### **Step 2: Create Subclasses**\n",
        "\n",
        "Now, implement the Circle and Rectangle classes that inherit from Shape and define the area() method."
      ],
      "metadata": {
        "id": "gyfxEF_sf5sI"
      }
    },
    {
      "cell_type": "code",
      "source": [
        "class Circle(Shape):\n",
        "    def __init__(self, radius):\n",
        "        self.radius = radius\n",
        "\n",
        "    def area(self):\n",
        "        return math.pi * (self.radius ** 2)\n",
        "\n",
        "class Rectangle(Shape):\n",
        "    def __init__(self, width, height):\n",
        "        self.width = width\n",
        "        self.height = height\n",
        "\n",
        "    def area(self):\n",
        "        return self.width * self.height"
      ],
      "metadata": {
        "id": "CyLupv6MgA0k"
      },
      "execution_count": null,
      "outputs": []
    },
    {
      "cell_type": "markdown",
      "source": [
        "### **Step 3: Example Usage**\n",
        "\n",
        "You can now create instances of Circle and Rectangle and call their area() methods"
      ],
      "metadata": {
        "id": "bZhfanY7gFAp"
      }
    },
    {
      "cell_type": "code",
      "source": [
        "# Example usage\n",
        "circle = Circle(5)\n",
        "print(f\"Area of the circle: {circle.area():.2f}\")\n",
        "\n",
        "rectangle = Rectangle(4, 6)\n",
        "print(f\"Area of the rectangle: {rectangle.area()}\")"
      ],
      "metadata": {
        "colab": {
          "base_uri": "https://localhost:8080/"
        },
        "id": "LuhnYY7NgLXY",
        "outputId": "623d3a9c-b597-4fa5-e7f7-272ea215b638"
      },
      "execution_count": null,
      "outputs": [
        {
          "output_type": "stream",
          "name": "stdout",
          "text": [
            "Area of the circle: 78.54\n",
            "Area of the rectangle: 24\n"
          ]
        }
      ]
    },
    {
      "cell_type": "markdown",
      "source": [
        "## **Q9-  Demonstrate polymorphism by creating a function that can work with different shape objects to calculate and print their areas.**\n",
        "**Ans -** Polymorphism allows us to use a common interface for different data types. In this case, we can create a function that accepts various shape objects and calculates their areas. Here’s how you can implement this using the previously defined Shape, Circle, and Rectangle classes.\n",
        "\n",
        "### **Step 1: Define the Shape Classes**\n",
        "\n",
        "Make sure you have the Shape, Circle, and Rectangle classes defined as shown before.\n",
        "\n",
        "### **Step 2: Create the Polymorphic Function**\n",
        "\n",
        "You can create a function called print_area that takes a Shape object and prints its area."
      ],
      "metadata": {
        "id": "b8dpVpf6gRgY"
      }
    },
    {
      "cell_type": "code",
      "source": [
        "def print_area(shape):\n",
        "    print(f\"The area of the shape is: {shape.area():.2f}\")"
      ],
      "metadata": {
        "id": "QhQvzZfngto-"
      },
      "execution_count": null,
      "outputs": []
    },
    {
      "cell_type": "markdown",
      "source": [
        "### **Step 3: Example Usage**\n",
        "\n",
        "Now you can create instances of Circle and Rectangle, and pass them to the print_area function."
      ],
      "metadata": {
        "id": "tCIuFOsegxZX"
      }
    },
    {
      "cell_type": "code",
      "source": [
        "# Example usage\n",
        "circle = Circle(5)\n",
        "rectangle = Rectangle(4, 6)\n",
        "\n",
        "print_area(circle)\n",
        "print_area(rectangle)"
      ],
      "metadata": {
        "colab": {
          "base_uri": "https://localhost:8080/"
        },
        "id": "yM1qEWFAg38y",
        "outputId": "3253aa83-6355-47f6-dc50-4c251f5809a7"
      },
      "execution_count": null,
      "outputs": [
        {
          "output_type": "stream",
          "name": "stdout",
          "text": [
            "The area of the shape is: 78.54\n",
            "The area of the shape is: 24.00\n"
          ]
        }
      ]
    },
    {
      "cell_type": "markdown",
      "source": [
        "### **Full Code Example**\n",
        "\n",
        "Here’s the complete code combining all the components:"
      ],
      "metadata": {
        "id": "t9yKp4TAg-ce"
      }
    },
    {
      "cell_type": "code",
      "source": [
        "from abc import ABC, abstractmethod\n",
        "import math\n",
        "\n",
        "# Abstract Base Class\n",
        "class Shape(ABC):\n",
        "    @abstractmethod\n",
        "    def area(self):\n",
        "        pass\n",
        "\n",
        "# Subclass for Circle\n",
        "class Circle(Shape):\n",
        "    def __init__(self, radius):\n",
        "        self.radius = radius\n",
        "\n",
        "    def area(self):\n",
        "        return math.pi * (self.radius ** 2)\n",
        "\n",
        "# Subclass for Rectangle\n",
        "class Rectangle(Shape):\n",
        "    def __init__(self, width, height):\n",
        "        self.width = width\n",
        "        self.height = height\n",
        "\n",
        "    def area(self):\n",
        "        return self.width * self.height\n",
        "\n",
        "# Polymorphic function\n",
        "def print_area(shape):\n",
        "    print(f\"The area of the shape is: {shape.area():.2f}\")\n",
        "\n",
        "# Example usage\n",
        "circle = Circle(5)\n",
        "rectangle = Rectangle(4, 6)\n",
        "\n",
        "print_area(circle)\n",
        "print_area(rectangle)"
      ],
      "metadata": {
        "colab": {
          "base_uri": "https://localhost:8080/"
        },
        "id": "jdryubsdhFR5",
        "outputId": "1cae8295-f414-4af9-93a1-d15603a501cf"
      },
      "execution_count": null,
      "outputs": [
        {
          "output_type": "stream",
          "name": "stdout",
          "text": [
            "The area of the shape is: 78.54\n",
            "The area of the shape is: 24.00\n"
          ]
        }
      ]
    },
    {
      "cell_type": "markdown",
      "source": [
        "## **Q10- . Implement encapsulation in a `BankAccount` class with private attributes for `balance` and `account_number`. Include methods for deposit, withdrawal, and balance inquiry.**\n",
        "**Ans -** Here's how you can implement encapsulation in a BankAccount class with private attributes for balance and account_number. This class will include methods for depositing, withdrawing, and inquiring about the balance.\n",
        "\n",
        "### **Implementation of the BankAccount Class**\n"
      ],
      "metadata": {
        "id": "fefaySJXhNku"
      }
    },
    {
      "cell_type": "code",
      "source": [
        "class BankAccount:\n",
        "    def __init__(self, account_number, initial_balance=0):\n",
        "        self.__account_number = account_number  # Private attribute\n",
        "        self.__balance = initial_balance         # Private attribute\n",
        "\n",
        "    def deposit(self, amount):\n",
        "        if amount > 0:\n",
        "            self.__balance += amount\n",
        "            print(f\"Deposited: ${amount:.2f}\")\n",
        "        else:\n",
        "            print(\"Deposit amount must be positive.\")\n",
        "\n",
        "    def withdraw(self, amount):\n",
        "        if 0 < amount <= self.__balance:\n",
        "            self.__balance -= amount\n",
        "            print(f\"Withdrew: ${amount:.2f}\")\n",
        "        else:\n",
        "            print(\"Invalid withdrawal amount.\")\n",
        "\n",
        "    def get_balance(self):\n",
        "        return self.__balance\n",
        "\n",
        "    def get_account_number(self):\n",
        "        return self.__account_number\n",
        "\n",
        "# Example usage\n",
        "if __name__ == \"__main__\":\n",
        "    account = BankAccount(\"123456789\", 1000)\n",
        "\n",
        "    print(f\"Account Number: {account.get_account_number()}\")\n",
        "    print(f\"Initial Balance: ${account.get_balance():.2f}\")\n",
        "\n",
        "    account.deposit(500)\n",
        "    print(f\"New Balance: ${account.get_balance():.2f}\")\n",
        "\n",
        "    account.withdraw(200)\n",
        "    print(f\"New Balance: ${account.get_balance():.2f}\")\n",
        "\n",
        "    account.withdraw(2000)  # Invalid withdrawal"
      ],
      "metadata": {
        "colab": {
          "base_uri": "https://localhost:8080/"
        },
        "id": "HyDjWGhrhpkM",
        "outputId": "d6f82aee-32a1-40c2-be26-8f0879e0215d"
      },
      "execution_count": null,
      "outputs": [
        {
          "output_type": "stream",
          "name": "stdout",
          "text": [
            "Account Number: 123456789\n",
            "Initial Balance: $1000.00\n",
            "Deposited: $500.00\n",
            "New Balance: $1500.00\n",
            "Withdrew: $200.00\n",
            "New Balance: $1300.00\n",
            "Invalid withdrawal amount.\n"
          ]
        }
      ]
    },
    {
      "cell_type": "markdown",
      "source": [
        "## **Q11- . Write a class that overrides the `__str__` and `__add__` magic methods. What will these methods allow you to do?**\n",
        "**Ans -** In Python, the __str__ and __add__ magic methods allow you to define custom behavior for string representation and addition operations, respectively. Here's a class that demonstrates both:\n",
        "\n",
        "### **Implementation of a Custom Class**\n",
        "\n",
        "Let's create a class called Vector that represents a mathematical vector and overrides the __str__ and __add__ methods."
      ],
      "metadata": {
        "id": "ERcESg0rhvHG"
      }
    },
    {
      "cell_type": "code",
      "source": [
        "class Vector:\n",
        "    def __init__(self, x, y):\n",
        "        self.x = x\n",
        "        self.y = y\n",
        "\n",
        "    def __str__(self):\n",
        "        return f\"Vector({self.x}, {self.y})\"\n",
        "\n",
        "    def __add__(self, other):\n",
        "        if isinstance(other, Vector):\n",
        "            return Vector(self.x + other.x, self.y + other.y)\n",
        "        return NotImplemented\n",
        "\n",
        "# Example usage\n",
        "if __name__ == \"__main__\":\n",
        "    v1 = Vector(2, 3)\n",
        "    v2 = Vector(5, 7)\n",
        "\n",
        "    print(v1)           # Output: Vector(2, 3)\n",
        "    print(v2)           # Output: Vector(5, 7)\n",
        "\n",
        "    v3 = v1 + v2       # Using the __add__ method\n",
        "    print(v3)          # Output: Vector(7, 10)"
      ],
      "metadata": {
        "colab": {
          "base_uri": "https://localhost:8080/"
        },
        "id": "pEdH37f2iP6h",
        "outputId": "f2d122d9-5792-4fd0-e2ce-1d51d1e5c258"
      },
      "execution_count": null,
      "outputs": [
        {
          "output_type": "stream",
          "name": "stdout",
          "text": [
            "Vector(2, 3)\n",
            "Vector(5, 7)\n",
            "Vector(7, 10)\n"
          ]
        }
      ]
    },
    {
      "cell_type": "markdown",
      "source": [
        "## **Q12-  Create a decorator that measures and prints the execution time of a function.**\n",
        "**Ans -** We can create a decorator in Python that measures and prints the execution time of a function using the time module. Here’s how you can implement such a decorator:\n",
        "\n",
        "### **Implementation of the Execution Time Decorator**"
      ],
      "metadata": {
        "id": "LOIY9LNgiVeS"
      }
    },
    {
      "cell_type": "code",
      "source": [
        "import time\n",
        "\n",
        "def measure_execution_time(func):\n",
        "    def wrapper(*args, **kwargs):\n",
        "        start_time = time.time()  # Record the start time\n",
        "        result = func(*args, **kwargs)  # Call the original function\n",
        "        end_time = time.time()  # Record the end time\n",
        "        execution_time = end_time - start_time  # Calculate the execution time\n",
        "        print(f\"Execution time of {func.__name__}: {execution_time:.4f} seconds\")\n",
        "        return result  # Return the result of the original function\n",
        "    return wrapper\n",
        "\n",
        "# Example usage of the decorator\n",
        "@measure_execution_time\n",
        "def example_function(n):\n",
        "    total = 0\n",
        "    for i in range(n):\n",
        "        total += i\n",
        "    return total\n",
        "\n",
        "# Calling the decorated function\n",
        "result = example_function(1000000)"
      ],
      "metadata": {
        "colab": {
          "base_uri": "https://localhost:8080/"
        },
        "id": "t2OUHUw8iqX2",
        "outputId": "c4e8d9a6-af67-40f3-ff95-48ce3261d722"
      },
      "execution_count": null,
      "outputs": [
        {
          "output_type": "stream",
          "name": "stdout",
          "text": [
            "Execution time of example_function: 0.0721 seconds\n"
          ]
        }
      ]
    },
    {
      "cell_type": "markdown",
      "source": [
        "## **Q13- Explain the concept of the Diamond Problem in multiple inheritance. How does Python resolve it?**\n",
        "**Ans -** The Diamond Problem in multiple inheritance occurs when a class inherits from two classes that both inherit from a common superclass. This can create ambiguity about which method or attribute to use from the common ancestor, leading to potential conflicts.\n",
        "\n",
        "###**Example of the Diamond Problem**\n",
        "\n",
        "**Consider the following class structure:**"
      ],
      "metadata": {
        "id": "vyr1ewRSiv5-"
      }
    },
    {
      "cell_type": "code",
      "source": [
        "      A\n",
        "     / \\\n",
        "    B   C\n",
        "     \\ /\n",
        "      D"
      ],
      "metadata": {
        "id": "eO5YV1PsjNNU"
      },
      "execution_count": null,
      "outputs": []
    },
    {
      "cell_type": "markdown",
      "source": [
        "**In this diagram:**\n",
        "\n",
        "Class A is the superclass.\n",
        "Classes B and C inherit from A.\n",
        "Class D inherits from both B and C.\n",
        "\n",
        "\n",
        "If both B and C override a method from A, and an instance of D calls that method, which version of the method should be used? This ambiguity is known as the Diamond Problem.\n",
        "\n",
        "###**Python's Resolution of the Diamond Problem**\n",
        "\n",
        "Python resolves the Diamond Problem using the C3 Linearization algorithm (also known as the C3 superclass linearization). This algorithm provides a consistent method resolution order (MRO) that respects the order of inheritance and ensures that each class is called in a predictable way.\n",
        "\n",
        "###**MRO in Python**\n",
        "\n",
        "The MRO defines the order in which classes are checked when calling a method or accessing an attribute. You can view the MRO of a class using the __mro__ attribute or the mro() method.\n",
        "\n",
        "###**Example Implementation**\n",
        "\n",
        "Here's a concrete example to illustrate the Diamond Problem and how Python resolves it:"
      ],
      "metadata": {
        "id": "Dx7I7QPdjUxu"
      }
    },
    {
      "cell_type": "code",
      "source": [
        "class A:\n",
        "    def method(self):\n",
        "        return \"Method from A\"\n",
        "\n",
        "class B(A):\n",
        "    def method(self):\n",
        "        return \"Method from B\"\n",
        "\n",
        "class C(A):\n",
        "    def method(self):\n",
        "        return \"Method from C\"\n",
        "\n",
        "class D(B, C):\n",
        "    pass\n",
        "\n",
        "# Create an instance of D\n",
        "d = D()\n",
        "\n",
        "# Call the method\n",
        "print(d.method())\n",
        "\n",
        "# Check the MRO\n",
        "print(D.__mro__)"
      ],
      "metadata": {
        "colab": {
          "base_uri": "https://localhost:8080/"
        },
        "id": "gZbY5CNCj4mB",
        "outputId": "019de874-a40f-4872-e384-d9a2ec68948f"
      },
      "execution_count": null,
      "outputs": [
        {
          "output_type": "stream",
          "name": "stdout",
          "text": [
            "Method from B\n",
            "(<class '__main__.D'>, <class '__main__.B'>, <class '__main__.C'>, <class '__main__.A'>, <class 'object'>)\n"
          ]
        }
      ]
    },
    {
      "cell_type": "markdown",
      "source": [
        "## **Q14-  Write a class method that keeps track of the number of instances created from a class.**\n",
        "**Ans -** We can implement a class method that keeps track of the number of instances created from a class by maintaining a class-level attribute. Here’s how you can do that:\n",
        "\n",
        "### **Implementation of the Class with Instance Tracking**"
      ],
      "metadata": {
        "id": "_Mc4grZwkAAE"
      }
    },
    {
      "cell_type": "code",
      "source": [
        "class InstanceCounter:\n",
        "    instance_count = 0  # Class-level attribute to track the number of instances\n",
        "\n",
        "    def __init__(self):\n",
        "        InstanceCounter.instance_count += 1  # Increment count when a new instance is created\n",
        "\n",
        "    @classmethod\n",
        "    def get_instance_count(cls):\n",
        "        return cls.instance_count  # Return the current instance count\n",
        "\n",
        "# Example usage\n",
        "if __name__ == \"__main__\":\n",
        "    obj1 = InstanceCounter()\n",
        "    obj2 = InstanceCounter()\n",
        "    obj3 = InstanceCounter()\n",
        "\n",
        "    print(f\"Number of instances created: {InstanceCounter.get_instance_count()}\")"
      ],
      "metadata": {
        "colab": {
          "base_uri": "https://localhost:8080/"
        },
        "id": "5sobWOsOkVRE",
        "outputId": "69be391e-0fa4-4b6b-bae0-12bd328b41d5"
      },
      "execution_count": null,
      "outputs": [
        {
          "output_type": "stream",
          "name": "stdout",
          "text": [
            "Number of instances created: 3\n"
          ]
        }
      ]
    },
    {
      "cell_type": "markdown",
      "source": [
        "## **Q15- Implement a static method in a class that checks if a given year is a leap year.**\n",
        "**Ans -** We can implement a static method in a class to check if a given year is a leap year. Here's how you can do that:\n",
        "\n",
        "**Implementation of the Leap Year Checker**"
      ],
      "metadata": {
        "id": "8wg08XtqkbfA"
      }
    },
    {
      "cell_type": "code",
      "source": [
        "class YearUtils:\n",
        "    @staticmethod\n",
        "    def is_leap_year(year):\n",
        "        \"\"\"Check if a given year is a leap year.\"\"\"\n",
        "        if (year % 4 == 0 and year % 100 != 0) or (year % 400 == 0):\n",
        "            return True\n",
        "        return False\n",
        "\n",
        "# Example usage\n",
        "if __name__ == \"__main__\":\n",
        "    year = 2024\n",
        "    if YearUtils.is_leap_year(year):\n",
        "        print(f\"{year} is a leap year.\")\n",
        "    else:\n",
        "        print(f\"{year} is not a leap year.\")"
      ],
      "metadata": {
        "colab": {
          "base_uri": "https://localhost:8080/"
        },
        "id": "5GveZIWNk1J8",
        "outputId": "5381e5f8-7d4d-49c7-9e46-068fb78bccb6"
      },
      "execution_count": null,
      "outputs": [
        {
          "output_type": "stream",
          "name": "stdout",
          "text": [
            "2024 is a leap year.\n"
          ]
        }
      ]
    }
  ]
}