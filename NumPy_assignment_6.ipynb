{
  "nbformat": 4,
  "nbformat_minor": 0,
  "metadata": {
    "colab": {
      "provenance": [],
      "include_colab_link": true
    },
    "kernelspec": {
      "name": "python3",
      "display_name": "Python 3"
    },
    "language_info": {
      "name": "python"
    }
  },
  "cells": [
    {
      "cell_type": "markdown",
      "metadata": {
        "id": "view-in-github",
        "colab_type": "text"
      },
      "source": [
        "<a href=\"https://colab.research.google.com/github/sk2470423/sk2470423/blob/main/NumPy_assignment_6.ipynb\" target=\"_parent\"><img src=\"https://colab.research.google.com/assets/colab-badge.svg\" alt=\"Open In Colab\"/></a>"
      ]
    },
    {
      "cell_type": "markdown",
      "source": [
        "# **Assignment - Numpy**\n",
        "\n",
        "## **Theoretical Questions :-**"
      ],
      "metadata": {
        "id": "ftetz3d2SBov"
      }
    },
    {
      "cell_type": "markdown",
      "source": [
        "# **Q1- . Explain the purpose and advantages of NumPy in scientific computing and data analysis. How does it enhance Python's capabilities for numerical operations?**\n",
        "**Ans -** NumPy, short for Numerical Python, is a powerful library in Python that provides extensive support for numerical operations and scientific computing. Its primary purpose is to facilitate the handling and manipulation of large, multi-dimensional arrays and matrices, alongside a collection of mathematical functions to operate on these arrays efficiently.\n",
        "\n",
        "### **Purpose of NumPy**\n",
        "\n",
        "1. **Array Representation**: NumPy introduces the `ndarray` object, which is a fast, flexible container for large datasets in Python. This allows users to work with data in multi-dimensional arrays more intuitively.\n",
        "\n",
        "2. **Performance**: NumPy is optimized for performance, leveraging contiguous memory allocation and efficient looping mechanisms. Operations on NumPy arrays can be significantly faster than those on standard Python lists, especially for large datasets.\n",
        "\n",
        "3. **Mathematical Functions**: It provides a rich set of mathematical functions to perform operations such as linear algebra, statistical analysis, Fourier transforms, and more, making it a core tool for scientific computing.\n",
        "\n",
        "4. **Interoperability**: NumPy serves as a foundation for many other libraries in the scientific computing ecosystem, such as SciPy, Pandas, and Matplotlib, enhancing Python's capabilities for data analysis and visualization.\n",
        "\n",
        "### **Advantages of NumPy**\n",
        "\n",
        "1. **Speed**: NumPy operations are implemented in C, allowing them to run faster than pure Python loops. This is especially important for large datasets where performance is crucial.\n",
        "\n",
        "2. **Memory Efficiency**: NumPy arrays require less memory than Python lists due to their fixed data type and contiguous memory allocation, making them more efficient for large-scale data storage.\n",
        "\n",
        "3. **Convenient Syntax**: The syntax for array operations is more concise and expressive compared to traditional Python lists, allowing for cleaner and more readable code.\n",
        "\n",
        "4. **Broadcasting**: NumPy supports broadcasting, which allows operations to be performed on arrays of different shapes without explicit looping. This feature simplifies coding and enhances performance.\n",
        "\n",
        "5. **Comprehensive Functionality**: The library offers a wide range of functions for mathematical computations, random number generation, and linear algebra, making it versatile for various scientific tasks.\n",
        "\n",
        "6. **Community and Ecosystem**: With a large user base and active community, NumPy benefits from continuous development and a wealth of resources, tutorials, and documentation, facilitating learning and support.\n",
        "\n",
        "### **Enhancements to Python's Numerical Capabilities**\n",
        "\n",
        "1. **N-dimensional Arrays**: While Python lists can hold any data type, they are not optimized for numerical operations. NumPy’s `ndarray` allows for efficient storage and manipulation of numerical data in multi-dimensional arrays.\n",
        "\n",
        "2. **Element-wise Operations**: NumPy allows for element-wise operations on arrays, making it easy to perform mathematical computations without explicit loops.\n",
        "\n",
        "3. **Advanced Indexing and Slicing**: NumPy provides advanced indexing capabilities that simplify the extraction and manipulation of data from arrays, including slicing, masking, and more.\n",
        "\n",
        "4. **Integration with Other Libraries**: NumPy’s array structure is the foundation for other libraries such as SciPy (for scientific computing), Pandas (for data manipulation and analysis), and Matplotlib (for data visualization), creating a cohesive ecosystem for scientific computing in Python.\n"
      ],
      "metadata": {
        "id": "qLHAgMgaSai0"
      }
    },
    {
      "cell_type": "markdown",
      "source": [
        "# **Q2- Compare and contrast np.mean() and np.average() functions in NumPy. When would you use one over the other?**\n",
        "**Ans -** The `np.mean()` and `np.average()` functions in NumPy are both used to calculate the average of elements in an array, but they have some key differences in functionality and flexibility.\n",
        "\n",
        "### `np.mean()`\n",
        "\n",
        "- **Purpose**: Computes the arithmetic mean (average) of the elements along a specified axis.\n",
        "- **Syntax**: `np.mean(a, axis=None, dtype=None, out=None, keepdims=False)`\n",
        "- **Default Behavior**: By default, it calculates the mean of all elements in the input array.\n",
        "- **Parameters**:\n",
        "  - `a`: Input array.\n",
        "  - `axis`: Axis or axes along which to compute the mean. Default is `None`, meaning the mean is computed over the entire array.\n",
        "  - `dtype`: Data type to use for the calculation.\n",
        "  - `out`: A location into which the result is stored (optional).\n",
        "  - `keepdims`: If True, the reduced axes are left in the result as dimensions with size one.\n",
        "\n",
        "### `np.average()`\n",
        "\n",
        "- **Purpose**: Computes the weighted average of the elements in an array.\n",
        "- **Syntax**: `np.average(a, axis=None, weights=None, returned=False)`\n",
        "- **Default Behavior**: Computes the mean of all elements if no weights are provided, similar to `np.mean()`.\n",
        "- **Parameters**:\n",
        "  - `a`: Input array.\n",
        "  - `axis`: Axis or axes along which to compute the average.\n",
        "  - `weights`: An array of weights, same shape as `a`. If provided, the average is weighted accordingly.\n",
        "  - `returned`: If True, returns a tuple of the average and the sum of the weights.\n",
        "\n",
        "### **Key Differences**\n",
        "\n",
        "1. **Functionality**:\n",
        "   - `np.mean()` always calculates the arithmetic mean.\n",
        "   - `np.average()` can calculate a weighted average if the `weights` parameter is provided, making it more versatile.\n",
        "\n",
        "2. **Use Cases**:\n",
        "   - Use `np.mean()` when you need a simple arithmetic mean of your data.\n",
        "   - Use `np.average()` when you want to consider different contributions of values through weights.\n",
        "\n",
        "### **When to Use One Over the Other**\n",
        "\n",
        "- **Use `np.mean()`** when:\n",
        "  - You need a straightforward average of values.\n",
        "  - You don’t have weights to apply.\n",
        "\n",
        "- **Use `np.average()`** when:\n",
        "  - You need to calculate a weighted average where some values contribute more to the average than others.\n",
        "  - You need additional functionality, such as the option to return the sum of the weights along with the average.\n",
        "\n",
        "### **Example**\n"
      ],
      "metadata": {
        "id": "q6TjyglSTtjc"
      }
    },
    {
      "cell_type": "code",
      "source": [
        "import numpy as np\n",
        "\n",
        "data = np.array([1, 2, 3, 4, 5])\n",
        "\n",
        "# Using np.mean()\n",
        "mean_value = np.mean(data)\n",
        "print(\"Mean:\", mean_value)  # Output: Mean: 3.0\n",
        "\n",
        "# Using np.average() without weights\n",
        "average_value = np.average(data)\n",
        "print(\"Average:\", average_value)  # Output: Average: 3.0\n",
        "\n",
        "# Using np.average() with weights\n",
        "weights = np.array([1, 1, 1, 2, 2])  # Giving more weight to the last two elements\n",
        "weighted_average = np.average(data, weights=weights)\n",
        "print(\"Weighted Average:\", weighted_average)  # Output: Weighted Average: 3.6"
      ],
      "metadata": {
        "colab": {
          "base_uri": "https://localhost:8080/"
        },
        "id": "E46GC4vLUaS1",
        "outputId": "ed039fec-ce56-49fd-9a71-a35e6e12186d"
      },
      "execution_count": null,
      "outputs": [
        {
          "output_type": "stream",
          "name": "stdout",
          "text": [
            "Mean: 3.0\n",
            "Average: 3.0\n",
            "Weighted Average: 3.4285714285714284\n"
          ]
        }
      ]
    },
    {
      "cell_type": "markdown",
      "source": [
        "# **Q3-  Describe the methods for reversing a NumPy array along different axes. Provide examples for 1D and 2D arrays.**\n",
        "**Ans -** Reversing a NumPy array can be done easily using slicing or specific functions. Here’s how you can reverse both 1D and 2D arrays along different axes.\n",
        "\n",
        "### **Reversing a 1D Array**\n",
        "\n",
        "To reverse a 1D array, you can use slicing. The syntax `array[::-1]` effectively reverses the order of elements.\n",
        "\n",
        "**Example:**\n",
        "\n",
        "\n",
        "\n"
      ],
      "metadata": {
        "id": "9Kh220SwUlsd"
      }
    },
    {
      "cell_type": "code",
      "source": [
        "import numpy as np\n",
        "\n",
        "# Create a 1D array\n",
        "array_1d = np.array([1, 2, 3, 4, 5])\n",
        "\n",
        "# Reverse the 1D array\n",
        "reversed_1d = array_1d[::-1]\n",
        "print(\"Original 1D array:\", array_1d)  # Output: [1 2 3 4 5]\n",
        "print(\"Reversed 1D array:\", reversed_1d)  # Output: [5 4 3 2 1]"
      ],
      "metadata": {
        "colab": {
          "base_uri": "https://localhost:8080/"
        },
        "id": "s0nSNdzuVT9_",
        "outputId": "1523c576-d3bc-4e4f-d46d-055345c21484"
      },
      "execution_count": null,
      "outputs": [
        {
          "output_type": "stream",
          "name": "stdout",
          "text": [
            "Original 1D array: [1 2 3 4 5]\n",
            "Reversed 1D array: [5 4 3 2 1]\n"
          ]
        }
      ]
    },
    {
      "cell_type": "markdown",
      "source": [
        "## **Reversing a 2D Array**\n",
        "\n",
        "For 2D arrays, you can reverse along different axes. The syntax is similar, but you specify the axis to reverse.\n",
        "\n",
        "  Reversing along the rows (axis=0): This reverses the order of the rows.\n",
        "\n",
        "  Reversing along the columns (axis=1): This reverses the order of the columns.\n",
        "\n",
        "## **Example:**"
      ],
      "metadata": {
        "id": "6zv4GyLyVYoq"
      }
    },
    {
      "cell_type": "code",
      "source": [
        "# Create a 2D array\n",
        "array_2d = np.array([[1, 2, 3],\n",
        "                     [4, 5, 6],\n",
        "                     [7, 8, 9]])\n",
        "\n",
        "# Reverse along rows (axis=0)\n",
        "reversed_rows = array_2d[::-1]\n",
        "print(\"Original 2D array:\\n\", array_2d)\n",
        "print(\"Reversed along rows:\\n\", reversed_rows)\n",
        "\n",
        "# Reverse along columns (axis=1)\n",
        "reversed_columns = array_2d[:, ::-1]\n",
        "print(\"Reversed along columns:\\n\", reversed_columns)"
      ],
      "metadata": {
        "colab": {
          "base_uri": "https://localhost:8080/"
        },
        "id": "pJ2qLHIhVomd",
        "outputId": "5020bb9e-6b44-4ab0-f104-7b3c033b8b83"
      },
      "execution_count": null,
      "outputs": [
        {
          "output_type": "stream",
          "name": "stdout",
          "text": [
            "Original 2D array:\n",
            " [[1 2 3]\n",
            " [4 5 6]\n",
            " [7 8 9]]\n",
            "Reversed along rows:\n",
            " [[7 8 9]\n",
            " [4 5 6]\n",
            " [1 2 3]]\n",
            "Reversed along columns:\n",
            " [[3 2 1]\n",
            " [6 5 4]\n",
            " [9 8 7]]\n"
          ]
        }
      ]
    },
    {
      "cell_type": "markdown",
      "source": [
        "# **Q4-  How can you determine the data type of elements in a NumPy array? Discuss the importance of data types in memory management and performance.**\n",
        "**Ans -** In NumPy, you can determine the data type of elements in an array using the `.dtype` attribute. This attribute returns the data type of the array's elements, which can be useful for understanding how the data is stored and manipulated.\n",
        "\n",
        "### **Determining the Data Type**\n",
        "\n",
        "Here’s how you can check the data type of a NumPy array:\n",
        "\n",
        "\n",
        "\n"
      ],
      "metadata": {
        "id": "m71THbHiVuAt"
      }
    },
    {
      "cell_type": "code",
      "source": [
        "import numpy as np\n",
        "\n",
        "# Create a NumPy array\n",
        "array = np.array([1, 2, 3, 4, 5])\n",
        "\n",
        "# Determine the data type\n",
        "data_type = array.dtype\n",
        "print(\"Data type of the array:\", data_type)  # Output: int64 (or int32 depending on the system)"
      ],
      "metadata": {
        "colab": {
          "base_uri": "https://localhost:8080/"
        },
        "id": "E0aY5ZffWTO3",
        "outputId": "557e580c-e7c5-409a-f022-02d8c50a5251"
      },
      "execution_count": null,
      "outputs": [
        {
          "output_type": "stream",
          "name": "stdout",
          "text": [
            "Data type of the array: int64\n"
          ]
        }
      ]
    },
    {
      "cell_type": "markdown",
      "source": [
        "### **Importance of Data Types**\n",
        "\n",
        "1. **Memory Management**:\n",
        "   - **Efficient Storage**: Different data types consume different amounts of memory. For example, an `int32` takes 4 bytes, while an `int64` takes 8 bytes. Using the appropriate data type can significantly reduce memory usage, especially for large datasets.\n",
        "   - **Data Type Casting**: You can explicitly specify the data type when creating an array (e.g., `np.array([1, 2, 3], dtype=np.float32)`) to optimize memory usage. This can be crucial in environments with limited resources.\n",
        "\n",
        "2. **Performance**:\n",
        "   - **Speed of Operations**: Operations on arrays of smaller data types (e.g., `float32` vs. `float64`) can be faster because they require less memory bandwidth and processing power. This can lead to better performance in computations.\n",
        "   - **Vectorized Operations**: NumPy’s performance benefits from using contiguous memory blocks for uniform data types. This allows for optimized, vectorized operations, which are much faster than looping through individual elements in pure Python.\n",
        "\n",
        "3. **Data Integrity**:\n",
        "   - **Type Consistency**: Ensuring that all elements in an array are of the same type prevents errors that might arise from mixing data types (e.g., integer and string) and provides clearer semantics for numerical operations.\n",
        "   - **Control Over Numerical Precision**: The choice of data type allows control over precision and range. For example, using `float16` can save memory but may introduce rounding errors that would not occur with `float64`."
      ],
      "metadata": {
        "id": "AIMGxr8pWTyp"
      }
    },
    {
      "cell_type": "markdown",
      "source": [
        "# **Q5- Define ndarrays in NumPy and explain their key features. How do they differ from standard Python lists?**\n",
        "**Ans -** In NumPy, **ndarrays** (n-dimensional arrays) are the core data structure used for storing and manipulating numerical data. They are highly efficient and optimized for performance in scientific computing and data analysis. Here’s a detailed explanation of ndarrays and their key features, along with a comparison to standard Python lists.\n",
        "\n",
        "### **Key Features of ndarrays**\n",
        "\n",
        "1. **Homogeneous Data Types**:\n",
        "   - All elements in a NumPy array must be of the same data type, which allows for optimized storage and faster computation. This is different from Python lists, which can contain mixed data types.\n",
        "\n",
        "2. **Multidimensional**:\n",
        "   - Ndarrays can be one-dimensional, two-dimensional, or n-dimensional (hence the name). This flexibility allows for the representation of complex data structures, such as matrices or tensors.\n",
        "\n",
        "3. **Efficient Memory Usage**:\n",
        "   - Ndarrays are stored in contiguous memory locations, which improves cache performance and reduces memory overhead. This leads to lower memory usage compared to Python lists.\n",
        "\n",
        "4. **Vectorized Operations**:\n",
        "   - NumPy supports vectorized operations, which allow for element-wise operations without the need for explicit loops. This enhances performance and leads to more concise and readable code.\n",
        "\n",
        "5. **Broadcasting**:\n",
        "   - NumPy can automatically expand the dimensions of arrays to perform operations on arrays of different shapes. This feature simplifies coding when dealing with different array sizes.\n",
        "\n",
        "6. **Rich Functionality**:\n",
        "   - NumPy provides a wide range of built-in functions for mathematical operations, statistical analysis, linear algebra, Fourier transforms, and more. This extensive functionality makes it a powerful tool for scientific computing.\n",
        "\n",
        "7. **Shape and Reshape**:\n",
        "   - Ndarrays have a shape attribute that defines the size of each dimension. You can easily reshape arrays to different dimensions without altering their data.\n",
        "\n",
        "### **Differences from Standard Python Lists**\n",
        "\n",
        "| Feature                      | NumPy Ndarrays                        | Python Lists                   |\n",
        "|------------------------------|---------------------------------------|--------------------------------|\n",
        "| **Data Type**                | Homogeneous (same type)               | Heterogeneous (mixed types)    |\n",
        "| **Memory Layout**            | Contiguous memory allocation           | Non-contiguous memory allocation|\n",
        "| **Performance**              | Faster for numerical operations        | Slower for numerical operations  |\n",
        "| **Operations**               | Supports vectorized operations         | Requires explicit loops         |\n",
        "| **Dimensionality**           | Can be multi-dimensional               | Primarily one-dimensional      |\n",
        "| **Built-in Functions**       | Extensive mathematical functions       | Limited to basic operations     |\n",
        "| **Shape Management**         | Shape attribute for easy manipulation  | No built-in shape management    |\n",
        "\n",
        "### Example\n",
        "\n",
        "Here’s a simple example to illustrate the differences:\n",
        "\n"
      ],
      "metadata": {
        "id": "iAUg6lIlWeof"
      }
    },
    {
      "cell_type": "code",
      "source": [
        "import numpy as np\n",
        "\n",
        "# Creating a NumPy ndarray\n",
        "array = np.array([[1, 2, 3], [4, 5, 6]])\n",
        "\n",
        "# Accessing the shape and data type\n",
        "print(\"Ndarray shape:\", array.shape)  # Output: (2, 3)\n",
        "print(\"Ndarray data type:\", array.dtype)  # Output: int64 (or int32 depending on the system)\n",
        "\n",
        "# Vectorized operation\n",
        "result = array * 2\n",
        "print(\"Vectorized operation result:\\n\", result)\n",
        "\n",
        "# Creating a Python list\n",
        "list_data = [[1, 2, 3], [4, 5, 'six']]  # Mixed types\n",
        "\n",
        "# Accessing elements\n",
        "print(\"Python list:\", list_data)"
      ],
      "metadata": {
        "colab": {
          "base_uri": "https://localhost:8080/"
        },
        "id": "vphpofP5XBYZ",
        "outputId": "3b4b105f-5527-4ad7-b4fb-8f5a877b3af4"
      },
      "execution_count": null,
      "outputs": [
        {
          "output_type": "stream",
          "name": "stdout",
          "text": [
            "Ndarray shape: (2, 3)\n",
            "Ndarray data type: int64\n",
            "Vectorized operation result:\n",
            " [[ 2  4  6]\n",
            " [ 8 10 12]]\n",
            "Python list: [[1, 2, 3], [4, 5, 'six']]\n"
          ]
        }
      ]
    },
    {
      "cell_type": "markdown",
      "source": [
        "# **Q6- Analyze the performance benefits of NumPy arrays over Python lists for large-scale numerical operations.**\n",
        "**Ans -** The performance benefits of NumPy arrays over Python lists for large-scale numerical operations are significant and stem from several key factors. Here’s a detailed analysis of why NumPy arrays are generally preferred for numerical computations in Python:\n",
        "\n",
        "### 1. **Memory Efficiency**\n",
        "\n",
        "- **Contiguous Memory Allocation**: NumPy arrays are stored in contiguous blocks of memory, which enhances cache performance. This allows for faster access times compared to Python lists, which store references to objects scattered in memory.\n",
        "- **Fixed Data Types**: NumPy arrays require all elements to be of the same data type, allowing for more compact storage. In contrast, Python lists can contain mixed types, leading to additional memory overhead for type management.\n",
        "\n",
        "### 2. **Performance of Numerical Operations**\n",
        "\n",
        "- **Vectorization**: NumPy allows for vectorized operations, meaning that operations can be performed on entire arrays without the need for explicit loops. This is not only syntactically simpler but also much faster, as NumPy uses optimized C and Fortran libraries under the hood.\n",
        "  \n",
        "  **For example, adding two arrays element-wise can be done directly:**\n",
        "\n",
        "\n",
        "\n",
        "\n"
      ],
      "metadata": {
        "id": "_7Fm8ZHRXKj1"
      }
    },
    {
      "cell_type": "code",
      "source": [
        "import numpy as np\n",
        "\n",
        "# NumPy arrays\n",
        "a = np.array([1, 2, 3, 4])\n",
        "b = np.array([5, 6, 7, 8])\n",
        "c = a + b  # Vectorized addition"
      ],
      "metadata": {
        "id": "LurNjIpqXmQO"
      },
      "execution_count": null,
      "outputs": []
    },
    {
      "cell_type": "markdown",
      "source": [
        "- **Broadcasting**: NumPy supports broadcasting, allowing operations on arrays of different shapes without the need for manual expansion. This feature enables efficient computation while minimizing the need for additional memory allocation.\n",
        "\n",
        "### 3. **Use of Optimized Libraries**\n",
        "\n",
        "- **BLAS and LAPACK**: NumPy leverages highly optimized libraries like BLAS (Basic Linear Algebra Subprograms) and LAPACK (Linear Algebra Package) for performing complex mathematical operations. These libraries are written in low-level languages like C and Fortran, providing significant performance advantages over Python implementations.\n",
        "\n",
        "### 4. **Reduced Overhead**\n",
        "\n",
        "- **Less Overhead**: Operations on NumPy arrays have less overhead than those on Python lists. For example, each operation on a Python list involves more checks (like type checking) and higher-level abstractions, while NumPy operations are lower-level and optimized.\n",
        "\n",
        "### 5. **Parallelism and Optimization**\n",
        "\n",
        "- **NumPy’s Built-in Optimizations**: Many operations in NumPy are optimized for performance through parallel processing and other techniques. This can result in substantial speedups, especially for large-scale operations.\n",
        "  \n",
        "- **Compiled Code**: Operations in NumPy are executed in compiled code (C/Fortran), while Python lists rely on interpreted Python code, which is inherently slower.\n",
        "\n",
        "### Performance Comparison Example\n",
        "\n",
        "To illustrate the performance benefits, consider the following example where we compare the performance of NumPy arrays and Python lists for a large-scale numerical operation, such as element-wise addition:"
      ],
      "metadata": {
        "id": "vpF0TYmNXnQz"
      }
    },
    {
      "cell_type": "code",
      "source": [
        "import numpy as np\n",
        "import time\n",
        "\n",
        "# Large-scale data\n",
        "size = 10**6\n",
        "list_a = list(range(size))\n",
        "list_b = list(range(size))\n",
        "\n",
        "# Timing Python list addition\n",
        "start_time = time.time()\n",
        "list_result = [a + b for a, b in zip(list_a, list_b)]\n",
        "print(\"Python list addition time:\", time.time() - start_time)\n",
        "\n",
        "# Creating NumPy arrays\n",
        "array_a = np.array(list_a)\n",
        "array_b = np.array(list_b)\n",
        "\n",
        "# Timing NumPy array addition\n",
        "start_time = time.time()\n",
        "array_result = array_a + array_b\n",
        "print(\"NumPy array addition time:\", time.time() - start_time)"
      ],
      "metadata": {
        "colab": {
          "base_uri": "https://localhost:8080/"
        },
        "id": "m70FcT4pXz1W",
        "outputId": "507ede7c-b580-434f-8b38-a8ad351367f1"
      },
      "execution_count": null,
      "outputs": [
        {
          "output_type": "stream",
          "name": "stdout",
          "text": [
            "Python list addition time: 0.10906863212585449\n",
            "NumPy array addition time: 0.005140066146850586\n"
          ]
        }
      ]
    },
    {
      "cell_type": "markdown",
      "source": [
        "### **Expected Output**\n",
        "\n",
        "Typically, you would observe that the NumPy array addition is significantly faster than the Python list addition. The actual speedup can be several orders of magnitude, especially as the size of the data increases."
      ],
      "metadata": {
        "id": "kQjwGVAqXoTa"
      }
    },
    {
      "cell_type": "markdown",
      "source": [
        "# **Q7-  Compare vstack() and hstack() functions in NumPy. Provide examples demonstrating their usage and output.**\n",
        "**Ans -** In NumPy, the `vstack()` and `hstack()` functions are used to stack arrays vertically and horizontally, respectively. These functions are particularly useful when you want to combine multiple arrays along specific axes.\n",
        "\n",
        "### 1. `vstack()`\n",
        "\n",
        "- **Purpose**: Stacks arrays in sequence vertically (row-wise). It is equivalent to concatenating along the first axis (axis=0).\n",
        "- **Input Requirement**: The input arrays must have the same shape along all but the first axis.\n",
        "\n",
        "**Example of `vstack()`**:\n",
        "\n",
        "\n",
        "\n",
        "\n",
        "\n",
        "\n",
        "\n",
        "\n",
        "\n"
      ],
      "metadata": {
        "id": "nR3CFTSlYbZo"
      }
    },
    {
      "cell_type": "code",
      "source": [
        "import numpy as np\n",
        "\n",
        "# Create two 2D arrays\n",
        "array1 = np.array([[1, 2, 3],\n",
        "                   [4, 5, 6]])\n",
        "\n",
        "array2 = np.array([[7, 8, 9],\n",
        "                   [10, 11, 12]])\n",
        "\n",
        "# Stack the arrays vertically\n",
        "result_vstack = np.vstack((array1, array2))\n",
        "print(\"Result of vstack:\\n\", result_vstack)"
      ],
      "metadata": {
        "colab": {
          "base_uri": "https://localhost:8080/"
        },
        "id": "vpVbYMjxZS25",
        "outputId": "4ac01170-8d78-4402-865d-654cad4a962d"
      },
      "execution_count": null,
      "outputs": [
        {
          "output_type": "stream",
          "name": "stdout",
          "text": [
            "Result of vstack:\n",
            " [[ 1  2  3]\n",
            " [ 4  5  6]\n",
            " [ 7  8  9]\n",
            " [10 11 12]]\n"
          ]
        }
      ]
    },
    {
      "cell_type": "markdown",
      "source": [
        "\n",
        "### 2. `hstack()`\n",
        "\n",
        "- **Purpose**: Stacks arrays in sequence horizontally (column-wise). It is equivalent to concatenating along the second axis (axis=1).\n",
        "- **Input Requirement**: The input arrays must have the same shape along all but the second axis.\n",
        "\n",
        "**Example of `hstack()`**:"
      ],
      "metadata": {
        "id": "pOXS4ZRtZQJN"
      }
    },
    {
      "cell_type": "code",
      "source": [
        "# Create two 2D arrays\n",
        "array1 = np.array([[1, 2, 3],\n",
        "                   [4, 5, 6]])\n",
        "\n",
        "array2 = np.array([[7, 8, 9],\n",
        "                   [10, 11, 12]])\n",
        "\n",
        "# Stack the arrays horizontally\n",
        "result_hstack = np.hstack((array1, array2))\n",
        "print(\"Result of hstack:\\n\", result_hstack)"
      ],
      "metadata": {
        "colab": {
          "base_uri": "https://localhost:8080/"
        },
        "id": "sY31gtAuY9iR",
        "outputId": "72b129cc-1f27-4a7b-9ba8-df2cef602537"
      },
      "execution_count": null,
      "outputs": [
        {
          "output_type": "stream",
          "name": "stdout",
          "text": [
            "Result of hstack:\n",
            " [[ 1  2  3  7  8  9]\n",
            " [ 4  5  6 10 11 12]]\n"
          ]
        }
      ]
    },
    {
      "cell_type": "markdown",
      "source": [
        "# **Q8- Explain the differences between fliplr() and flipud() methods in NumPy, including their effects on various array dimensions.**\n",
        "**Ans -** In NumPy, the `fliplr()` and `flipud()` functions are used to flip (reverse) the elements of arrays along specific axes. Here's a detailed explanation of the differences between these two methods, along with their effects on various array dimensions.\n",
        "\n",
        "### 1. `fliplr()`\n",
        "\n",
        "- **Purpose**: Flips an array from left to right (horizontally). It is specifically used for 2D arrays.\n",
        "- **Effect**: For a 2D array, `fliplr()` reverses the order of columns.\n",
        "\n",
        "**Example of `fliplr()`**:\n",
        "\n"
      ],
      "metadata": {
        "id": "0_TucFooZa4q"
      }
    },
    {
      "cell_type": "code",
      "source": [
        "import numpy as np\n",
        "\n",
        "# Create a 2D array\n",
        "array_2d = np.array([[1, 2, 3],\n",
        "                     [4, 5, 6]])\n",
        "\n",
        "# Flip the array left to right\n",
        "flipped_lr = np.fliplr(array_2d)\n",
        "print(\"Original array:\\n\", array_2d)\n",
        "print(\"Flipped left to right:\\n\", flipped_lr)"
      ],
      "metadata": {
        "colab": {
          "base_uri": "https://localhost:8080/"
        },
        "id": "Ik6fr8jLbsp8",
        "outputId": "f11d8d91-91c4-41e5-ee16-593b635e61b2"
      },
      "execution_count": null,
      "outputs": [
        {
          "output_type": "stream",
          "name": "stdout",
          "text": [
            "Original array:\n",
            " [[1 2 3]\n",
            " [4 5 6]]\n",
            "Flipped left to right:\n",
            " [[3 2 1]\n",
            " [6 5 4]]\n"
          ]
        }
      ]
    },
    {
      "cell_type": "markdown",
      "source": [
        "\n",
        "### 2. `flipud()`\n",
        "\n",
        "- **Purpose**: Flips an array from up to down (vertically). It is also primarily used for 2D arrays.\n",
        "- **Effect**: For a 2D array, `flipud()` reverses the order of rows.\n",
        "\n",
        "**Example of `flipud()`**:\n"
      ],
      "metadata": {
        "id": "A8S1JvSLbooT"
      }
    },
    {
      "cell_type": "code",
      "source": [
        "# Flip the array up to down\n",
        "flipped_ud = np.flipud(array_2d)\n",
        "print(\"Flipped up to down:\\n\", flipped_ud)"
      ],
      "metadata": {
        "colab": {
          "base_uri": "https://localhost:8080/"
        },
        "id": "S-9W6c3KbTPG",
        "outputId": "f467f14d-be01-4dfd-de91-ec01f5aa15f7"
      },
      "execution_count": null,
      "outputs": [
        {
          "output_type": "stream",
          "name": "stdout",
          "text": [
            "Flipped up to down:\n",
            " [[7 8 9]\n",
            " [4 5 6]\n",
            " [1 2 3]]\n"
          ]
        }
      ]
    },
    {
      "cell_type": "markdown",
      "source": [
        "\n",
        "### Effects on Various Array Dimensions\n",
        "\n",
        "- **2D Arrays**:\n",
        "  - **`fliplr()`**: Reverses columns.\n",
        "  - **`flipud()`**: Reverses rows.\n",
        "\n",
        "- **1D Arrays**:\n",
        "  - Both functions have the same effect because a 1D array has only one axis to flip. Using either function will reverse the order of elements in the array.\n",
        "\n",
        "  **Example**:\n"
      ],
      "metadata": {
        "id": "KCAV4MX-bNa_"
      }
    },
    {
      "cell_type": "code",
      "source": [
        "array_1d = np.array([1, 2, 3, 4])\n",
        "\n",
        "# Flipping a 1D array\n",
        "flipped_lr_1d = np.fliplr(array_1d.reshape(1, -1))  # Reshape to 2D for fliplr\n",
        "flipped_ud_1d = np.flipud(array_1d.reshape(1, -1))  # Reshape to 2D for flipud\n",
        "\n",
        "print(\"Original 1D array:\", array_1d)\n",
        "print(\"Flipped left to right (as 2D):\", flipped_lr_1d.flatten())\n",
        "print(\"Flipped up to down (as 2D):\", flipped_ud_1d.flatten())"
      ],
      "metadata": {
        "colab": {
          "base_uri": "https://localhost:8080/"
        },
        "id": "S3KHd5Rza_js",
        "outputId": "06d61931-952e-40c7-9a7d-e6b732b6cd0f"
      },
      "execution_count": null,
      "outputs": [
        {
          "output_type": "stream",
          "name": "stdout",
          "text": [
            "Original 1D array: [1 2 3 4]\n",
            "Flipped left to right (as 2D): [4 3 2 1]\n",
            "Flipped up to down (as 2D): [1 2 3 4]\n"
          ]
        }
      ]
    },
    {
      "cell_type": "markdown",
      "source": [
        "### Summary of Differences\n",
        "\n",
        "| Function   | Axis of Flip        | Effect on 2D Arrays        | Effect on 1D Arrays        |\n",
        "|------------|---------------------|-----------------------------|-----------------------------|\n",
        "| `fliplr()` | Horizontal (columns) | Reverses columns            | Same as `flipud()` (in 2D) |\n",
        "| `flipud()` | Vertical (rows)      | Reverses rows               | Same as `fliplr()` (in 2D) |\n",
        "\n",
        "In conclusion, `fliplr()` and `flipud()` are useful for flipping arrays along specific axes, and understanding their effects on different dimensions is important for data manipulation in NumPy."
      ],
      "metadata": {
        "id": "KSP6ZDGYa4qE"
      }
    },
    {
      "cell_type": "markdown",
      "source": [
        "# **Q9-  Discuss the functionality of the array_split() method in NumPy. How does it handle uneven splits?**\n",
        "**Ans -** The `array_split()` function in NumPy is a versatile method used to split an array into multiple sub-arrays. It is particularly useful when you want to divide data for analysis or processing without requiring equal-sized splits.\n",
        "\n",
        "### Functionality of `array_split()`\n",
        "\n",
        "\n",
        "\n",
        "\n",
        "\n",
        "\n",
        "\n",
        "\n",
        "\n",
        "\n"
      ],
      "metadata": {
        "id": "4GfbJUDGb2QY"
      }
    },
    {
      "cell_type": "code",
      "source": [
        "numpy.array_split(ary, indices_or_sections, axis=0)"
      ],
      "metadata": {
        "id": "qdcan449dEgX"
      },
      "execution_count": null,
      "outputs": []
    },
    {
      "cell_type": "markdown",
      "source": [
        "\n",
        "- **Parameters**:\n",
        "  - **`ary`**: The input array to be split.\n",
        "  - **`indices_or_sections`**: This can be either an integer or a sequence of indices. If it’s an integer, it specifies the number of equal sections to split the array into. If it’s a sequence, it specifies the exact indices at which to split.\n",
        "  - **`axis`**: The axis along which to split the array. The default is `0`, meaning that the split occurs along the first dimension.\n",
        "\n",
        "- **Returns**: A list of sub-arrays created from the split."
      ],
      "metadata": {
        "id": "i7wzLDBydANQ"
      }
    },
    {
      "cell_type": "markdown",
      "source": [
        "### Example of `array_split()`\n",
        "\n",
        "#### Equal Splits\n",
        "\n",
        "When the number of sections is evenly divisible by the length of the array, `array_split()` creates equal-sized sub-arrays.\n"
      ],
      "metadata": {
        "id": "aNOvpyYcc1JL"
      }
    },
    {
      "cell_type": "code",
      "source": [
        "import numpy as np\n",
        "\n",
        "# Create a 1D array\n",
        "array_1d = np.array([1, 2, 3, 4, 5, 6])\n",
        "\n",
        "# Split into 3 equal parts\n",
        "split_equal = np.array_split(array_1d, 3)\n",
        "print(\"Equal splits:\", split_equal)"
      ],
      "metadata": {
        "colab": {
          "base_uri": "https://localhost:8080/"
        },
        "id": "dS74TCIAcoi_",
        "outputId": "0f0c4e0b-906d-4401-de27-726818c749b7"
      },
      "execution_count": null,
      "outputs": [
        {
          "output_type": "stream",
          "name": "stdout",
          "text": [
            "Equal splits: [array([1, 2]), array([3, 4]), array([5, 6])]\n"
          ]
        }
      ]
    },
    {
      "cell_type": "markdown",
      "source": [
        "#### Uneven Splits\n",
        "\n",
        "If the array cannot be split evenly, `array_split()` will distribute the elements as evenly as possible. This means some sub-arrays may contain one more element than others."
      ],
      "metadata": {
        "id": "MHWTkYbUceyY"
      }
    },
    {
      "cell_type": "code",
      "source": [
        "# Split into 4 parts\n",
        "split_uneven = np.array_split(array_1d, 4)\n",
        "print(\"Uneven splits:\", split_uneven)"
      ],
      "metadata": {
        "colab": {
          "base_uri": "https://localhost:8080/"
        },
        "id": "XWKUjn6ucgq6",
        "outputId": "15cd7702-311b-46dd-c8eb-02a01ecf7c5d"
      },
      "execution_count": null,
      "outputs": [
        {
          "output_type": "stream",
          "name": "stdout",
          "text": [
            "Uneven splits: [array([1]), array([2]), array([3]), array([4])]\n"
          ]
        }
      ]
    },
    {
      "cell_type": "markdown",
      "source": [
        "In this example, because the array has 6 elements and is being split into 4 parts, the resulting sub-arrays are distributed such that two sub-arrays contain 2 elements, and the other two contain 1 element each."
      ],
      "metadata": {
        "id": "VWCw7zACdIzc"
      }
    },
    {
      "cell_type": "markdown",
      "source": [
        "# **Q10- . Explain the concepts of vectorization and broadcasting in NumPy. How do they contribute to efficient array operations?**\n",
        "**Ans -** In NumPy, **vectorization** and **broadcasting** are two powerful concepts that significantly enhance the efficiency of array operations. They allow for high-performance numerical computations without the need for explicit loops, making code more concise and easier to read.\n",
        "\n",
        "### **1. Vectorization**\n",
        "\n",
        "**Definition**: Vectorization refers to the process of replacing explicit loops in code with array operations that operate on entire arrays (or large chunks of them) at once. This takes advantage of NumPy's underlying implementation in C and Fortran, which is optimized for performance.\n",
        "\n",
        "#### **Benefits of Vectorization:**\n",
        "\n",
        "- **Performance**: Vectorized operations are executed at a lower level, leading to faster execution compared to loops written in Python.\n",
        "- **Code Clarity**: Code becomes cleaner and more readable. Instead of writing loops, you can express operations succinctly.\n",
        "\n",
        "**Example of Vectorization**:\n",
        "\n",
        "Without vectorization, you might write:\n",
        "\n",
        "\n",
        "\n",
        "\n",
        "\n",
        "\n",
        "\n",
        "\n",
        "\n"
      ],
      "metadata": {
        "id": "H6dWL9q7dM5K"
      }
    },
    {
      "cell_type": "code",
      "source": [
        "import numpy as np\n",
        "\n",
        "# Create two arrays\n",
        "a = np.array([1, 2, 3])\n",
        "b = np.array([4, 5, 6])\n",
        "\n",
        "# Using a loop\n",
        "result = np.empty_like(a)\n",
        "for i in range(len(a)):\n",
        "    result[i] = a[i] + b[i]\n",
        "print(result)"
      ],
      "metadata": {
        "colab": {
          "base_uri": "https://localhost:8080/"
        },
        "id": "AyMFW80JeHKb",
        "outputId": "d58987b4-1936-49d2-aa33-3102fb636b3c"
      },
      "execution_count": null,
      "outputs": [
        {
          "output_type": "stream",
          "name": "stdout",
          "text": [
            "[5 7 9]\n"
          ]
        }
      ]
    },
    {
      "cell_type": "markdown",
      "source": [
        "**With vectorization, you can do:**"
      ],
      "metadata": {
        "id": "n7sYyWiQeBht"
      }
    },
    {
      "cell_type": "code",
      "source": [
        "# Vectorized addition\n",
        "result_vectorized = a + b\n",
        "print(result_vectorized)"
      ],
      "metadata": {
        "colab": {
          "base_uri": "https://localhost:8080/"
        },
        "id": "cdZrfQ71d56X",
        "outputId": "621c5284-17d6-4227-9eb3-3edd34b2d069"
      },
      "execution_count": null,
      "outputs": [
        {
          "output_type": "stream",
          "name": "stdout",
          "text": [
            "[[11 12 13]\n",
            " [21 22 23]\n",
            " [31 32 33]]\n"
          ]
        }
      ]
    },
    {
      "cell_type": "markdown",
      "source": [
        "### **2. Broadcasting**\n",
        "\n",
        "**Definition**: Broadcasting is a technique that allows NumPy to perform operations on arrays of different shapes. When performing arithmetic operations on arrays, NumPy automatically expands the smaller array across the larger array so that they have compatible shapes.\n",
        "\n",
        "#### **Rules for Broadcasting:**\n",
        "\n",
        "1. **If the arrays have a different number of dimensions**, the shape of the smaller-dimensional array is padded with ones on the left side until both shapes are the same.\n",
        "2. **If the sizes of the dimensions are different**, broadcasting occurs when one of the dimensions is 1. The array with size 1 in that dimension is expanded to match the size of the other array.\n",
        "\n",
        "#### **Benefits of Broadcasting:**\n",
        "\n",
        "- **Efficiency**: Reduces memory usage and computational overhead since it avoids the creation of large temporary arrays.\n",
        "- **Simplicity**: Enables operations between arrays of different shapes without needing to manually replicate data.\n",
        "\n",
        "**Example of Broadcasting**:"
      ],
      "metadata": {
        "id": "VrkeBcqId1V3"
      }
    },
    {
      "cell_type": "code",
      "source": [
        "# Create a 1D array and a 2D array\n",
        "a = np.array([1, 2, 3])        # Shape (3,)\n",
        "b = np.array([[10], [20], [30]])  # Shape (3, 1)\n",
        "\n",
        "# Broadcasting the operation\n",
        "result_broadcasted = a + b\n",
        "print(result_broadcasted)"
      ],
      "metadata": {
        "colab": {
          "base_uri": "https://localhost:8080/"
        },
        "id": "neYu2lKSdr63",
        "outputId": "c5701f10-064d-46e4-bc34-d142396dd5e1"
      },
      "execution_count": null,
      "outputs": [
        {
          "output_type": "stream",
          "name": "stdout",
          "text": [
            "[[11 12 13]\n",
            " [21 22 23]\n",
            " [31 32 33]]\n"
          ]
        }
      ]
    },
    {
      "cell_type": "markdown",
      "source": [
        "Here, the 1D array `a` is broadcasted across the 2D array `b`, allowing the addition to occur without explicitly reshaping or replicating `a`.\n",
        "\n",
        "### Contribution to Efficient Array Operations\n",
        "\n",
        "1. **Reduced Execution Time**: Vectorization and broadcasting leverage optimized low-level implementations, resulting in faster execution of operations than traditional Python loops.\n",
        "2. **Simplified Code**: These techniques allow you to write more straightforward and expressive code, focusing on the operations rather than the mechanics of iteration.\n",
        "3. **Memory Efficiency**: Broadcasting eliminates the need for creating multiple copies of arrays, thus saving memory and improving performance, especially with large datasets.\n"
      ],
      "metadata": {
        "id": "KmvfJ6wPdlWF"
      }
    },
    {
      "cell_type": "markdown",
      "source": [
        "# **PRACTICAL PART**"
      ],
      "metadata": {
        "id": "xZMVwYsjQqC6"
      }
    },
    {
      "cell_type": "markdown",
      "source": [
        "## **Q1- Create a 3x3 NumPy array with random integers between 1 and 100. Then, interchange its rows and columns.**"
      ],
      "metadata": {
        "id": "wGvOlYBkQtXE"
      }
    },
    {
      "cell_type": "code",
      "source": [
        "# Original Array:\n",
        " [[ 9, 45, 26],\n",
        " [32, 55, 37],\n",
        " [45,  8, 20]]\n"
      ],
      "metadata": {
        "colab": {
          "base_uri": "https://localhost:8080/"
        },
        "id": "KQzfOTrSKbKg",
        "outputId": "b0f1e918-1d92-44b6-98ad-79a6fe3699b8"
      },
      "execution_count": null,
      "outputs": [
        {
          "output_type": "execute_result",
          "data": {
            "text/plain": [
              "[[9, 45, 26], [32, 55, 37], [45, 8, 20]]"
            ]
          },
          "metadata": {},
          "execution_count": 71
        }
      ]
    },
    {
      "cell_type": "markdown",
      "source": [],
      "metadata": {
        "id": "tWw82kXjRQD9"
      }
    },
    {
      "cell_type": "code",
      "source": [
        "# Transposed Array (Interchanged Rows and Columns):\n",
        " [[ 9, 32, 45],\n",
        " [45, 55,  8],\n",
        " [26, 37, 20]]"
      ],
      "metadata": {
        "colab": {
          "base_uri": "https://localhost:8080/"
        },
        "id": "Cd8_uTZGLSSv",
        "outputId": "ed2c8487-72e0-4b87-897f-8a7e60cb8848"
      },
      "execution_count": null,
      "outputs": [
        {
          "output_type": "execute_result",
          "data": {
            "text/plain": [
              "[[9, 32, 45], [45, 55, 8], [26, 37, 20]]"
            ]
          },
          "metadata": {},
          "execution_count": 73
        }
      ]
    },
    {
      "cell_type": "markdown",
      "source": [
        "## **Q2. Generate a 1D NumPy array with 10 elements. Reshape it into a 2x5 array, then into a 5x2 array.**"
      ],
      "metadata": {
        "id": "N5XjXImERbE4"
      }
    },
    {
      "cell_type": "code",
      "source": [
        "# Original 1D Array:\n",
        " [0, 1, 2, 3, 4, 5, 6, 7, 8, 9]\n"
      ],
      "metadata": {
        "colab": {
          "base_uri": "https://localhost:8080/"
        },
        "id": "hL0JXIGhLXVW",
        "outputId": "52fdad3d-8849-4f1d-d7ff-b086cbcde63a"
      },
      "execution_count": null,
      "outputs": [
        {
          "output_type": "execute_result",
          "data": {
            "text/plain": [
              "[0, 1, 2, 3, 4, 5, 6, 7, 8, 9]"
            ]
          },
          "metadata": {},
          "execution_count": 74
        }
      ]
    },
    {
      "cell_type": "code",
      "source": [
        "# Reshaped 2x5 Array:\n",
        " [[0, 1, 2, 3, 4],\n",
        " [5, 6, 7, 8, 9]]\n"
      ],
      "metadata": {
        "colab": {
          "base_uri": "https://localhost:8080/"
        },
        "id": "dL2hTjCkLsYm",
        "outputId": "6bf953e6-a067-4127-e146-8f0f4853970a"
      },
      "execution_count": null,
      "outputs": [
        {
          "output_type": "execute_result",
          "data": {
            "text/plain": [
              "[[0, 1, 2, 3, 4], [5, 6, 7, 8, 9]]"
            ]
          },
          "metadata": {},
          "execution_count": 75
        }
      ]
    },
    {
      "cell_type": "code",
      "source": [
        "# Reshaped 5x2 Array:\n",
        " [[0, 1],\n",
        " [2, 3],\n",
        " [4, 5],\n",
        " [6, 7],\n",
        " [8, 9]]"
      ],
      "metadata": {
        "colab": {
          "base_uri": "https://localhost:8080/"
        },
        "id": "Dcbz2HE2Lvnd",
        "outputId": "0540b9b4-7eae-4baa-faf4-389512206baa"
      },
      "execution_count": null,
      "outputs": [
        {
          "output_type": "execute_result",
          "data": {
            "text/plain": [
              "[[0, 1], [2, 3], [4, 5], [6, 7], [8, 9]]"
            ]
          },
          "metadata": {},
          "execution_count": 76
        }
      ]
    },
    {
      "cell_type": "markdown",
      "source": [
        "## **Q3. Create a 4x4 NumPy array with random float values. Add a border of zeros around it, resulting in a 6x6 array.**"
      ],
      "metadata": {
        "id": "_xPn6xl7RvQD"
      }
    },
    {
      "cell_type": "code",
      "source": [
        "# Original 4x4 Array:\n",
        "[[0.8678196 , 0.15011539, 0.98441141, 0.51404075],\n",
        " [0.47281166, 0.15780332, 0.94808389, 0.47052897],\n",
        " [0.75081521, 0.99531155, 0.91992204, 0.17253079],\n",
        " [0.58034472, 0.62934717, 0.83240124, 0.12760527]]\n"
      ],
      "metadata": {
        "colab": {
          "base_uri": "https://localhost:8080/"
        },
        "id": "7mm4ilJ9LzKl",
        "outputId": "3c784870-3155-48c1-d5cc-f038a560d7d5"
      },
      "execution_count": null,
      "outputs": [
        {
          "output_type": "execute_result",
          "data": {
            "text/plain": [
              "[[0.8678196, 0.15011539, 0.98441141, 0.51404075],\n",
              " [0.47281166, 0.15780332, 0.94808389, 0.47052897],\n",
              " [0.75081521, 0.99531155, 0.91992204, 0.17253079],\n",
              " [0.58034472, 0.62934717, 0.83240124, 0.12760527]]"
            ]
          },
          "metadata": {},
          "execution_count": 77
        }
      ]
    },
    {
      "cell_type": "code",
      "source": [
        "# 6x6 Array with Border of Zeros:\n",
        "[[0.        , 0.        , 0.        , 0.        , 0.        , 0.        ],\n",
        " [0.        , 0.8678196 , 0.15011539, 0.98441141, 0.51404075, 0.        ],\n",
        " [0.        , 0.47281166, 0.15780332, 0.94808389, 0.47052897, 0.        ],\n",
        " [0.        , 0.75081521, 0.99531155, 0.91992204, 0.17253079, 0.        ],\n",
        " [0.        , 0.58034472, 0.62934717, 0.83240124, 0.12760527, 0.        ],\n",
        " [0.        , 0.        , 0.        , 0.        , 0.        , 0.        ]]\n"
      ],
      "metadata": {
        "colab": {
          "base_uri": "https://localhost:8080/"
        },
        "id": "X8OzCqOuM1U0",
        "outputId": "0165ee26-2424-4aa8-d3aa-efd6418bda18"
      },
      "execution_count": null,
      "outputs": [
        {
          "output_type": "execute_result",
          "data": {
            "text/plain": [
              "[[0.0, 0.0, 0.0, 0.0, 0.0, 0.0],\n",
              " [0.0, 0.8678196, 0.15011539, 0.98441141, 0.51404075, 0.0],\n",
              " [0.0, 0.47281166, 0.15780332, 0.94808389, 0.47052897, 0.0],\n",
              " [0.0, 0.75081521, 0.99531155, 0.91992204, 0.17253079, 0.0],\n",
              " [0.0, 0.58034472, 0.62934717, 0.83240124, 0.12760527, 0.0],\n",
              " [0.0, 0.0, 0.0, 0.0, 0.0, 0.0]]"
            ]
          },
          "metadata": {},
          "execution_count": 78
        }
      ]
    },
    {
      "cell_type": "markdown",
      "source": [
        "## **Q4. Using NumPy, create an array of integers from 10 to 60 with a step of 5.**"
      ],
      "metadata": {
        "id": "vxcZgdWYSBDi"
      }
    },
    {
      "cell_type": "code",
      "source": [
        "import numpy as np\n",
        "\n",
        "# Create an array of integers from 10 to 60 with a step of 5\n",
        "arr = np.arange(10, 61, 5)\n",
        "\n",
        "# Print the result\n",
        "print(arr)\n"
      ],
      "metadata": {
        "colab": {
          "base_uri": "https://localhost:8080/"
        },
        "id": "902Z-XOGTvsS",
        "outputId": "70eeb22e-3e6c-4aa4-ebd1-3af6f9356764"
      },
      "execution_count": null,
      "outputs": [
        {
          "output_type": "stream",
          "name": "stdout",
          "text": [
            "[10 15 20 25 30 35 40 45 50 55 60]\n"
          ]
        }
      ]
    },
    {
      "cell_type": "markdown",
      "source": [
        "## **Q5. Create a NumPy array of strings ['python', 'numpy', 'pandas']. Apply different case transformations (uppercase, lowercase, title case, etc.) to each element.**"
      ],
      "metadata": {
        "id": "fo6FHVdNSNBg"
      }
    },
    {
      "cell_type": "code",
      "source": [
        "import numpy as np\n",
        "\n",
        "# Create a NumPy array of strings\n",
        "arr = np.array(['python', 'numpy', 'pandas'])\n",
        "\n",
        "# Apply different case transformations\n",
        "upper_case = np.char.upper(arr)           # Uppercase\n",
        "lower_case = np.char.lower(arr)           # Lowercase\n",
        "title_case = np.char.title(arr)           # Title Case\n",
        "capitalize_case = np.char.capitalize(arr) # Capitalize\n",
        "\n",
        "# Print the results\n",
        "print(\"Uppercase:\", upper_case)\n",
        "print(\"Lowercase:\", lower_case)\n",
        "print(\"Title Case:\", title_case)\n",
        "print(\"Capitalize:\", capitalize_case)"
      ],
      "metadata": {
        "colab": {
          "base_uri": "https://localhost:8080/"
        },
        "id": "EPMkL2ZGTdtp",
        "outputId": "99f640ad-04c5-42fe-c9ea-aa4b39877146"
      },
      "execution_count": null,
      "outputs": [
        {
          "output_type": "stream",
          "name": "stdout",
          "text": [
            "Uppercase: ['PYTHON' 'NUMPY' 'PANDAS']\n",
            "Lowercase: ['python' 'numpy' 'pandas']\n",
            "Title Case: ['Python' 'Numpy' 'Pandas']\n",
            "Capitalize: ['Python' 'Numpy' 'Pandas']\n"
          ]
        }
      ]
    },
    {
      "cell_type": "markdown",
      "source": [
        "## **Q6. Generate a NumPy array of words. Insert a space between each character of every word in the array.**"
      ],
      "metadata": {
        "id": "yqe2kd-uSXLb"
      }
    },
    {
      "cell_type": "code",
      "source": [
        "import numpy as np\n",
        "\n",
        "# Create a NumPy array of words\n",
        "words = np.array(['adnan', 'qazi', 'ayan', 'sadaf'])\n",
        "\n",
        "# Insert a space between each character of every word\n",
        "spaced_words = np.char.join(' ', words)\n",
        "\n",
        "# Print the result\n",
        "print(spaced_words)\n"
      ],
      "metadata": {
        "colab": {
          "base_uri": "https://localhost:8080/"
        },
        "id": "5bJeZdxhTkRq",
        "outputId": "a5225bfe-f6a7-48ed-85fa-0f8b14c87e75"
      },
      "execution_count": null,
      "outputs": [
        {
          "output_type": "stream",
          "name": "stdout",
          "text": [
            "['a d n a n' 'q a z i' 'a y a n' 's a d a f']\n"
          ]
        }
      ]
    },
    {
      "cell_type": "markdown",
      "source": [
        "## **Q7. Create two 2D NumPy arrays and perform element-wise addition, subtraction, multiplication, and division.**"
      ],
      "metadata": {
        "id": "EK7U9vZKSrlL"
      }
    },
    {
      "cell_type": "code",
      "source": [
        "import numpy as np\n",
        "\n",
        "# Create two 2D NumPy arrays\n",
        "array1 = np.array([[1, 2, 3], [4, 5, 6]])\n",
        "array2 = np.array([[7, 8, 9], [10, 11, 12]])\n",
        "\n",
        "# Perform element-wise addition\n",
        "addition = array1 + array2\n",
        "\n",
        "# Perform element-wise subtraction\n",
        "subtraction = array1 - array2\n",
        "\n",
        "# Perform element-wise multiplication\n",
        "multiplication = array1 * array2\n",
        "\n",
        "# Perform element-wise division\n",
        "division = array1 / array2\n",
        "\n",
        "# Print the results\n",
        "print(\"Addition:\\n\", addition)\n",
        "print(\"Subtraction:\\n\", subtraction)\n",
        "print(\"Multiplication:\\n\", multiplication)\n",
        "print(\"Division:\\n\", division)"
      ],
      "metadata": {
        "colab": {
          "base_uri": "https://localhost:8080/"
        },
        "id": "-uqJdN4RUFI4",
        "outputId": "0fc41326-5990-44db-8f98-a215a5a4dcf5"
      },
      "execution_count": null,
      "outputs": [
        {
          "output_type": "stream",
          "name": "stdout",
          "text": [
            "Addition:\n",
            " [[ 8 10 12]\n",
            " [14 16 18]]\n",
            "Subtraction:\n",
            " [[-6 -6 -6]\n",
            " [-6 -6 -6]]\n",
            "Multiplication:\n",
            " [[ 7 16 27]\n",
            " [40 55 72]]\n",
            "Division:\n",
            " [[0.14285714 0.25       0.33333333]\n",
            " [0.4        0.45454545 0.5       ]]\n"
          ]
        }
      ]
    },
    {
      "cell_type": "markdown",
      "source": [
        "## **Q8. Use NumPy to create a 5x5 identity matrix, then extract its diagonal elements.**"
      ],
      "metadata": {
        "id": "KlNC_xZMSyaT"
      }
    },
    {
      "cell_type": "code",
      "source": [
        "import numpy as np\n",
        "\n",
        "# Create a 5x5 identity matrix\n",
        "identity_matrix = np.eye(5)\n",
        "\n",
        "# Extract the diagonal elements\n",
        "diagonal_elements = np.diagonal(identity_matrix)\n",
        "\n",
        "# Print the results\n",
        "print(\"Identity Matrix:\\n\", identity_matrix)\n",
        "print(\"Diagonal Elements:\", diagonal_elements)"
      ],
      "metadata": {
        "colab": {
          "base_uri": "https://localhost:8080/"
        },
        "id": "ZipmnS-oUdfY",
        "outputId": "50d1d978-8a64-471c-8f0c-fdbbed9f6029"
      },
      "execution_count": null,
      "outputs": [
        {
          "output_type": "stream",
          "name": "stdout",
          "text": [
            "Identity Matrix:\n",
            " [[1. 0. 0. 0. 0.]\n",
            " [0. 1. 0. 0. 0.]\n",
            " [0. 0. 1. 0. 0.]\n",
            " [0. 0. 0. 1. 0.]\n",
            " [0. 0. 0. 0. 1.]]\n",
            "Diagonal Elements: [1. 1. 1. 1. 1.]\n"
          ]
        }
      ]
    },
    {
      "cell_type": "markdown",
      "source": [
        "## **Q9. Generate a NumPy array of 100 random integers between 0 and 1000. Find and display all prime numbers in this array.**"
      ],
      "metadata": {
        "id": "xr7HY6SlS6cD"
      }
    },
    {
      "cell_type": "code",
      "source": [
        "import numpy as np\n",
        "\n",
        "# Function to check if a number is prime\n",
        "def is_prime(n):\n",
        "    if n <= 1:\n",
        "        return False\n",
        "    for i in range(2, int(n**0.5) + 1):\n",
        "        if n % i == 0:\n",
        "            return False\n",
        "    return True\n",
        "\n",
        "# Generate a NumPy array of 100 random integers between 0 and 1000\n",
        "random_integers = np.random.randint(0, 1000, size=100)\n",
        "\n",
        "# Find and display all prime numbers in the array\n",
        "prime_numbers = [num for num in random_integers if is_prime(num)]\n",
        "\n",
        "# Print the results\n",
        "print(\"Random Integers:\", random_integers)\n",
        "print(\"Prime Numbers:\", prime_numbers)"
      ],
      "metadata": {
        "colab": {
          "base_uri": "https://localhost:8080/"
        },
        "id": "yj4XRLgeUeoR",
        "outputId": "73b63d69-e075-4ea7-8269-7a7a241e2502"
      },
      "execution_count": null,
      "outputs": [
        {
          "output_type": "stream",
          "name": "stdout",
          "text": [
            "Random Integers: [ 51 595 639 879 514 809 627 864 619  40 485 698 431 333  92 804 197 124\n",
            " 338 253 266  83  61 207 879 484 296 597  91 962 112 246 474 909 660 941\n",
            " 893 923 762 631 603 667 908 988 651 451  52 914 954 993 190  91 159 877\n",
            " 439 770 312 689 440 453  66 943  86  25 512 808 726 511 812 419 418 935\n",
            " 874 348 182 681 990 807 742 437   2 598 520 700 410 688 253 981 961 331\n",
            " 735 894 710 473 226 892 435 674 799 182]\n",
            "Prime Numbers: [809, 619, 431, 197, 83, 61, 941, 631, 877, 439, 419, 2, 331]\n"
          ]
        }
      ]
    },
    {
      "cell_type": "markdown",
      "source": [
        "## **Q10. Create a NumPy array representing daily temperatures for a month. Calculate and display the weekly averages.**"
      ],
      "metadata": {
        "id": "9lqeJzkxTFR3"
      }
    },
    {
      "cell_type": "code",
      "source": [
        "import numpy as np\n",
        "\n",
        "# Create a NumPy array representing daily temperatures for a month (30 days)\n",
        "np.random.seed(0)  # For reproducibility\n",
        "daily_temperatures = np.random.uniform(32, 90, 30)  # Fahrenheit\n",
        "\n",
        "# Reshape array to 5 weeks, with the last week having fewer days if needed\n",
        "# The total number of elements in the reshaped array must match the original array\n",
        "num_weeks = 5  # Change this to the desired number of weeks\n",
        "weekly_temperatures = daily_temperatures.reshape(num_weeks, -1) #-1 is inferred from the length of the array and remaining dimension which is 5\n",
        "# Calculate weekly averages\n",
        "weekly_averages = np.mean(weekly_temperatures, axis=1)\n",
        "\n",
        "# Display daily temperatures and weekly averages\n",
        "print(\"Daily Temperatures:\")\n",
        "print(daily_temperatures)\n",
        "\n",
        "print(\"\\nWeekly Temperatures:\")\n",
        "print(weekly_temperatures)\n",
        "\n",
        "print(\"\\nWeekly Averages:\")\n",
        "for i, avg in enumerate(weekly_averages):\n",
        "    print(f\"Week {i + 1}: {avg:.2f}°F\")"
      ],
      "metadata": {
        "colab": {
          "base_uri": "https://localhost:8080/"
        },
        "id": "ojOJV0sMXckb",
        "outputId": "b18cd4e1-2060-4827-cd6d-0d2b7d3e6401"
      },
      "execution_count": null,
      "outputs": [
        {
          "output_type": "stream",
          "name": "stdout",
          "text": [
            "Daily Temperatures:\n",
            "[63.83118323 73.48098325 66.96027581 63.60322461 56.57197836 69.46185856\n",
            " 57.38005825 83.72283405 87.89244011 54.23960809 77.92005221 62.67590535\n",
            " 64.94658454 85.68460502 36.12009138 37.05349938 33.17266705 80.29195104\n",
            " 77.13309156 82.4607046  88.75986385 78.35119672 58.76580301 77.27069222\n",
            " 38.8599167  69.11541924 40.31449067 86.79079719 62.26720266 56.05039252]\n",
            "\n",
            "Weekly Temperatures:\n",
            "[[63.83118323 73.48098325 66.96027581 63.60322461 56.57197836 69.46185856]\n",
            " [57.38005825 83.72283405 87.89244011 54.23960809 77.92005221 62.67590535]\n",
            " [64.94658454 85.68460502 36.12009138 37.05349938 33.17266705 80.29195104]\n",
            " [77.13309156 82.4607046  88.75986385 78.35119672 58.76580301 77.27069222]\n",
            " [38.8599167  69.11541924 40.31449067 86.79079719 62.26720266 56.05039252]]\n",
            "\n",
            "Weekly Averages:\n",
            "Week 1: 65.65°F\n",
            "Week 2: 70.64°F\n",
            "Week 3: 56.21°F\n",
            "Week 4: 77.12°F\n",
            "Week 5: 58.90°F\n"
          ]
        }
      ]
    }
  ]
}