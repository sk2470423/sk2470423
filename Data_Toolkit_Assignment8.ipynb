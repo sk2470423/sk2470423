{
  "nbformat": 4,
  "nbformat_minor": 0,
  "metadata": {
    "colab": {
      "provenance": [],
      "include_colab_link": true
    },
    "kernelspec": {
      "name": "python3",
      "display_name": "Python 3"
    },
    "language_info": {
      "name": "python"
    }
  },
  "cells": [
    {
      "cell_type": "markdown",
      "metadata": {
        "id": "view-in-github",
        "colab_type": "text"
      },
      "source": [
        "<a href=\"https://colab.research.google.com/github/sk2470423/sk2470423/blob/main/Data_Toolkit_Assignment8.ipynb\" target=\"_parent\"><img src=\"https://colab.research.google.com/assets/colab-badge.svg\" alt=\"Open In Colab\"/></a>"
      ]
    },
    {
      "cell_type": "code",
      "execution_count": null,
      "metadata": {
        "id": "XsXQ7XYFbQjw",
        "colab": {
          "base_uri": "https://localhost:8080/"
        },
        "outputId": "78f46422-f462-4ae7-8094-70c5d1d90a05"
      },
      "outputs": [
        {
          "output_type": "stream",
          "name": "stdout",
          "text": [
            "Mounted at /content/drive\n"
          ]
        }
      ],
      "source": [
        "from google.colab import drive\n",
        "drive.mount('/content/drive')"
      ]
    },
    {
      "cell_type": "code",
      "source": [
        "import pandas as pd\n",
        "\n",
        "path = '/content/drive/MyDrive/People Data (1).csv'\n",
        "df = pd.read_csv(path)\n",
        "\n",
        "# Dataset is now stored in a Pandas Dataframe\n",
        "\n",
        "df.describe()"
      ],
      "metadata": {
        "colab": {
          "base_uri": "https://localhost:8080/",
          "height": 300
        },
        "id": "4Wbnk44c1cpE",
        "outputId": "27902255-153d-49b2-a521-c16fe6e772b9"
      },
      "execution_count": null,
      "outputs": [
        {
          "output_type": "execute_result",
          "data": {
            "text/plain": [
              "             Index         Salary\n",
              "count  1000.000000    1000.000000\n",
              "mean    500.500000   74640.000000\n",
              "std     288.819436   16136.318687\n",
              "min       1.000000   50000.000000\n",
              "25%     250.750000   60000.000000\n",
              "50%     500.500000   80000.000000\n",
              "75%     750.250000   90000.000000\n",
              "max    1000.000000  100000.000000"
            ],
            "text/html": [
              "\n",
              "  <div id=\"df-fdad5ae5-7f6b-4f03-b89a-e47c707dfa9b\" class=\"colab-df-container\">\n",
              "    <div>\n",
              "<style scoped>\n",
              "    .dataframe tbody tr th:only-of-type {\n",
              "        vertical-align: middle;\n",
              "    }\n",
              "\n",
              "    .dataframe tbody tr th {\n",
              "        vertical-align: top;\n",
              "    }\n",
              "\n",
              "    .dataframe thead th {\n",
              "        text-align: right;\n",
              "    }\n",
              "</style>\n",
              "<table border=\"1\" class=\"dataframe\">\n",
              "  <thead>\n",
              "    <tr style=\"text-align: right;\">\n",
              "      <th></th>\n",
              "      <th>Index</th>\n",
              "      <th>Salary</th>\n",
              "    </tr>\n",
              "  </thead>\n",
              "  <tbody>\n",
              "    <tr>\n",
              "      <th>count</th>\n",
              "      <td>1000.000000</td>\n",
              "      <td>1000.000000</td>\n",
              "    </tr>\n",
              "    <tr>\n",
              "      <th>mean</th>\n",
              "      <td>500.500000</td>\n",
              "      <td>74640.000000</td>\n",
              "    </tr>\n",
              "    <tr>\n",
              "      <th>std</th>\n",
              "      <td>288.819436</td>\n",
              "      <td>16136.318687</td>\n",
              "    </tr>\n",
              "    <tr>\n",
              "      <th>min</th>\n",
              "      <td>1.000000</td>\n",
              "      <td>50000.000000</td>\n",
              "    </tr>\n",
              "    <tr>\n",
              "      <th>25%</th>\n",
              "      <td>250.750000</td>\n",
              "      <td>60000.000000</td>\n",
              "    </tr>\n",
              "    <tr>\n",
              "      <th>50%</th>\n",
              "      <td>500.500000</td>\n",
              "      <td>80000.000000</td>\n",
              "    </tr>\n",
              "    <tr>\n",
              "      <th>75%</th>\n",
              "      <td>750.250000</td>\n",
              "      <td>90000.000000</td>\n",
              "    </tr>\n",
              "    <tr>\n",
              "      <th>max</th>\n",
              "      <td>1000.000000</td>\n",
              "      <td>100000.000000</td>\n",
              "    </tr>\n",
              "  </tbody>\n",
              "</table>\n",
              "</div>\n",
              "    <div class=\"colab-df-buttons\">\n",
              "\n",
              "  <div class=\"colab-df-container\">\n",
              "    <button class=\"colab-df-convert\" onclick=\"convertToInteractive('df-fdad5ae5-7f6b-4f03-b89a-e47c707dfa9b')\"\n",
              "            title=\"Convert this dataframe to an interactive table.\"\n",
              "            style=\"display:none;\">\n",
              "\n",
              "  <svg xmlns=\"http://www.w3.org/2000/svg\" height=\"24px\" viewBox=\"0 -960 960 960\">\n",
              "    <path d=\"M120-120v-720h720v720H120Zm60-500h600v-160H180v160Zm220 220h160v-160H400v160Zm0 220h160v-160H400v160ZM180-400h160v-160H180v160Zm440 0h160v-160H620v160ZM180-180h160v-160H180v160Zm440 0h160v-160H620v160Z\"/>\n",
              "  </svg>\n",
              "    </button>\n",
              "\n",
              "  <style>\n",
              "    .colab-df-container {\n",
              "      display:flex;\n",
              "      gap: 12px;\n",
              "    }\n",
              "\n",
              "    .colab-df-convert {\n",
              "      background-color: #E8F0FE;\n",
              "      border: none;\n",
              "      border-radius: 50%;\n",
              "      cursor: pointer;\n",
              "      display: none;\n",
              "      fill: #1967D2;\n",
              "      height: 32px;\n",
              "      padding: 0 0 0 0;\n",
              "      width: 32px;\n",
              "    }\n",
              "\n",
              "    .colab-df-convert:hover {\n",
              "      background-color: #E2EBFA;\n",
              "      box-shadow: 0px 1px 2px rgba(60, 64, 67, 0.3), 0px 1px 3px 1px rgba(60, 64, 67, 0.15);\n",
              "      fill: #174EA6;\n",
              "    }\n",
              "\n",
              "    .colab-df-buttons div {\n",
              "      margin-bottom: 4px;\n",
              "    }\n",
              "\n",
              "    [theme=dark] .colab-df-convert {\n",
              "      background-color: #3B4455;\n",
              "      fill: #D2E3FC;\n",
              "    }\n",
              "\n",
              "    [theme=dark] .colab-df-convert:hover {\n",
              "      background-color: #434B5C;\n",
              "      box-shadow: 0px 1px 3px 1px rgba(0, 0, 0, 0.15);\n",
              "      filter: drop-shadow(0px 1px 2px rgba(0, 0, 0, 0.3));\n",
              "      fill: #FFFFFF;\n",
              "    }\n",
              "  </style>\n",
              "\n",
              "    <script>\n",
              "      const buttonEl =\n",
              "        document.querySelector('#df-fdad5ae5-7f6b-4f03-b89a-e47c707dfa9b button.colab-df-convert');\n",
              "      buttonEl.style.display =\n",
              "        google.colab.kernel.accessAllowed ? 'block' : 'none';\n",
              "\n",
              "      async function convertToInteractive(key) {\n",
              "        const element = document.querySelector('#df-fdad5ae5-7f6b-4f03-b89a-e47c707dfa9b');\n",
              "        const dataTable =\n",
              "          await google.colab.kernel.invokeFunction('convertToInteractive',\n",
              "                                                    [key], {});\n",
              "        if (!dataTable) return;\n",
              "\n",
              "        const docLinkHtml = 'Like what you see? Visit the ' +\n",
              "          '<a target=\"_blank\" href=https://colab.research.google.com/notebooks/data_table.ipynb>data table notebook</a>'\n",
              "          + ' to learn more about interactive tables.';\n",
              "        element.innerHTML = '';\n",
              "        dataTable['output_type'] = 'display_data';\n",
              "        await google.colab.output.renderOutput(dataTable, element);\n",
              "        const docLink = document.createElement('div');\n",
              "        docLink.innerHTML = docLinkHtml;\n",
              "        element.appendChild(docLink);\n",
              "      }\n",
              "    </script>\n",
              "  </div>\n",
              "\n",
              "\n",
              "<div id=\"df-d6b1dfe7-5b36-46a5-8064-981e2c8fcf0f\">\n",
              "  <button class=\"colab-df-quickchart\" onclick=\"quickchart('df-d6b1dfe7-5b36-46a5-8064-981e2c8fcf0f')\"\n",
              "            title=\"Suggest charts\"\n",
              "            style=\"display:none;\">\n",
              "\n",
              "<svg xmlns=\"http://www.w3.org/2000/svg\" height=\"24px\"viewBox=\"0 0 24 24\"\n",
              "     width=\"24px\">\n",
              "    <g>\n",
              "        <path d=\"M19 3H5c-1.1 0-2 .9-2 2v14c0 1.1.9 2 2 2h14c1.1 0 2-.9 2-2V5c0-1.1-.9-2-2-2zM9 17H7v-7h2v7zm4 0h-2V7h2v10zm4 0h-2v-4h2v4z\"/>\n",
              "    </g>\n",
              "</svg>\n",
              "  </button>\n",
              "\n",
              "<style>\n",
              "  .colab-df-quickchart {\n",
              "      --bg-color: #E8F0FE;\n",
              "      --fill-color: #1967D2;\n",
              "      --hover-bg-color: #E2EBFA;\n",
              "      --hover-fill-color: #174EA6;\n",
              "      --disabled-fill-color: #AAA;\n",
              "      --disabled-bg-color: #DDD;\n",
              "  }\n",
              "\n",
              "  [theme=dark] .colab-df-quickchart {\n",
              "      --bg-color: #3B4455;\n",
              "      --fill-color: #D2E3FC;\n",
              "      --hover-bg-color: #434B5C;\n",
              "      --hover-fill-color: #FFFFFF;\n",
              "      --disabled-bg-color: #3B4455;\n",
              "      --disabled-fill-color: #666;\n",
              "  }\n",
              "\n",
              "  .colab-df-quickchart {\n",
              "    background-color: var(--bg-color);\n",
              "    border: none;\n",
              "    border-radius: 50%;\n",
              "    cursor: pointer;\n",
              "    display: none;\n",
              "    fill: var(--fill-color);\n",
              "    height: 32px;\n",
              "    padding: 0;\n",
              "    width: 32px;\n",
              "  }\n",
              "\n",
              "  .colab-df-quickchart:hover {\n",
              "    background-color: var(--hover-bg-color);\n",
              "    box-shadow: 0 1px 2px rgba(60, 64, 67, 0.3), 0 1px 3px 1px rgba(60, 64, 67, 0.15);\n",
              "    fill: var(--button-hover-fill-color);\n",
              "  }\n",
              "\n",
              "  .colab-df-quickchart-complete:disabled,\n",
              "  .colab-df-quickchart-complete:disabled:hover {\n",
              "    background-color: var(--disabled-bg-color);\n",
              "    fill: var(--disabled-fill-color);\n",
              "    box-shadow: none;\n",
              "  }\n",
              "\n",
              "  .colab-df-spinner {\n",
              "    border: 2px solid var(--fill-color);\n",
              "    border-color: transparent;\n",
              "    border-bottom-color: var(--fill-color);\n",
              "    animation:\n",
              "      spin 1s steps(1) infinite;\n",
              "  }\n",
              "\n",
              "  @keyframes spin {\n",
              "    0% {\n",
              "      border-color: transparent;\n",
              "      border-bottom-color: var(--fill-color);\n",
              "      border-left-color: var(--fill-color);\n",
              "    }\n",
              "    20% {\n",
              "      border-color: transparent;\n",
              "      border-left-color: var(--fill-color);\n",
              "      border-top-color: var(--fill-color);\n",
              "    }\n",
              "    30% {\n",
              "      border-color: transparent;\n",
              "      border-left-color: var(--fill-color);\n",
              "      border-top-color: var(--fill-color);\n",
              "      border-right-color: var(--fill-color);\n",
              "    }\n",
              "    40% {\n",
              "      border-color: transparent;\n",
              "      border-right-color: var(--fill-color);\n",
              "      border-top-color: var(--fill-color);\n",
              "    }\n",
              "    60% {\n",
              "      border-color: transparent;\n",
              "      border-right-color: var(--fill-color);\n",
              "    }\n",
              "    80% {\n",
              "      border-color: transparent;\n",
              "      border-right-color: var(--fill-color);\n",
              "      border-bottom-color: var(--fill-color);\n",
              "    }\n",
              "    90% {\n",
              "      border-color: transparent;\n",
              "      border-bottom-color: var(--fill-color);\n",
              "    }\n",
              "  }\n",
              "</style>\n",
              "\n",
              "  <script>\n",
              "    async function quickchart(key) {\n",
              "      const quickchartButtonEl =\n",
              "        document.querySelector('#' + key + ' button');\n",
              "      quickchartButtonEl.disabled = true;  // To prevent multiple clicks.\n",
              "      quickchartButtonEl.classList.add('colab-df-spinner');\n",
              "      try {\n",
              "        const charts = await google.colab.kernel.invokeFunction(\n",
              "            'suggestCharts', [key], {});\n",
              "      } catch (error) {\n",
              "        console.error('Error during call to suggestCharts:', error);\n",
              "      }\n",
              "      quickchartButtonEl.classList.remove('colab-df-spinner');\n",
              "      quickchartButtonEl.classList.add('colab-df-quickchart-complete');\n",
              "    }\n",
              "    (() => {\n",
              "      let quickchartButtonEl =\n",
              "        document.querySelector('#df-d6b1dfe7-5b36-46a5-8064-981e2c8fcf0f button');\n",
              "      quickchartButtonEl.style.display =\n",
              "        google.colab.kernel.accessAllowed ? 'block' : 'none';\n",
              "    })();\n",
              "  </script>\n",
              "</div>\n",
              "\n",
              "    </div>\n",
              "  </div>\n"
            ],
            "application/vnd.google.colaboratory.intrinsic+json": {
              "type": "dataframe",
              "summary": "{\n  \"name\": \"df\",\n  \"rows\": 8,\n  \"fields\": [\n    {\n      \"column\": \"Index\",\n      \"properties\": {\n        \"dtype\": \"number\",\n        \"std\": 360.1000917722167,\n        \"min\": 1.0,\n        \"max\": 1000.0,\n        \"num_unique_values\": 6,\n        \"samples\": [\n          1000.0,\n          500.5,\n          750.25\n        ],\n        \"semantic_type\": \"\",\n        \"description\": \"\"\n      }\n    },\n    {\n      \"column\": \"Salary\",\n      \"properties\": {\n        \"dtype\": \"number\",\n        \"std\": 35073.185772250166,\n        \"min\": 1000.0,\n        \"max\": 100000.0,\n        \"num_unique_values\": 8,\n        \"samples\": [\n          74640.0,\n          80000.0,\n          1000.0\n        ],\n        \"semantic_type\": \"\",\n        \"description\": \"\"\n      }\n    }\n  ]\n}"
            }
          },
          "metadata": {},
          "execution_count": 59
        }
      ]
    },
    {
      "cell_type": "markdown",
      "source": [
        "Q1. Demonstrate three different methods for creating identical 2D arrays in NumPy. Provide the code for each\n",
        "method and the final output after each method."
      ],
      "metadata": {
        "id": "QnCP6QckiG1W"
      }
    },
    {
      "cell_type": "code",
      "source": [
        "# prompt: Demonstrate three different methods for creating identical 2D arrays in NumPy. Provide the code for each\n",
        "# method and the final output after each method.\n",
        "\n",
        "import numpy as np\n",
        "\n",
        "# Method 1: Using nested lists\n",
        "array_1 = np.array([[1, 2, 3], [4, 5, 6], [7, 8, 9]])\n",
        "print(\"Method 1 (Nested Lists):\")\n",
        "print(array_1)\n",
        "\n",
        "\n",
        "# Method 2: Using np.arange and reshape\n",
        "array_2 = np.arange(1, 10).reshape(3, 3)\n",
        "print(\"\\nMethod 2 (arange and reshape):\")\n",
        "print(array_2)\n",
        "\n",
        "\n",
        "# Method 3: Using np.full\n",
        "array_3 = np.full((3, 3), 0)  # Initialize with zeros\n",
        "for i in range(3):\n",
        "  for j in range(3):\n",
        "    array_3[i, j] = i*3 + j + 1\n",
        "print(\"\\nMethod 3 (np.full):\")\n",
        "print(array_3)"
      ],
      "metadata": {
        "colab": {
          "base_uri": "https://localhost:8080/"
        },
        "id": "T9TWCuDLLyYP",
        "outputId": "f881b0e7-6d71-4dde-debe-3764cad00b1b"
      },
      "execution_count": null,
      "outputs": [
        {
          "output_type": "stream",
          "name": "stdout",
          "text": [
            "Method 1 (Nested Lists):\n",
            "[[1 2 3]\n",
            " [4 5 6]\n",
            " [7 8 9]]\n",
            "\n",
            "Method 2 (arange and reshape):\n",
            "[[1 2 3]\n",
            " [4 5 6]\n",
            " [7 8 9]]\n",
            "\n",
            "Method 3 (np.full):\n",
            "[[1 2 3]\n",
            " [4 5 6]\n",
            " [7 8 9]]\n"
          ]
        }
      ]
    },
    {
      "cell_type": "markdown",
      "source": [
        "Q2. Using the Numpy function, generate an array of 100 evenly spaced numbers between 1 and 10 and\n",
        "Reshape that 1D array into a 2D array"
      ],
      "metadata": {
        "id": "y6gDWFN9L5hu"
      }
    },
    {
      "cell_type": "code",
      "source": [
        "# prompt: Using the Numpy function, generate an array of 100 evenly spaced numbers between 1 and 10 and\n",
        "# Reshape that 1D array into a 2D array\n",
        "\n",
        "import numpy as np\n",
        "\n",
        "# Generate an array of 100 evenly spaced numbers between 1 and 10\n",
        "array_1d = np.linspace(1, 10, 100)\n",
        "\n",
        "# Reshape the 1D array into a 2D array (e.g., 10x10)\n",
        "array_2d = array_1d.reshape(10, 10)\n",
        "\n",
        "print(\"Original 1D array:\\n\", array_1d)\n",
        "print(\"\\nReshaped 2D array:\\n\", array_2d)"
      ],
      "metadata": {
        "colab": {
          "base_uri": "https://localhost:8080/"
        },
        "id": "hymuqZm0Lze1",
        "outputId": "7a4c2b42-898e-43bd-ce58-af21db7afb13"
      },
      "execution_count": null,
      "outputs": [
        {
          "output_type": "stream",
          "name": "stdout",
          "text": [
            "Original 1D array:\n",
            " [ 1.          1.09090909  1.18181818  1.27272727  1.36363636  1.45454545\n",
            "  1.54545455  1.63636364  1.72727273  1.81818182  1.90909091  2.\n",
            "  2.09090909  2.18181818  2.27272727  2.36363636  2.45454545  2.54545455\n",
            "  2.63636364  2.72727273  2.81818182  2.90909091  3.          3.09090909\n",
            "  3.18181818  3.27272727  3.36363636  3.45454545  3.54545455  3.63636364\n",
            "  3.72727273  3.81818182  3.90909091  4.          4.09090909  4.18181818\n",
            "  4.27272727  4.36363636  4.45454545  4.54545455  4.63636364  4.72727273\n",
            "  4.81818182  4.90909091  5.          5.09090909  5.18181818  5.27272727\n",
            "  5.36363636  5.45454545  5.54545455  5.63636364  5.72727273  5.81818182\n",
            "  5.90909091  6.          6.09090909  6.18181818  6.27272727  6.36363636\n",
            "  6.45454545  6.54545455  6.63636364  6.72727273  6.81818182  6.90909091\n",
            "  7.          7.09090909  7.18181818  7.27272727  7.36363636  7.45454545\n",
            "  7.54545455  7.63636364  7.72727273  7.81818182  7.90909091  8.\n",
            "  8.09090909  8.18181818  8.27272727  8.36363636  8.45454545  8.54545455\n",
            "  8.63636364  8.72727273  8.81818182  8.90909091  9.          9.09090909\n",
            "  9.18181818  9.27272727  9.36363636  9.45454545  9.54545455  9.63636364\n",
            "  9.72727273  9.81818182  9.90909091 10.        ]\n",
            "\n",
            "Reshaped 2D array:\n",
            " [[ 1.          1.09090909  1.18181818  1.27272727  1.36363636  1.45454545\n",
            "   1.54545455  1.63636364  1.72727273  1.81818182]\n",
            " [ 1.90909091  2.          2.09090909  2.18181818  2.27272727  2.36363636\n",
            "   2.45454545  2.54545455  2.63636364  2.72727273]\n",
            " [ 2.81818182  2.90909091  3.          3.09090909  3.18181818  3.27272727\n",
            "   3.36363636  3.45454545  3.54545455  3.63636364]\n",
            " [ 3.72727273  3.81818182  3.90909091  4.          4.09090909  4.18181818\n",
            "   4.27272727  4.36363636  4.45454545  4.54545455]\n",
            " [ 4.63636364  4.72727273  4.81818182  4.90909091  5.          5.09090909\n",
            "   5.18181818  5.27272727  5.36363636  5.45454545]\n",
            " [ 5.54545455  5.63636364  5.72727273  5.81818182  5.90909091  6.\n",
            "   6.09090909  6.18181818  6.27272727  6.36363636]\n",
            " [ 6.45454545  6.54545455  6.63636364  6.72727273  6.81818182  6.90909091\n",
            "   7.          7.09090909  7.18181818  7.27272727]\n",
            " [ 7.36363636  7.45454545  7.54545455  7.63636364  7.72727273  7.81818182\n",
            "   7.90909091  8.          8.09090909  8.18181818]\n",
            " [ 8.27272727  8.36363636  8.45454545  8.54545455  8.63636364  8.72727273\n",
            "   8.81818182  8.90909091  9.          9.09090909]\n",
            " [ 9.18181818  9.27272727  9.36363636  9.45454545  9.54545455  9.63636364\n",
            "   9.72727273  9.81818182  9.90909091 10.        ]]\n"
          ]
        }
      ]
    },
    {
      "cell_type": "markdown",
      "source": [
        "Q3. Explain the following termsg\n",
        "\n",
        "a. The difference in np.array, np.asarray and np.asanyarray"
      ],
      "metadata": {
        "id": "KTb3-LkhMJ5W"
      }
    },
    {
      "cell_type": "markdown",
      "source": [
        "np.array, np.asarray, and np.asanyarray are all NumPy functions used to create arrays from existing data structures or to convert data into NumPy arrays.\n",
        "However, they differ in their approach to handling input data:\n",
        "\n",
        "1. np.array:\n",
        "\n",
        "- It always creates a new array, even if the input is already a NumPy array.\n",
        "- It copies the input data into a new array, which ensures that modifying the new array doesn't affect the original data.\n",
        "- It is the most common and versatile method for creating NumPy arrays.\n",
        "\n",
        "2. np.asarray:\n",
        "\n",
        "- It tries to convert the input to a NumPy array without copying the data if the input is already an ndarray.\n",
        "- If the input is not an ndarray, it creates a new array and copies the data.\n",
        "- It is useful when you want to ensure that you have a NumPy array but want to avoid unnecessary copying if the input is already an array.\n",
        "\n",
        "3. np.asanyarray:\n",
        "\n",
        "- It is similar to np.asarray but it doesn't convert the input if it is already a subclass of ndarray.\n",
        "- It only converts the input if it is not an ndarray or a subclass of it.\n",
        "- It can be beneficial when you need to ensure that you have an array but prefer to keep the original data structure if it is already a subclass of ndarray.\n",
        "\n",
        "Here's a brief summary:\n",
        "\n",
        "| Function | Description | Copies Input Data | Suitable For |\n",
        "|---|---|---|---|\n",
        "| np.array | Always creates a new array | Yes | General purpose array creation |\n",
        "| np.asarray | Tries to convert without copying if already an ndarray | No (if input is ndarray) | When you want to avoid unnecessary copying |\n",
        "| np.asanyarray | Tries to convert without copying if already an ndarray or subclass | No (if input is ndarray or subclass) | When you want to maintain subclass behavior |"
      ],
      "metadata": {
        "id": "DT65v85jMgYm"
      }
    },
    {
      "cell_type": "markdown",
      "source": [
        "b. The difference between Deep copy and shallow copy\n",
        "\n",
        "The key difference between shallow copy and deep copy revolves around how they handle object references when copying an object, especially when that object contains other objects (like lists or arrays).\n",
        "\n",
        "1. Shallow Copy:\n",
        "* A shallow copy creates a new object, but does not recursively copy the objects contained within the original object.\n",
        "* Instead, the shallow copy references the same objects (sub-elements) as the original.\n",
        "* If the original object contains mutable objects (like lists or arrays), any changes made to these objects in the shallow copy will reflect in the original, because they share references to the same inner objects.\n",
        "* For simple (non-nested) objects, the shallow copy behaves similarly to a deep copy because there are no references to nested objects.\n",
        "\n",
        "Example:"
      ],
      "metadata": {
        "id": "XFOlkwlXpHv7"
      }
    },
    {
      "cell_type": "code",
      "source": [
        "import copy\n",
        "\n",
        "original = [[1, 2, 3], [4, 5, 6]]\n",
        "shallow_copy = copy.copy(original)\n",
        "\n",
        "shallow_copy[0][0] = 10\n",
        "\n",
        "print(\"Original:\", original)\n",
        "print(\"Shallow copy:\", shallow_copy)\n"
      ],
      "metadata": {
        "colab": {
          "base_uri": "https://localhost:8080/"
        },
        "id": "nudhBoZqpGh9",
        "outputId": "7b473789-7fab-4efe-e55d-bd099564f55d"
      },
      "execution_count": null,
      "outputs": [
        {
          "output_type": "stream",
          "name": "stdout",
          "text": [
            "Original: [[10, 2, 3], [4, 5, 6]]\n",
            "Shallow copy: [[10, 2, 3], [4, 5, 6]]\n"
          ]
        }
      ]
    },
    {
      "cell_type": "markdown",
      "source": [
        "2. Deep Copy:\n",
        "* A deep copy creates a new object and recursively copies all the objects contained within the original, so that the new object is completely independent of the original.\n",
        "* Changes made to the deep copy do not affect the original object and vice versa, because the deep copy holds independent copies of all nested objects.\n",
        "\n",
        "Example:"
      ],
      "metadata": {
        "id": "S3fyU9ggp4sJ"
      }
    },
    {
      "cell_type": "code",
      "source": [
        "import copy\n",
        "\n",
        "original = [[1, 2, 3], [4, 5, 6]]\n",
        "deep_copy = copy.deepcopy(original)\n",
        "\n",
        "deep_copy[0][0] = 10\n",
        "\n",
        "print(\"Original:\", original)\n",
        "print(\"Deep copy:\", deep_copy)\n"
      ],
      "metadata": {
        "colab": {
          "base_uri": "https://localhost:8080/"
        },
        "id": "pao4H_z_pG07",
        "outputId": "012a8aed-d217-4647-dd0f-80be158874e2"
      },
      "execution_count": null,
      "outputs": [
        {
          "output_type": "stream",
          "name": "stdout",
          "text": [
            "Original: [[1, 2, 3], [4, 5, 6]]\n",
            "Deep copy: [[10, 2, 3], [4, 5, 6]]\n"
          ]
        }
      ]
    },
    {
      "cell_type": "markdown",
      "source": [
        "Q4. Generate a 3x3 array with random floating-point numbers between 5 and 20. Then, round each number in\n",
        "the array to 2 decimal places\n",
        "\n"
      ],
      "metadata": {
        "id": "IPbUPgTOqCJu"
      }
    },
    {
      "cell_type": "code",
      "source": [
        "import numpy as np\n",
        "\n",
        "# Generate a 3x3 array with random floating-point numbers between 5 and 20\n",
        "random_array = np.random.uniform(5, 20, size=(3, 3))\n",
        "\n",
        "# Round each number in the array to 2 decimal places\n",
        "rounded_array = np.round(random_array, 2)\n",
        "\n",
        "print(\"Original array:\\n\", random_array)\n",
        "print(\"\\nRounded array:\\n\", rounded_array)\n"
      ],
      "metadata": {
        "colab": {
          "base_uri": "https://localhost:8080/"
        },
        "id": "HHe3Zp1nqC66",
        "outputId": "7606c92a-1b66-4d0d-d7a3-d4bde7b343c1"
      },
      "execution_count": null,
      "outputs": [
        {
          "output_type": "stream",
          "name": "stdout",
          "text": [
            "Original array:\n",
            " [[ 5.75204753 18.52444447  5.46645004]\n",
            " [ 9.77200545  9.01020144 17.08289324]\n",
            " [11.51680534  9.76104077  6.00343313]]\n",
            "\n",
            "Rounded array:\n",
            " [[ 5.75 18.52  5.47]\n",
            " [ 9.77  9.01 17.08]\n",
            " [11.52  9.76  6.  ]]\n"
          ]
        }
      ]
    },
    {
      "cell_type": "markdown",
      "source": [
        "Q5. Create a NumPy array with random integers between 1 and 10 of shape (5, 6). After creating the array\n",
        "perform the following operations:\n",
        "\n",
        " a)Extract all even integers from array"
      ],
      "metadata": {
        "id": "tdWwChtAunuS"
      }
    },
    {
      "cell_type": "code",
      "source": [
        "import numpy as np\n",
        "\n",
        "# Create a NumPy array with random integers between 1 and 10 of shape (5, 6)\n",
        "random_array = np.random.randint(1, 11, size=(5, 6))\n",
        "\n",
        "print(\"Original array:\\n\", random_array)\n",
        "\n",
        "# Extract all even integers from the array\n",
        "even_integers = random_array[random_array % 2 == 0]\n",
        "\n",
        "print(\"\\nEven integers:\\n\", even_integers)"
      ],
      "metadata": {
        "colab": {
          "base_uri": "https://localhost:8080/"
        },
        "id": "rMuFnS0QuwLa",
        "outputId": "fc84a176-375e-4692-c681-8e1b5bc39e5a"
      },
      "execution_count": null,
      "outputs": [
        {
          "output_type": "stream",
          "name": "stdout",
          "text": [
            "Original array:\n",
            " [[3 6 7 1 4 4]\n",
            " [4 1 8 5 4 3]\n",
            " [1 9 5 5 2 9]\n",
            " [3 5 9 5 9 5]\n",
            " [4 2 8 2 7 2]]\n",
            "\n",
            "Even integers:\n",
            " [6 4 4 4 8 4 2 4 2 8 2 2]\n"
          ]
        }
      ]
    },
    {
      "cell_type": "markdown",
      "source": [
        "b)Extract all odd integers from array."
      ],
      "metadata": {
        "id": "OFC0Y1rZu8BZ"
      }
    },
    {
      "cell_type": "code",
      "source": [
        "odd_integers = random_array[random_array % 2 != 0]\n",
        "\n",
        "print(\"\\nOdd integers:\\n\", odd_integers)"
      ],
      "metadata": {
        "colab": {
          "base_uri": "https://localhost:8080/"
        },
        "id": "0cxSswLWu59A",
        "outputId": "b3ed49ec-195c-4df1-a30c-ba5b4691d62d"
      },
      "execution_count": null,
      "outputs": [
        {
          "output_type": "stream",
          "name": "stdout",
          "text": [
            "\n",
            "Odd integers:\n",
            " [3 7 1 1 5 3 1 9 5 5 9 3 5 9 5 9 5 7]\n"
          ]
        }
      ]
    },
    {
      "cell_type": "markdown",
      "source": [
        "Q6. Create a 3D NumPy array of shape (3, 3, 3) containing random integers between 1 and 10. Perform the\n",
        "following operations:\n",
        "\n",
        " a) Find the indices of the maximum values along each depth level (third axis)\n"
      ],
      "metadata": {
        "id": "EaDaTwt1vGav"
      }
    },
    {
      "cell_type": "code",
      "source": [
        "import numpy as np\n",
        "\n",
        "# Create a 3D NumPy array of shape (3, 3, 3) containing random integers between 1 and 10\n",
        "array_3d = np.random.randint(1, 11, size=(3, 3, 3))\n",
        "\n",
        "print(\"Original 3D array:\\n\", array_3d)\n",
        "\n",
        "# Find the indices of the maximum values along each depth level (third axis)\n",
        "max_indices = np.argmax(array_3d, axis=2)\n",
        "\n",
        "print(\"\\nIndices of maximum values along each depth level:\\n\", max_indices)"
      ],
      "metadata": {
        "colab": {
          "base_uri": "https://localhost:8080/"
        },
        "id": "8TTs9RNHvG2h",
        "outputId": "9044e1d0-5485-446a-ed3b-f130429b571e"
      },
      "execution_count": null,
      "outputs": [
        {
          "output_type": "stream",
          "name": "stdout",
          "text": [
            "Original 3D array:\n",
            " [[[ 8 10  6]\n",
            "  [ 6  6  5]\n",
            "  [10  1  4]]\n",
            "\n",
            " [[ 3  8  1]\n",
            "  [10  9  8]\n",
            "  [ 1  9  9]]\n",
            "\n",
            " [[ 5  3  7]\n",
            "  [10 10  1]\n",
            "  [10  8  3]]]\n",
            "\n",
            "Indices of maximum values along each depth level:\n",
            " [[1 0 0]\n",
            " [1 0 1]\n",
            " [2 0 0]]\n"
          ]
        }
      ]
    },
    {
      "cell_type": "markdown",
      "source": [
        "b) Perform element-wise multiplication of between both array"
      ],
      "metadata": {
        "id": "9Y-rdDVpvTsH"
      }
    },
    {
      "cell_type": "code",
      "source": [
        "import numpy as np\n",
        "# Create a 3D NumPy array of shape (3, 3, 3) containing random integers between 1 and 10\n",
        "array_3d = np.random.randint(1, 11, size=(3, 3, 3))\n",
        "\n",
        "print(\"Original 3D array:\\n\", array_3d)\n",
        "\n",
        "# Create another 3D array with the same shape and random integers between 1 and 10\n",
        "array_3d_2 = np.random.randint(1, 11, size=(3, 3, 3))\n",
        "\n",
        "print(\"\\nSecond 3D array:\\n\", array_3d_2)\n",
        "\n",
        "# Perform element-wise multiplication between the two arrays\n",
        "elementwise_product = np.multiply(array_3d, array_3d_2)\n",
        "\n",
        "print(\"\\nElement-wise product:\\n\", elementwise_product)"
      ],
      "metadata": {
        "colab": {
          "base_uri": "https://localhost:8080/"
        },
        "id": "jjsF-3r5vT3X",
        "outputId": "afa591f0-8773-43ad-c4bb-3af054348974"
      },
      "execution_count": null,
      "outputs": [
        {
          "output_type": "stream",
          "name": "stdout",
          "text": [
            "Original 3D array:\n",
            " [[[ 3  7  6]\n",
            "  [ 7  9  2]\n",
            "  [ 1  9 10]]\n",
            "\n",
            " [[ 8  9  2]\n",
            "  [ 4  4  8]\n",
            "  [ 8  1  9]]\n",
            "\n",
            " [[ 1  2  2]\n",
            "  [ 7  8  9]\n",
            "  [ 9  5  5]]]\n",
            "\n",
            "Second 3D array:\n",
            " [[[ 8  6  7]\n",
            "  [ 1  8  3]\n",
            "  [ 5  9  3]]\n",
            "\n",
            " [[ 5  1  1]\n",
            "  [ 9  1  7]\n",
            "  [10  3  4]]\n",
            "\n",
            " [[ 3  7 10]\n",
            "  [ 3  4  5]\n",
            "  [ 7  5  2]]]\n",
            "\n",
            "Element-wise product:\n",
            " [[[24 42 42]\n",
            "  [ 7 72  6]\n",
            "  [ 5 81 30]]\n",
            "\n",
            " [[40  9  2]\n",
            "  [36  4 56]\n",
            "  [80  3 36]]\n",
            "\n",
            " [[ 3 14 20]\n",
            "  [21 32 45]\n",
            "  [63 25 10]]]\n"
          ]
        }
      ]
    },
    {
      "cell_type": "markdown",
      "source": [
        "Q7. Clean and transform the 'Phone' column in the sample dataset to remove non-numeric characters and\n",
        "convert it to a numeric data type. Also display the table attributes and data types of each column."
      ],
      "metadata": {
        "id": "yvg0ApRqvf53"
      }
    },
    {
      "cell_type": "code",
      "source": [
        "import pandas as pd\n",
        "import numpy as np\n",
        "\n",
        "# Sample dataset (replace this with your actual dataset)\n",
        "data = {'Name': ['Alice', 'Bob', 'Charlie', 'David'],\n",
        "        'Phone': ['(123) 456-7890', '555-123-4567', '+44 7777 123456', '1-800-555-1212'],\n",
        "        'Age': [25, 30, 28, 35]}\n",
        "\n",
        "df = pd.DataFrame(data)\n",
        "\n",
        "# Clean and transform the 'Phone' column\n",
        "df['Phone'] = df['Phone'].str.replace(r'\\D', '', regex=True)\n",
        "df['Phone'] = pd.to_numeric(df['Phone'], errors='coerce')\n",
        "\n",
        "# Display table attributes and data types\n",
        "print(\"Table Attributes and Data Types:\")\n",
        "print(df.info())\n",
        "print(\"\\nDataFrame:\")\n",
        "print(df)"
      ],
      "metadata": {
        "colab": {
          "base_uri": "https://localhost:8080/"
        },
        "id": "L53ydm3ivgYu",
        "outputId": "bb601030-dea9-4d67-d44c-62238f5f491b"
      },
      "execution_count": null,
      "outputs": [
        {
          "output_type": "stream",
          "name": "stdout",
          "text": [
            "Table Attributes and Data Types:\n",
            "<class 'pandas.core.frame.DataFrame'>\n",
            "RangeIndex: 4 entries, 0 to 3\n",
            "Data columns (total 3 columns):\n",
            " #   Column  Non-Null Count  Dtype \n",
            "---  ------  --------------  ----- \n",
            " 0   Name    4 non-null      object\n",
            " 1   Phone   4 non-null      int64 \n",
            " 2   Age     4 non-null      int64 \n",
            "dtypes: int64(2), object(1)\n",
            "memory usage: 224.0+ bytes\n",
            "None\n",
            "\n",
            "DataFrame:\n",
            "      Name         Phone  Age\n",
            "0    Alice    1234567890   25\n",
            "1      Bob    5551234567   30\n",
            "2  Charlie  447777123456   28\n",
            "3    David   18005551212   35\n"
          ]
        }
      ]
    },
    {
      "cell_type": "markdown",
      "source": [
        "Q8. Perform the following tasks using people dataset:\n",
        "\n",
        " a) Read the 'data.csv' file using pandas, skipping the first 50 rows."
      ],
      "metadata": {
        "id": "dWIoaMlKv0WB"
      }
    },
    {
      "cell_type": "code",
      "source": [
        "import pandas as pd\n",
        "\n",
        "# Assuming 'People Data (1).csv' is in the current working directory or you provide the correct path\n",
        "df = pd.read_csv('/content/drive/MyDrive/People Data (1).csv', skiprows=50)  # Skip the first 50 rows\n",
        "\n",
        "print(df.head())  # Display the first few rows of the DataFrame"
      ],
      "metadata": {
        "colab": {
          "base_uri": "https://localhost:8080/"
        },
        "id": "vnFaJEZwvgjP",
        "outputId": "19f8f296-aae5-49f1-be44-35db9084144e"
      },
      "execution_count": null,
      "outputs": [
        {
          "output_type": "stream",
          "name": "stdout",
          "text": [
            "   50  afF3018e9cdd1dA     George  Mercer  Female  \\\n",
            "0  51  CccE5DAb6E288e5         Jo  Zavala    Male   \n",
            "1  52  DfBDc3621D4bcec     Joshua   Carey  Female   \n",
            "2  53  f55b0A249f5E44D     Rickey   Hobbs  Female   \n",
            "3  54  Ed71DcfaBFd0beE      Robyn  Reilly    Male   \n",
            "4  55  FDaFD0c3f5387EC  Christina  Conrad    Male   \n",
            "\n",
            "  douglascontreras@example.net    +1-326-669-0118x4341  11-09-1941  \\\n",
            "0         pamela64@example.net  001-859-448-9935x54536  23-11-1992   \n",
            "1    dianashepherd@example.net    001-274-739-8470x814  07-01-1915   \n",
            "2    ingramtiffany@example.org        241.179.9509x498  01-07-1910   \n",
            "3   carriecrawford@example.org       207.797.8345x6177  27-07-1982   \n",
            "4   fuentesclaudia@example.net    001-599-042-7428x143  06-01-1998   \n",
            "\n",
            "  Human resources officer   70000  \n",
            "0            Nurse, adult   80000  \n",
            "1     Seismic interpreter   70000  \n",
            "2               Barrister   60000  \n",
            "3    Engineer, structural  100000  \n",
            "4         Producer, radio   50000  \n"
          ]
        }
      ]
    },
    {
      "cell_type": "markdown",
      "source": [
        "b) Only read the columns: 'Last Name', ‘Gender’,’Email’,‘Phone’ and ‘Salary’ from the file."
      ],
      "metadata": {
        "id": "D81p3Acr3rdG"
      }
    },
    {
      "cell_type": "code",
      "source": [
        "import pandas as pd\n",
        "df = pd.read_csv('/content/drive/MyDrive/People Data (1).csv', usecols=['Last Name', 'Gender', 'Email', 'Phone', 'Salary'])\n",
        "print(df.head())"
      ],
      "metadata": {
        "colab": {
          "base_uri": "https://localhost:8080/"
        },
        "id": "KoMd5Lbw3qKl",
        "outputId": "ff4b5278-91ca-454a-850a-67afe5d6d2ba"
      },
      "execution_count": null,
      "outputs": [
        {
          "output_type": "stream",
          "name": "stdout",
          "text": [
            "  Last Name  Gender                          Email               Phone  Salary\n",
            "0   Mahoney    Male            pwarner@example.org        857.139.8239   90000\n",
            "1    Rivers  Female  fergusonkatherine@example.net                 NaN   80000\n",
            "2    Lowery  Female            fhoward@example.org       (599)782-0605   50000\n",
            "3    Hooper    Male          zjohnston@example.com                 NaN   65000\n",
            "4      Rice  Female               elin@example.net  (390)417-1635x3010  100000\n"
          ]
        }
      ]
    },
    {
      "cell_type": "markdown",
      "source": [
        "c) Display the first 10 rows of the filtered dataset"
      ],
      "metadata": {
        "id": "XXsp7kr64C1k"
      }
    },
    {
      "cell_type": "code",
      "source": [
        "print(df.head(10))\n"
      ],
      "metadata": {
        "colab": {
          "base_uri": "https://localhost:8080/"
        },
        "id": "0NKp-Eyl3oqW",
        "outputId": "975b6f72-19c4-4093-a22c-06ad6f1c1041"
      },
      "execution_count": null,
      "outputs": [
        {
          "output_type": "stream",
          "name": "stdout",
          "text": [
            "  Last Name  Gender                          Email               Phone  Salary\n",
            "0   Mahoney    Male            pwarner@example.org        857.139.8239   90000\n",
            "1    Rivers  Female  fergusonkatherine@example.net                 NaN   80000\n",
            "2    Lowery  Female            fhoward@example.org       (599)782-0605   50000\n",
            "3    Hooper    Male          zjohnston@example.com                 NaN   65000\n",
            "4      Rice  Female               elin@example.net  (390)417-1635x3010  100000\n",
            "5  Caldwell    Male          kaitlin13@example.net          8537800927   50000\n",
            "6   Hoffman    Male         jeffharvey@example.com   093.655.7480x7895   60000\n",
            "7  Andersen    Male           alicia33@example.org          4709522945   65000\n",
            "8      Mays    Male             jake50@example.com        013.820.4758   50000\n",
            "9  Mitchell    Male      lanechristina@example.net  (560)903-5068x4985   50000\n"
          ]
        }
      ]
    },
    {
      "cell_type": "markdown",
      "source": [
        "d) Extract the ‘Salary’' column as a Series and display its last 5 values."
      ],
      "metadata": {
        "id": "RB1oEvEI4RMb"
      }
    },
    {
      "cell_type": "code",
      "source": [
        "salary_series = df['Salary']\n",
        "print(salary_series.tail(5))"
      ],
      "metadata": {
        "colab": {
          "base_uri": "https://localhost:8080/"
        },
        "id": "hCX7VdHp4a2s",
        "outputId": "10b381c2-d53b-4f86-8266-6358e67cdc26"
      },
      "execution_count": null,
      "outputs": [
        {
          "output_type": "stream",
          "name": "stdout",
          "text": [
            "995     90000\n",
            "996     50000\n",
            "997     60000\n",
            "998    100000\n",
            "999     90000\n",
            "Name: Salary, dtype: int64\n"
          ]
        }
      ]
    },
    {
      "cell_type": "markdown",
      "source": [
        "Q9. Filter and select rows from the People_Dataset, where the “Last Name' column contains the name 'Duke',\n",
        "'Gender' column contains the word Female and ‘Salary’ should be less than 85000\n"
      ],
      "metadata": {
        "id": "bPsADImz4elS"
      }
    },
    {
      "cell_type": "code",
      "source": [
        "# Assuming 'df' is your DataFrame containing the People_Dataset\n",
        "filtered_df = df[(df['Last Name'] == 'Duke') & (df['Gender'] == 'Female') & (df['Salary'] < 85000)]\n",
        "\n",
        "print(filtered_df)"
      ],
      "metadata": {
        "colab": {
          "base_uri": "https://localhost:8080/"
        },
        "id": "z6TkE7oc4ezD",
        "outputId": "7c6f3514-8c01-4982-c344-836fae5fd150"
      },
      "execution_count": null,
      "outputs": [
        {
          "output_type": "stream",
          "name": "stdout",
          "text": [
            "    Last Name  Gender                     Email                   Phone  \\\n",
            "45       Duke  Female       diana26@example.net  001-366-475-8607x04350   \n",
            "210      Duke  Female       robin78@example.com            740.434.0212   \n",
            "457      Duke  Female  perryhoffman@example.org     +1-903-596-0995x489   \n",
            "729      Duke  Female   kevinkramer@example.net            982.692.6257   \n",
            "\n",
            "     Salary  \n",
            "45    60000  \n",
            "210   50000  \n",
            "457   50000  \n",
            "729   70000  \n"
          ]
        }
      ]
    },
    {
      "cell_type": "markdown",
      "source": [
        "Q10. Create a 7*5 Dataframe in Pandas using a series generated from 35 random integers between 1 to 6?"
      ],
      "metadata": {
        "id": "3v6gHVeu4zOp"
      }
    },
    {
      "cell_type": "code",
      "source": [
        "import pandas as pd\n",
        "import numpy as np\n",
        "\n",
        "# Create a Series with 35 random integers between 1 and 6\n",
        "series = pd.Series(np.random.randint(1, 7, size=35))\n",
        "\n",
        "# Reshape the Series into a 7x5 DataFrame\n",
        "df = pd.DataFrame(series.values.reshape(7, 5))\n",
        "\n",
        "print(df)"
      ],
      "metadata": {
        "colab": {
          "base_uri": "https://localhost:8080/"
        },
        "id": "p98rfdHK4zy6",
        "outputId": "fc07dca3-4a9e-469b-c7ca-31f668215b93"
      },
      "execution_count": null,
      "outputs": [
        {
          "output_type": "stream",
          "name": "stdout",
          "text": [
            "   0  1  2  3  4\n",
            "0  3  2  6  3  6\n",
            "1  1  5  2  3  4\n",
            "2  3  3  4  2  1\n",
            "3  2  3  1  3  5\n",
            "4  3  6  5  4  6\n",
            "5  4  3  4  6  3\n",
            "6  1  5  2  6  6\n"
          ]
        }
      ]
    },
    {
      "cell_type": "markdown",
      "source": [
        "Q11. Create two different Series, each of length 50, with the following criteria:\n",
        "\n",
        "a) The first Series should contain random numbers ranging from 10 to 50."
      ],
      "metadata": {
        "id": "QJiVV4rX5MhS"
      }
    },
    {
      "cell_type": "code",
      "source": [
        "import pandas as pd\n",
        "import numpy as np\n",
        "series1 = pd.Series(np.random.randint(10, 51, size=50))\n",
        "series2 = pd.Series(np.random.randint(1, 21, size=50))\n",
        "\n",
        "print(series1)\n",
        "print(series2)"
      ],
      "metadata": {
        "colab": {
          "base_uri": "https://localhost:8080/"
        },
        "id": "LaG0ktBk5Mr5",
        "outputId": "d8bdd6fe-5d55-49b7-bfec-43988dafc99e"
      },
      "execution_count": null,
      "outputs": [
        {
          "output_type": "stream",
          "name": "stdout",
          "text": [
            "0     40\n",
            "1     16\n",
            "2     45\n",
            "3     27\n",
            "4     33\n",
            "5     28\n",
            "6     13\n",
            "7     50\n",
            "8     44\n",
            "9     38\n",
            "10    33\n",
            "11    26\n",
            "12    32\n",
            "13    24\n",
            "14    14\n",
            "15    21\n",
            "16    19\n",
            "17    47\n",
            "18    33\n",
            "19    48\n",
            "20    30\n",
            "21    46\n",
            "22    11\n",
            "23    27\n",
            "24    44\n",
            "25    15\n",
            "26    28\n",
            "27    19\n",
            "28    39\n",
            "29    36\n",
            "30    14\n",
            "31    21\n",
            "32    36\n",
            "33    10\n",
            "34    40\n",
            "35    42\n",
            "36    21\n",
            "37    38\n",
            "38    19\n",
            "39    23\n",
            "40    48\n",
            "41    30\n",
            "42    34\n",
            "43    26\n",
            "44    49\n",
            "45    32\n",
            "46    14\n",
            "47    17\n",
            "48    32\n",
            "49    50\n",
            "dtype: int64\n",
            "0     18\n",
            "1      7\n",
            "2     14\n",
            "3     11\n",
            "4      9\n",
            "5     11\n",
            "6     20\n",
            "7     13\n",
            "8     11\n",
            "9     18\n",
            "10    13\n",
            "11    20\n",
            "12     9\n",
            "13    10\n",
            "14    19\n",
            "15    12\n",
            "16     2\n",
            "17     6\n",
            "18     4\n",
            "19    11\n",
            "20     7\n",
            "21     5\n",
            "22    18\n",
            "23    20\n",
            "24    10\n",
            "25    17\n",
            "26    17\n",
            "27     2\n",
            "28     4\n",
            "29     8\n",
            "30    10\n",
            "31     2\n",
            "32     6\n",
            "33     8\n",
            "34     6\n",
            "35     4\n",
            "36    15\n",
            "37     7\n",
            "38    18\n",
            "39     3\n",
            "40     9\n",
            "41    13\n",
            "42     3\n",
            "43    11\n",
            "44     6\n",
            "45    17\n",
            "46     5\n",
            "47    17\n",
            "48    16\n",
            "49    17\n",
            "dtype: int64\n"
          ]
        }
      ]
    },
    {
      "cell_type": "markdown",
      "source": [
        "b) The second Series should contain random numbers ranging from 100 to 1000"
      ],
      "metadata": {
        "id": "RdvcjCZJ6jyV"
      }
    },
    {
      "cell_type": "code",
      "source": [
        "import pandas as pd\n",
        "import numpy as np\n",
        "series2 = pd.Series(np.random.randint(100, 1001, size=50))\n",
        "print(series2)"
      ],
      "metadata": {
        "colab": {
          "base_uri": "https://localhost:8080/"
        },
        "id": "vfBr9E0B6j8D",
        "outputId": "86d51ef1-67b9-4ec3-fb87-f4be46e156bc"
      },
      "execution_count": null,
      "outputs": [
        {
          "output_type": "stream",
          "name": "stdout",
          "text": [
            "0     740\n",
            "1     684\n",
            "2     801\n",
            "3     776\n",
            "4     977\n",
            "5     419\n",
            "6     662\n",
            "7     600\n",
            "8     446\n",
            "9     326\n",
            "10    505\n",
            "11    849\n",
            "12    878\n",
            "13    257\n",
            "14    216\n",
            "15    869\n",
            "16    205\n",
            "17    553\n",
            "18    390\n",
            "19    190\n",
            "20    986\n",
            "21    457\n",
            "22    488\n",
            "23    229\n",
            "24    859\n",
            "25    639\n",
            "26    430\n",
            "27    777\n",
            "28    535\n",
            "29    921\n",
            "30    880\n",
            "31    840\n",
            "32    190\n",
            "33    811\n",
            "34    310\n",
            "35    306\n",
            "36    743\n",
            "37    705\n",
            "38    814\n",
            "39    797\n",
            "40    922\n",
            "41    405\n",
            "42    443\n",
            "43    766\n",
            "44    566\n",
            "45    755\n",
            "46    130\n",
            "47    958\n",
            "48    916\n",
            "49    128\n",
            "dtype: int64\n"
          ]
        }
      ]
    },
    {
      "cell_type": "markdown",
      "source": [
        "c) Create a DataFrame by joining these Series by column, and, change the names of the columns to 'col1', 'col2',\n",
        "etc"
      ],
      "metadata": {
        "id": "Yusd72V36kFV"
      }
    },
    {
      "cell_type": "code",
      "source": [
        "import pandas as pd\n",
        "df = pd.concat([series1, series2], axis=1)\n",
        "df.columns = ['col1', 'col2']\n",
        "print(df)"
      ],
      "metadata": {
        "colab": {
          "base_uri": "https://localhost:8080/"
        },
        "id": "VDLaRQj46kNX",
        "outputId": "7699ad06-2504-40ad-a93e-0dfbc86f57e8"
      },
      "execution_count": null,
      "outputs": [
        {
          "output_type": "stream",
          "name": "stdout",
          "text": [
            "    col1  col2\n",
            "0     40   740\n",
            "1     16   684\n",
            "2     45   801\n",
            "3     27   776\n",
            "4     33   977\n",
            "5     28   419\n",
            "6     13   662\n",
            "7     50   600\n",
            "8     44   446\n",
            "9     38   326\n",
            "10    33   505\n",
            "11    26   849\n",
            "12    32   878\n",
            "13    24   257\n",
            "14    14   216\n",
            "15    21   869\n",
            "16    19   205\n",
            "17    47   553\n",
            "18    33   390\n",
            "19    48   190\n",
            "20    30   986\n",
            "21    46   457\n",
            "22    11   488\n",
            "23    27   229\n",
            "24    44   859\n",
            "25    15   639\n",
            "26    28   430\n",
            "27    19   777\n",
            "28    39   535\n",
            "29    36   921\n",
            "30    14   880\n",
            "31    21   840\n",
            "32    36   190\n",
            "33    10   811\n",
            "34    40   310\n",
            "35    42   306\n",
            "36    21   743\n",
            "37    38   705\n",
            "38    19   814\n",
            "39    23   797\n",
            "40    48   922\n",
            "41    30   405\n",
            "42    34   443\n",
            "43    26   766\n",
            "44    49   566\n",
            "45    32   755\n",
            "46    14   130\n",
            "47    17   958\n",
            "48    32   916\n",
            "49    50   128\n"
          ]
        }
      ]
    },
    {
      "cell_type": "markdown",
      "source": [
        "Q12. Perform the following operations using people data set:\n",
        "\n",
        "a) Delete the 'Email', 'Phone', and 'Date of birth' columns from the dataset."
      ],
      "metadata": {
        "id": "JZ_P_Z7O7MIr"
      }
    },
    {
      "cell_type": "code",
      "source": [
        "from google.colab import drive\n",
        "import pandas as pd\n",
        "import numpy as np\n",
        "import copy\n",
        "drive.mount('/content/drive')\n",
        "\n",
        "path = '/content/drive/MyDrive/People Data (1).csv'\n",
        "df = pd.read_csv(path)\n",
        "\n",
        "# Assuming 'df' is your DataFrame containing the People_Dataset\n",
        "# Check the actual column names in your DataFrame\n",
        "print(df.columns)\n",
        "\n",
        "# Replace 'Email', 'Phone', 'Date of birth' with the actual column names you want to drop\n",
        "columns_to_drop = ['Email', 'Phone', 'Date of Birth']  # Replace with the actual column name(s) to drop\n",
        "df = df.drop(columns=columns_to_drop, errors='ignore') # or error='raise'\n",
        "\n",
        "\n",
        "# If you are unsure of the exact column names or want to drop columns by position:\n",
        "# Drop the first column:\n",
        "# df = df.drop(df.columns[0], axis=1)\n",
        "# Drop the second and third columns:\n",
        "# df = df.drop(df.columns[[1, 2]], axis=1)\n",
        "\n",
        "print(df.head())  # Display the first few rows of the DataFrame after deletion"
      ],
      "metadata": {
        "colab": {
          "base_uri": "https://localhost:8080/"
        },
        "id": "OtEq1IW-7MYT",
        "outputId": "e495da68-377d-4282-9645-051622073824"
      },
      "execution_count": null,
      "outputs": [
        {
          "output_type": "stream",
          "name": "stdout",
          "text": [
            "Drive already mounted at /content/drive; to attempt to forcibly remount, call drive.mount(\"/content/drive\", force_remount=True).\n",
            "Index(['Index', 'User Id', 'First Name', 'Last Name', 'Gender', 'Email',\n",
            "       'Phone', 'Date of birth', 'Job Title', 'Salary'],\n",
            "      dtype='object')\n",
            "   Index          User Id First Name Last Name  Gender Date of birth  \\\n",
            "0      1  8717bbf45cCDbEe     Shelia   Mahoney    Male    27-01-2014   \n",
            "1      2  3d5AD30A4cD38ed         Jo    Rivers  Female    26-07-1931   \n",
            "2      3  810Ce0F276Badec     Sheryl    Lowery  Female    25-11-2013   \n",
            "3      4  BF2a889C00f0cE1    Whitney    Hooper    Male    17-11-2012   \n",
            "4      5  9afFEafAe1CBBB9    Lindsey      Rice  Female    15-04-1923   \n",
            "\n",
            "                  Job Title  Salary  \n",
            "0         Probation officer   90000  \n",
            "1                    Dancer   80000  \n",
            "2                      Copy   50000  \n",
            "3  Counselling psychologist   65000  \n",
            "4       Biomedical engineer  100000  \n"
          ]
        }
      ]
    },
    {
      "cell_type": "markdown",
      "source": [
        "b) Delete the rows containing any missing values"
      ],
      "metadata": {
        "id": "fNnVdxYI7Mjz"
      }
    },
    {
      "cell_type": "code",
      "source": [
        "import pandas as pd\n",
        "drive.mount('/content/drive')\n",
        "\n",
        "path = '/content/drive/MyDrive/People Data (1).csv'\n",
        "df = pd.read_csv(path)\n",
        "\n",
        "# Delete rows with missing values\n",
        "df = df.dropna()\n",
        "\n",
        "print(df.head())"
      ],
      "metadata": {
        "colab": {
          "base_uri": "https://localhost:8080/"
        },
        "id": "qp-Z8FVS7MvC",
        "outputId": "f23ae361-6268-45ae-9eb3-35d3bec6ec6e"
      },
      "execution_count": null,
      "outputs": [
        {
          "output_type": "stream",
          "name": "stdout",
          "text": [
            "Drive already mounted at /content/drive; to attempt to forcibly remount, call drive.mount(\"/content/drive\", force_remount=True).\n",
            "   Index          User Id First Name Last Name  Gender  \\\n",
            "0      1  8717bbf45cCDbEe     Shelia   Mahoney    Male   \n",
            "2      3  810Ce0F276Badec     Sheryl    Lowery  Female   \n",
            "4      5  9afFEafAe1CBBB9    Lindsey      Rice  Female   \n",
            "5      6  aF75e6dDEBC5b66     Sherry  Caldwell    Male   \n",
            "6      7  efeb05c7Cc94EA3     Ernest   Hoffman    Male   \n",
            "\n",
            "                    Email               Phone Date of birth  \\\n",
            "0     pwarner@example.org        857.139.8239    27-01-2014   \n",
            "2     fhoward@example.org       (599)782-0605    25-11-2013   \n",
            "4        elin@example.net  (390)417-1635x3010    15-04-1923   \n",
            "5   kaitlin13@example.net          8537800927    06-08-1917   \n",
            "6  jeffharvey@example.com   093.655.7480x7895    22-12-1984   \n",
            "\n",
            "                   Job Title  Salary  \n",
            "0          Probation officer   90000  \n",
            "2                       Copy   50000  \n",
            "4        Biomedical engineer  100000  \n",
            "5  Higher education lecturer   50000  \n",
            "6             Health visitor   60000  \n"
          ]
        }
      ]
    },
    {
      "cell_type": "markdown",
      "source": [
        "c) Print the final output also"
      ],
      "metadata": {
        "id": "zprw1eBJ7M4K"
      }
    },
    {
      "cell_type": "code",
      "source": [
        "from google.colab import drive\n",
        "import pandas as pd\n",
        "drive.mount('/content/drive')\n",
        "\n",
        "path = '/content/drive/MyDrive/People Data (1).csv'\n",
        "df = pd.read_csv(path)\n",
        "\n",
        "# Assuming 'df' is your DataFrame containing the People_Dataset\n",
        "# Check the actual column names in your DataFrame\n",
        "print(df.columns)\n",
        "\n",
        "# Replace 'Email', 'Phone', 'Date of birth' with the actual column names you want to drop\n",
        "columns_to_drop = ['Email', 'Phone', 'Date of Birth']  # Replace with the actual column name(s) to drop\n",
        "df = df.drop(columns=columns_to_drop, errors='ignore') # or error='raise'\n",
        "\n",
        "\n",
        "# If you are unsure of the exact column names or want to drop columns by position:\n",
        "# Drop the first column:\n",
        "# df = df.drop(df.columns[0], axis=1)\n",
        "# Drop the second and third columns:\n",
        "# df = df.drop(df.columns[[1, 2]], axis=1)\n",
        "\n",
        "print(df.head())  # Display the first few rows of the DataFrame after deletion\n",
        "\n",
        "# b) Delete the rows containing any missing values\n",
        "drive.mount('/content/drive')\n",
        "\n",
        "path = '/content/drive/MyDrive/People Data (1).csv'\n",
        "df = pd.read_csv(path)\n",
        "\n",
        "# Delete rows with missing values\n",
        "df = df.dropna()\n",
        "\n",
        "print(df.head())\n",
        "# c) Print the final output also\n",
        "print(df)"
      ],
      "metadata": {
        "colab": {
          "base_uri": "https://localhost:8080/"
        },
        "id": "HhdKz8N67NDa",
        "outputId": "4e875c92-122a-4258-dc70-feeba205f5ac"
      },
      "execution_count": null,
      "outputs": [
        {
          "output_type": "stream",
          "name": "stdout",
          "text": [
            "Drive already mounted at /content/drive; to attempt to forcibly remount, call drive.mount(\"/content/drive\", force_remount=True).\n",
            "Index(['Index', 'User Id', 'First Name', 'Last Name', 'Gender', 'Email',\n",
            "       'Phone', 'Date of birth', 'Job Title', 'Salary'],\n",
            "      dtype='object')\n",
            "   Index          User Id First Name Last Name  Gender Date of birth  \\\n",
            "0      1  8717bbf45cCDbEe     Shelia   Mahoney    Male    27-01-2014   \n",
            "1      2  3d5AD30A4cD38ed         Jo    Rivers  Female    26-07-1931   \n",
            "2      3  810Ce0F276Badec     Sheryl    Lowery  Female    25-11-2013   \n",
            "3      4  BF2a889C00f0cE1    Whitney    Hooper    Male    17-11-2012   \n",
            "4      5  9afFEafAe1CBBB9    Lindsey      Rice  Female    15-04-1923   \n",
            "\n",
            "                  Job Title  Salary  \n",
            "0         Probation officer   90000  \n",
            "1                    Dancer   80000  \n",
            "2                      Copy   50000  \n",
            "3  Counselling psychologist   65000  \n",
            "4       Biomedical engineer  100000  \n",
            "Drive already mounted at /content/drive; to attempt to forcibly remount, call drive.mount(\"/content/drive\", force_remount=True).\n",
            "   Index          User Id First Name Last Name  Gender  \\\n",
            "0      1  8717bbf45cCDbEe     Shelia   Mahoney    Male   \n",
            "2      3  810Ce0F276Badec     Sheryl    Lowery  Female   \n",
            "4      5  9afFEafAe1CBBB9    Lindsey      Rice  Female   \n",
            "5      6  aF75e6dDEBC5b66     Sherry  Caldwell    Male   \n",
            "6      7  efeb05c7Cc94EA3     Ernest   Hoffman    Male   \n",
            "\n",
            "                    Email               Phone Date of birth  \\\n",
            "0     pwarner@example.org        857.139.8239    27-01-2014   \n",
            "2     fhoward@example.org       (599)782-0605    25-11-2013   \n",
            "4        elin@example.net  (390)417-1635x3010    15-04-1923   \n",
            "5   kaitlin13@example.net          8537800927    06-08-1917   \n",
            "6  jeffharvey@example.com   093.655.7480x7895    22-12-1984   \n",
            "\n",
            "                   Job Title  Salary  \n",
            "0          Probation officer   90000  \n",
            "2                       Copy   50000  \n",
            "4        Biomedical engineer  100000  \n",
            "5  Higher education lecturer   50000  \n",
            "6             Health visitor   60000  \n",
            "     Index          User Id First Name Last Name  Gender  \\\n",
            "0        1  8717bbf45cCDbEe     Shelia   Mahoney    Male   \n",
            "2        3  810Ce0F276Badec     Sheryl    Lowery  Female   \n",
            "4        5  9afFEafAe1CBBB9    Lindsey      Rice  Female   \n",
            "5        6  aF75e6dDEBC5b66     Sherry  Caldwell    Male   \n",
            "6        7  efeb05c7Cc94EA3     Ernest   Hoffman    Male   \n",
            "..     ...              ...        ...       ...     ...   \n",
            "995    996  fedF4c7Fd9e7cFa       Kurt    Bryant  Female   \n",
            "996    997  ECddaFEDdEc4FAB      Donna     Barry  Female   \n",
            "997    998  2adde51d8B8979E      Cathy  Mckinney  Female   \n",
            "998    999  Fb2FE369D1E171A   Jermaine    Phelps    Male   \n",
            "999   1000  8b756f6231DDC6e        Lee      Tran  Female   \n",
            "\n",
            "                       Email                  Phone Date of birth  \\\n",
            "0        pwarner@example.org           857.139.8239    27-01-2014   \n",
            "2        fhoward@example.org          (599)782-0605    25-11-2013   \n",
            "4           elin@example.net     (390)417-1635x3010    15-04-1923   \n",
            "5      kaitlin13@example.net             8537800927    06-08-1917   \n",
            "6     jeffharvey@example.com      093.655.7480x7895    22-12-1984   \n",
            "..                       ...                    ...           ...   \n",
            "995   lyonsdaisy@example.net           021.775.2933    05-01-1959   \n",
            "996  dariusbryan@example.com   001-149-710-7799x721    06-10-2001   \n",
            "997   georgechan@example.org  +1-750-774-4128x33265    13-05-1918   \n",
            "998      wanda04@example.net          (915)292-2254    31-08-1971   \n",
            "999  deannablack@example.org     079.752.5424x67259    24-01-1947   \n",
            "\n",
            "                           Job Title  Salary  \n",
            "0                  Probation officer   90000  \n",
            "2                               Copy   50000  \n",
            "4                Biomedical engineer  100000  \n",
            "5          Higher education lecturer   50000  \n",
            "6                     Health visitor   60000  \n",
            "..                               ...     ...  \n",
            "995                Personnel officer   90000  \n",
            "996          Education administrator   50000  \n",
            "997  Commercial/residential surveyor   60000  \n",
            "998                 Ambulance person  100000  \n",
            "999       Nurse, learning disability   90000  \n",
            "\n",
            "[979 rows x 10 columns]\n"
          ]
        }
      ]
    },
    {
      "cell_type": "markdown",
      "source": [
        "Q13. Create two NumPy arrays, x and y, each containing 100 random float values between 0 and 1. Perform the\n",
        "following tasks using Matplotlib and NumPy:\n",
        "\n",
        "a) Create a scatter plot using x and y, setting the color of the points to red and the marker style to 'o'."
      ],
      "metadata": {
        "id": "FxuLBgpS9KFJ"
      }
    },
    {
      "cell_type": "code",
      "source": [
        "import matplotlib.pyplot as plt\n",
        "import numpy as np\n",
        "\n",
        "# Create two NumPy arrays, x and y, with 100 random float values between 0 and 1\n",
        "x = np.random.rand(100)\n",
        "y = np.random.rand(100)\n",
        "\n",
        "# Create a scatter plot\n",
        "plt.scatter(x, y, color='blue', marker='o')\n",
        "\n",
        "# Add labels and title\n",
        "plt.xlabel('X-axis')\n",
        "plt.ylabel('Y-axis')\n",
        "plt.title('Scatter Plot')\n",
        "\n",
        "# Display the plot\n",
        "plt.show()"
      ],
      "metadata": {
        "colab": {
          "base_uri": "https://localhost:8080/",
          "height": 472
        },
        "id": "1FuCuJnW9Kde",
        "outputId": "4de0e25f-774b-43da-dc73-8a14a5369b99"
      },
      "execution_count": null,
      "outputs": [
        {
          "output_type": "display_data",
          "data": {
            "text/plain": [
              "<Figure size 640x480 with 1 Axes>"
            ],
            "image/png": "[encoded data removed]"
          },
          "metadata": {}
        }
      ]
    },
    {
      "cell_type": "markdown",
      "source": [
        "b) Add a horizontal line at y = 0.5 using a dashed line style and label it as 'y = 0.5'"
      ],
      "metadata": {
        "id": "-g8xTSYF9LCO"
      }
    },
    {
      "cell_type": "code",
      "source": [
        "import matplotlib.pyplot as plt\n",
        "import numpy as np\n",
        "# Create two NumPy arrays, x and y, with 100 random float values between 0 and 1\n",
        "x = np.random.rand(100)\n",
        "y = np.random.rand(100)\n",
        "\n",
        "# Create a scatter plot\n",
        "plt.scatter(x, y, color='blue', marker='o')\n",
        "\n",
        "# Add a horizontal line at y = 0.5\n",
        "plt.axhline(y=0.5, color='red', linestyle='--', label='y = 0.5')\n",
        "\n",
        "# Add labels and title\n",
        "plt.xlabel('X-axis')\n",
        "plt.ylabel('Y-axis')\n",
        "plt.title('Scatter Plot with Horizontal Line')\n",
        "\n",
        "# Add a legend\n",
        "plt.legend()\n",
        "\n",
        "# Display the plot\n",
        "plt.show()"
      ],
      "metadata": {
        "colab": {
          "base_uri": "https://localhost:8080/",
          "height": 472
        },
        "id": "TDGltBWV9LQF",
        "outputId": "8830a1bf-0364-486f-e3c1-f5657d353aa6"
      },
      "execution_count": null,
      "outputs": [
        {
          "output_type": "display_data",
          "data": {
            "text/plain": [
              "<Figure size 640x480 with 1 Axes>"
            ],
            "image/png": "[encoded data removed]"
          },
          "metadata": {}
        }
      ]
    },
    {
      "cell_type": "markdown",
      "source": [
        "c) Add a vertical line at x = 0.5 using a dotted line style and label it as 'x = 0.5"
      ],
      "metadata": {
        "id": "RttvFUPc9Lcb"
      }
    },
    {
      "cell_type": "code",
      "source": [
        "import matplotlib.pyplot as plt\n",
        "import numpy as np\n",
        "# Create two NumPy arrays, x and y, with 100 random float values between 0 and 1\n",
        "x = np.random.rand(100)\n",
        "y = np.random.rand(100)\n",
        "\n",
        "# Create a scatter plot\n",
        "plt.scatter(x, y, color='blue', marker='o')\n",
        "\n",
        "# Add a horizontal line at y = 0.5\n",
        "plt.axhline(y=0.5, color='red', linestyle='--', label='y = 0.5')\n",
        "\n",
        "# Add a vertical line at x = 0.5\n",
        "plt.axvline(x=0.5, color='green', linestyle=':', label='x = 0.5')\n",
        "\n",
        "# Add labels and title\n",
        "plt.xlabel('X-axis')\n",
        "plt.ylabel('Y-axis')\n",
        "plt.title('Scatter Plot with Lines')\n",
        "\n",
        "# Add a legend\n",
        "plt.legend()\n",
        "\n",
        "# Display the plot\n",
        "plt.show()"
      ],
      "metadata": {
        "colab": {
          "base_uri": "https://localhost:8080/",
          "height": 472
        },
        "id": "5tyZ2wDs9LmD",
        "outputId": "f7a31c86-6b92-4deb-925b-1b9e9d8e36dd"
      },
      "execution_count": null,
      "outputs": [
        {
          "output_type": "display_data",
          "data": {
            "text/plain": [
              "<Figure size 640x480 with 1 Axes>"
            ],
            "image/png": "[encoded data removed]"
          },
          "metadata": {}
        }
      ]
    },
    {
      "cell_type": "markdown",
      "source": [
        "d) Label the x-axis as 'X-axis' and the y-axis as 'Y-axis'"
      ],
      "metadata": {
        "id": "zA7OvDoY9L5O"
      }
    },
    {
      "cell_type": "code",
      "source": [
        "import matplotlib.pyplot as plt\n",
        "import numpy as np\n",
        "# Create two NumPy arrays, x and y, with 100 random float values between 0 and 1\n",
        "x = np.random.rand(100)\n",
        "y = np.random.rand(100)\n",
        "\n",
        "# Create a scatter plot\n",
        "plt.scatter(x, y, color='blue', marker='o')\n",
        "\n",
        "# Add a horizontal line at y = 0.5\n",
        "plt.axhline(y=0.5, color='red', linestyle='--', label='y = 0.5')\n",
        "\n",
        "# Add a vertical line at x = 0.5\n",
        "plt.axvline(x=0.5, color='green', linestyle=':', label='x = 0.5')\n",
        "\n",
        "# Add labels and title\n",
        "plt.xlabel('X-axis')\n",
        "plt.ylabel('Y-axis')\n",
        "plt.title('Scatter Plot with Lines')\n",
        "\n",
        "# Add a legend\n",
        "plt.legend()\n",
        "\n",
        "# Display the plot\n",
        "plt.show()"
      ],
      "metadata": {
        "colab": {
          "base_uri": "https://localhost:8080/",
          "height": 472
        },
        "id": "x96Fkj8f9MP8",
        "outputId": "3bf12bcb-8c46-4505-f7c7-20aabe8c8d16"
      },
      "execution_count": null,
      "outputs": [
        {
          "output_type": "display_data",
          "data": {
            "text/plain": [
              "<Figure size 640x480 with 1 Axes>"
            ],
            "image/png": "[encoded data removed]"
          },
          "metadata": {}
        }
      ]
    },
    {
      "cell_type": "code",
      "source": [
        "import matplotlib.pyplot as plt\n",
        "import numpy as np\n",
        "# Create two NumPy arrays, x and y, with 100 random float values between 0 and 1\n",
        "x = np.random.rand(100)\n",
        "y = np.random.rand(100)\n",
        "\n",
        "# Create a scatter plot\n",
        "plt.scatter(x, y, color='blue', marker='o')\n",
        "\n",
        "# Add a horizontal line at y = 0.5\n",
        "plt.axhline(y=0.5, color='red', linestyle='--', label='y = 0.5')\n",
        "\n",
        "# Add a vertical line at x = 0.5\n",
        "plt.axvline(x=0.5, color='green', linestyle=':', label='x = 0.5')\n",
        "\n",
        "# Add labels and title\n",
        "plt.xlabel('X-axis')\n",
        "plt.ylabel('Y-axis')\n",
        "plt.title('Scatter Plot with Lines')\n",
        "\n",
        "# Add a legend\n",
        "plt.legend()\n",
        "\n",
        "# Display the plot\n",
        "plt.show()\n"
      ],
      "metadata": {
        "colab": {
          "base_uri": "https://localhost:8080/",
          "height": 472
        },
        "id": "N8_KALnRvHqD",
        "outputId": "000852ff-5c3f-4ed9-edaa-439341582caa"
      },
      "execution_count": null,
      "outputs": [
        {
          "output_type": "display_data",
          "data": {
            "text/plain": [
              "<Figure size 640x480 with 1 Axes>"
            ],
            "image/png": "[encoded data removed]"
          },
          "metadata": {}
        }
      ]
    },
    {
      "cell_type": "markdown",
      "source": [
        "e) Set the title of the plot as 'Advanced Scatter Plot of Random Values"
      ],
      "metadata": {
        "id": "_HKmiGtz-Hdh"
      }
    },
    {
      "cell_type": "code",
      "source": [
        "import matplotlib.pyplot as plt\n",
        "import numpy as np\n",
        "# Create two NumPy arrays, x and y, with 100 random float values between 0 and 1\n",
        "x = np.random.rand(100)\n",
        "y = np.random.rand(100)\n",
        "\n",
        "# Create a scatter plot\n",
        "plt.scatter(x, y, color='blue', marker='o')\n",
        "\n",
        "# Add a horizontal line at y = 0.5\n",
        "plt.axhline(y=0.5, color='red', linestyle='--', label='y = 0.5')\n",
        "\n",
        "# Add a vertical line at x = 0.5\n",
        "plt.axvline(x=0.5, color='green', linestyle=':', label='x = 0.5')\n",
        "\n",
        "# Add labels and title\n",
        "plt.xlabel('X-axis')\n",
        "plt.ylabel('Y-axis')\n",
        "plt.title('Advanced Scatter Plot of Random Values')  # Set the title\n",
        "\n",
        "# Add a legend\n",
        "plt.legend()\n",
        "\n",
        "# Display the plot\n",
        "plt.show()"
      ],
      "metadata": {
        "colab": {
          "base_uri": "https://localhost:8080/",
          "height": 472
        },
        "id": "qoELzxVI-Hmd",
        "outputId": "44d1a96b-1df4-4e23-f116-2f983577a3ba"
      },
      "execution_count": null,
      "outputs": [
        {
          "output_type": "display_data",
          "data": {
            "text/plain": [
              "<Figure size 640x480 with 1 Axes>"
            ],
            "image/png": "[encoded data removed]"
          },
          "metadata": {}
        }
      ]
    },
    {
      "cell_type": "markdown",
      "source": [
        "f) Display a legend for the scatter plot, the horizontal line, and the vertical line"
      ],
      "metadata": {
        "id": "hLzcIs7q-Hwy"
      }
    },
    {
      "cell_type": "code",
      "source": [
        "import matplotlib.pyplot as plt\n",
        "import numpy as np\n",
        "# Create two NumPy arrays, x and y, with 100 random float values between 0 and 1\n",
        "x = np.random.rand(100)\n",
        "y = np.random.rand(100)\n",
        "\n",
        "# Create a scatter plot\n",
        "plt.scatter(x, y, color='blue', marker='o', label='Scatter Plot')  # Add label for scatter plot\n",
        "\n",
        "# Add a horizontal line at y = 0.5\n",
        "plt.axhline(y=0.5, color='red', linestyle='--', label='y = 0.5')\n",
        "\n",
        "# Add a vertical line at x = 0.5\n",
        "plt.axvline(x=0.5, color='green', linestyle=':', label='x = 0.5')\n",
        "\n",
        "# Add labels and title\n",
        "plt.xlabel('X-axis')\n",
        "plt.ylabel('Y-axis')\n",
        "plt.title('Advanced Scatter Plot of Random Values')\n",
        "\n",
        "# Add a legend\n",
        "plt.legend()\n",
        "\n",
        "# Display the plot\n",
        "plt.show()"
      ],
      "metadata": {
        "colab": {
          "base_uri": "https://localhost:8080/",
          "height": 472
        },
        "id": "Pu8dr18E-H6T",
        "outputId": "a29a7d98-0ca5-4a8d-e327-731fd5477659"
      },
      "execution_count": null,
      "outputs": [
        {
          "output_type": "display_data",
          "data": {
            "text/plain": [
              "<Figure size 640x480 with 1 Axes>"
            ],
            "image/png": "[encoded data removed]"
          },
          "metadata": {}
        }
      ]
    },
    {
      "cell_type": "markdown",
      "source": [
        "Q14. Create a time-series dataset in a Pandas DataFrame with columns: 'Date', 'Temperature', 'Humidity' and\n",
        "Perform the following tasks using Matplotlib:\n",
        "\n",
        "a) Plot the 'Temperature' and 'Humidity' on the same plot with different y-axes (left y-axis for 'Temperature' and\n",
        "right y-axis for 'Humidity')"
      ],
      "metadata": {
        "id": "lF29-4HV-IDp"
      }
    },
    {
      "cell_type": "code",
      "source": [
        "import pandas as pd\n",
        "import matplotlib.pyplot as plt\n",
        "\n",
        "# Create a time-series dataset\n",
        "date_range = pd.date_range(start='2023-10-26', periods=30)\n",
        "temperature = [20 + i * 0.5 for i in range(30)]\n",
        "humidity = [60 + i * 0.2 for i in range(30)]\n",
        "\n",
        "data = {'Date': date_range, 'Temperature': temperature, 'Humidity': humidity}\n",
        "df = pd.DataFrame(data)\n",
        "\n",
        "# Create the plot with two y-axes\n",
        "fig, ax1 = plt.subplots()\n",
        "\n",
        "# Plot Temperature on the left y-axis\n",
        "color = 'tab:red'\n",
        "ax1.set_xlabel('Date')\n",
        "ax1.set_ylabel('Temperature (°C)', color=color)\n",
        "ax1.plot(df['Date'], df['Temperature'], color=color)\n",
        "ax1.tick_params(axis='y', labelcolor=color)\n",
        "\n",
        "# Create a second y-axis\n",
        "ax2 = ax1.twinx()\n",
        "\n",
        "# Plot Humidity on the right y-axis\n",
        "color = 'tab:blue'\n",
        "ax2.set_ylabel('Humidity (%)', color=color)\n",
        "ax2.plot(df['Date'], df['Humidity'], color=color)\n",
        "ax2.tick_params(axis='y', labelcolor=color)\n",
        "\n",
        "# Adjust layout and display the plot\n",
        "fig.tight_layout()\n",
        "plt.show()"
      ],
      "metadata": {
        "colab": {
          "base_uri": "https://localhost:8080/",
          "height": 486
        },
        "id": "NoZn_omo-IL8",
        "outputId": "7d81d6cc-a02b-406d-b8b4-6548cd33e14f"
      },
      "execution_count": null,
      "outputs": [
        {
          "output_type": "display_data",
          "data": {
            "text/plain": [
              "<Figure size 640x480 with 2 Axes>"
            ],
            "image/png": "[encoded data removed]"
          },
          "metadata": {}
        }
      ]
    },
    {
      "cell_type": "markdown",
      "source": [
        "b) Label the x-axis as 'Date'"
      ],
      "metadata": {
        "id": "HHriO84H-Ieh"
      }
    },
    {
      "cell_type": "code",
      "source": [
        "import pandas as pd\n",
        "import matplotlib.pyplot as plt\n",
        "# Create a time-series dataset\n",
        "date_range = pd.date_range(start='2023-10-26', periods=30)\n",
        "temperature = [20 + i * 0.5 for i in range(30)]\n",
        "humidity = [60 + i * 0.2 for i in range(30)]\n",
        "\n",
        "data = {'Date': date_range, 'Temperature': temperature, 'Humidity': humidity}\n",
        "df = pd.DataFrame(data)\n",
        "\n",
        "# Create the plot with two y-axes\n",
        "fig, ax1 = plt.subplots()\n",
        "\n",
        "# Plot Temperature on the left y-axis\n",
        "color = 'tab:red'\n",
        "ax1.set_xlabel('Date')  # Label the x-axis as 'Date'\n",
        "ax1.set_ylabel('Temperature (°C)', color=color)\n",
        "ax1.plot(df['Date'], df['Temperature'], color=color)\n",
        "ax1.tick_params(axis='y', labelcolor=color)\n",
        "\n",
        "# Create a second y-axis\n",
        "ax2 = ax1.twinx()\n",
        "\n",
        "# Plot Humidity on the right y-axis\n",
        "color = 'tab:blue'\n",
        "ax2.set_ylabel('Humidity (%)', color=color)\n",
        "ax2.plot(df['Date'], df['Humidity'], color=color)\n",
        "ax2.tick_params(axis='y', labelcolor=color)\n",
        "\n",
        "# Adjust layout and display the plot\n",
        "fig.tight_layout()\n",
        "plt.show()"
      ],
      "metadata": {
        "colab": {
          "base_uri": "https://localhost:8080/",
          "height": 486
        },
        "id": "Mh7c0v1x-IoT",
        "outputId": "ebfd2dfd-7c7d-4a0a-ebf7-99561701d48b"
      },
      "execution_count": null,
      "outputs": [
        {
          "output_type": "display_data",
          "data": {
            "text/plain": [
              "<Figure size 640x480 with 2 Axes>"
            ],
            "image/png": "[encoded data removed]"
          },
          "metadata": {}
        }
      ]
    },
    {
      "cell_type": "markdown",
      "source": [
        "C) Set the title of the plot as 'Temperature and Humidity Over Time'"
      ],
      "metadata": {
        "id": "LcgVXaKb7IcF"
      }
    },
    {
      "cell_type": "code",
      "source": [
        "import pandas as pd\n",
        "import matplotlib.pyplot as plt\n",
        "# Create a time-series dataset\n",
        "date_range = pd.date_range(start='2023-10-26', periods=30)\n",
        "temperature = [20 + i * 0.5 for i in range(30)]\n",
        "humidity = [60 + i * 0.2 for i in range(30)]\n",
        "\n",
        "data = {'Date': date_range, 'Temperature': temperature, 'Humidity': humidity}\n",
        "df = pd.DataFrame(data)\n",
        "\n",
        "# Create the plot with two y-axes\n",
        "fig, ax1 = plt.subplots()\n",
        "\n",
        "# Plot Temperature on the left y-axis\n",
        "color = 'tab:red'\n",
        "ax1.set_xlabel('Date')\n",
        "ax1.set_ylabel('Temperature (°C)', color=color)\n",
        "ax1.plot(df['Date'], df['Temperature'], color=color)\n",
        "ax1.tick_params(axis='y', labelcolor=color)\n",
        "\n",
        "# Create a second y-axis\n",
        "ax2 = ax1.twinx()\n",
        "\n",
        "# Plot Humidity on the right y-axis\n",
        "color = 'tab:blue'\n",
        "ax2.set_ylabel('Humidity (%)', color=color)\n",
        "ax2.plot(df['Date'], df['Humidity'], color=color)\n",
        "ax2.tick_params(axis='y', labelcolor=color)\n",
        "\n",
        "# Set the title of the plot\n",
        "plt.title('Temperature and Humidity Over Time')\n",
        "\n",
        "# Adjust layout and display the plot\n",
        "fig.tight_layout()\n",
        "plt.show()\n"
      ],
      "metadata": {
        "colab": {
          "base_uri": "https://localhost:8080/",
          "height": 487
        },
        "id": "0jSIOdNH7Ily",
        "outputId": "60983daa-edef-410e-e4af-0ae62fece9b6"
      },
      "execution_count": null,
      "outputs": [
        {
          "output_type": "display_data",
          "data": {
            "text/plain": [
              "<Figure size 640x480 with 2 Axes>"
            ],
            "image/png": "[encoded data removed]"
          },
          "metadata": {}
        }
      ]
    },
    {
      "cell_type": "markdown",
      "source": [
        "Q15. Create a NumPy array data containing 1000 samples from a normal distribution. Perform the following\n",
        "tasks using Matplotlib:\n",
        "\n",
        "a) Plot a histogram of the data with 30 bins"
      ],
      "metadata": {
        "id": "rG5puxva7IwD"
      }
    },
    {
      "cell_type": "code",
      "source": [
        "import numpy as np\n",
        "import matplotlib.pyplot as plt\n",
        "\n",
        "# Create a NumPy array with 1000 samples from a normal distribution\n",
        "data = np.random.normal(loc=0, scale=1, size=1000)\n",
        "\n",
        "# Plot a histogram with 30 bins\n",
        "plt.hist(data, bins=30)\n",
        "\n",
        "# Add labels and title\n",
        "plt.xlabel('Value')\n",
        "plt.ylabel('Frequency')\n",
        "plt.title('Histogram of Normal Distribution')\n",
        "\n",
        "# Display the plot\n",
        "plt.show()"
      ],
      "metadata": {
        "colab": {
          "base_uri": "https://localhost:8080/",
          "height": 472
        },
        "id": "lS7oEgdD7JAL",
        "outputId": "b33227c6-7902-4250-bc9a-a02a3d166859"
      },
      "execution_count": null,
      "outputs": [
        {
          "output_type": "display_data",
          "data": {
            "text/plain": [
              "<Figure size 640x480 with 1 Axes>"
            ],
            "image/png": "[encoded data removed]"
          },
          "metadata": {}
        }
      ]
    },
    {
      "cell_type": "markdown",
      "source": [
        "b) Overlay a line plot representing the normal distribution's probability density function (PDF)"
      ],
      "metadata": {
        "id": "vxxvVIl4_oJt"
      }
    },
    {
      "cell_type": "code",
      "source": [
        "import numpy as np\n",
        "import matplotlib.pyplot as plt\n",
        "from scipy.stats import norm\n",
        "\n",
        "# Create a NumPy array with 1000 samples from a normal distribution\n",
        "data = np.random.normal(loc=0, scale=1, size=1000)\n",
        "\n",
        "# Plot a histogram with 30 bins\n",
        "plt.hist(data, bins=30, density=True, alpha=0.6, color='g')\n",
        "\n",
        "# Generate x values for the PDF\n",
        "xmin, xmax = plt.xlim()\n",
        "x = np.linspace(xmin, xmax, 100)\n",
        "\n",
        "# Calculate the PDF using the mean and standard deviation of the data\n",
        "mean = np.mean(data)\n",
        "std = np.std(data)\n",
        "p = norm.pdf(x, mean, std)\n",
        "\n",
        "# Overlay the PDF as a line plot\n",
        "plt.plot(x, p, 'k', linewidth=2)\n",
        "\n",
        "# Add labels and title\n",
        "plt.xlabel('Value')\n",
        "plt.ylabel('Frequency')\n",
        "plt.title('Histogram of Normal Distribution with PDF')\n",
        "\n",
        "# Display the plot\n",
        "plt.show()"
      ],
      "metadata": {
        "colab": {
          "base_uri": "https://localhost:8080/",
          "height": 472
        },
        "id": "NV1GB6J3_oWW",
        "outputId": "7b48b43f-9496-4ed1-f6a3-fc9e3e14d8ed"
      },
      "execution_count": null,
      "outputs": [
        {
          "output_type": "display_data",
          "data": {
            "text/plain": [
              "<Figure size 640x480 with 1 Axes>"
            ],
            "image/png": "[encoded data removed]"
          },
          "metadata": {}
        }
      ]
    },
    {
      "cell_type": "markdown",
      "source": [
        "c) Label the x-axis as 'Value' and the y-axis as 'Frequency/Probability'."
      ],
      "metadata": {
        "id": "bGQUuqJz_oll"
      }
    },
    {
      "cell_type": "code",
      "source": [
        "import numpy as np\n",
        "import matplotlib.pyplot as plt\n",
        "from scipy.stats import norm\n",
        "\n",
        "# Create a NumPy array with 1000 samples from a normal distribution\n",
        "data = np.random.normal(loc=0, scale=1, size=1000)\n",
        "\n",
        "# Plot a histogram with 30 bins\n",
        "plt.hist(data, bins=30, density=True, alpha=0.6, color='g')\n",
        "\n",
        "# Generate x values for the PDF\n",
        "xmin, xmax = plt.xlim()\n",
        "x = np.linspace(xmin, xmax, 100)\n",
        "\n",
        "# Calculate the PDF using the mean and standard deviation of the data\n",
        "mean = np.mean(data)\n",
        "std = np.std(data)\n",
        "p = norm.pdf(x, mean, std)\n",
        "\n",
        "# Overlay the PDF as a line plot\n",
        "plt.plot(x, p, 'k', linewidth=2)\n",
        "\n",
        "# Add labels and title\n",
        "plt.xlabel('Value')\n",
        "plt.ylabel('Frequency/Probability')  # Label the y-axis\n",
        "plt.title('Histogram of Normal Distribution with PDF')\n",
        "\n",
        "# Display the plot\n",
        "plt.show()"
      ],
      "metadata": {
        "colab": {
          "base_uri": "https://localhost:8080/",
          "height": 472
        },
        "id": "QVaA2o47_ove",
        "outputId": "a0da5f8e-2bc4-4494-bef6-542fc24c01a7"
      },
      "execution_count": null,
      "outputs": [
        {
          "output_type": "display_data",
          "data": {
            "text/plain": [
              "<Figure size 640x480 with 1 Axes>"
            ],
            "image/png": "[encoded data removed]"
          },
          "metadata": {}
        }
      ]
    },
    {
      "cell_type": "markdown",
      "source": [
        "d) Set the title of the plot as 'Histogram with PDF Overlay'."
      ],
      "metadata": {
        "id": "PxnqCtPj_o5k"
      }
    },
    {
      "cell_type": "code",
      "source": [
        "import numpy as np\n",
        "import matplotlib.pyplot as plt\n",
        "from scipy.stats import norm\n",
        "\n",
        "# Create a NumPy array with 1000 samples from a normal distribution\n",
        "data = np.random.normal(loc=0, scale=1, size=1000)\n",
        "\n",
        "# Plot a histogram with 30 bins\n",
        "plt.hist(data, bins=30, density=True, alpha=0.6, color='g')\n",
        "\n",
        "# Generate x values for the PDF\n",
        "xmin, xmax = plt.xlim()\n",
        "x = np.linspace(xmin, xmax, 100)\n",
        "\n",
        "# Calculate the PDF using the mean and standard deviation of the data\n",
        "mean = np.mean(data)\n",
        "std = np.std(data)\n",
        "p = norm.pdf(x, mean, std)\n",
        "\n",
        "# Overlay the PDF as a line plot\n",
        "plt.plot(x, p, 'k', linewidth=2)\n",
        "\n",
        "# Add labels and title\n",
        "plt.xlabel('Value')\n",
        "plt.ylabel('Frequency/Probability')\n",
        "plt.title('Histogram with PDF Overlay')  # Set the title\n",
        "\n",
        "# Display the plot\n",
        "plt.show()"
      ],
      "metadata": {
        "colab": {
          "base_uri": "https://localhost:8080/",
          "height": 472
        },
        "id": "RJAXgGxW_pFg",
        "outputId": "d6e1b804-ff07-4a09-bb13-90f0b37462bf"
      },
      "execution_count": null,
      "outputs": [
        {
          "output_type": "display_data",
          "data": {
            "text/plain": [
              "<Figure size 640x480 with 1 Axes>"
            ],
            "image/png": "[encoded data removed]"
          },
          "metadata": {}
        }
      ]
    },
    {
      "cell_type": "markdown",
      "source": [
        "Q16. Set the title of the plot as 'Histogram with PDF Overlay'."
      ],
      "metadata": {
        "id": "-67Osd-6_p72"
      }
    },
    {
      "cell_type": "code",
      "source": [
        "import matplotlib.pyplot as plt\n",
        "import numpy as np\n",
        "# Create a NumPy array with 1000 samples from a normal distribution\n",
        "data = np.random.normal(loc=0, scale=1, size=1000)\n",
        "\n",
        "# Plot a histogram with 30 bins\n",
        "plt.hist(data, bins=30, density=True, alpha=0.6, color='g')\n",
        "\n",
        "# Generate x values for the PDF\n",
        "xmin, xmax = plt.xlim()\n",
        "x = np.linspace(xmin, xmax, 100)\n",
        "\n",
        "# Calculate the PDF using the mean and standard deviation of the data\n",
        "mean = np.mean(data)\n",
        "std = np.std(data)\n",
        "p = norm.pdf(x, mean, std)\n",
        "\n",
        "# Overlay the PDF as a line plot\n",
        "plt.plot(x, p, 'k', linewidth=2)\n",
        "\n",
        "# Add labels and title\n",
        "plt.xlabel('Value')\n",
        "plt.ylabel('Frequency/Probability')\n",
        "plt.title('Histogram with PDF Overlay')  # Set the title\n",
        "\n",
        "# Display the plot\n",
        "plt.show()"
      ],
      "metadata": {
        "colab": {
          "base_uri": "https://localhost:8080/",
          "height": 472
        },
        "id": "NoHmlUgqB_3I",
        "outputId": "ab0ccbbb-bc6b-48f7-a004-14b34c71a4b1"
      },
      "execution_count": null,
      "outputs": [
        {
          "output_type": "display_data",
          "data": {
            "text/plain": [
              "<Figure size 640x480 with 1 Axes>"
            ],
            "image/png": "[encoded data removed]"
          },
          "metadata": {}
        }
      ]
    },
    {
      "cell_type": "markdown",
      "source": [
        "Q17. Create a Seaborn scatter plot of two random arrays, color points based on their position relative to the\n",
        "origin (quadrants), add a legend, label the axes, and set the title as 'Quadrant-wise Scatter Plot'."
      ],
      "metadata": {
        "id": "UmHi2z0jCARS"
      }
    },
    {
      "cell_type": "code",
      "source": [
        "import seaborn as sns\n",
        "import matplotlib.pyplot as plt\n",
        "import numpy as np\n",
        "\n",
        "# Create two random arrays\n",
        "x = np.random.randn(100)\n",
        "y = np.random.randn(100)\n",
        "\n",
        "# Determine the quadrant for each point\n",
        "quadrant = np.where(x >= 0, np.where(y >= 0, 1, 4), np.where(y >= 0, 2, 3))\n",
        "\n",
        "# Create the scatter plot with Seaborn, coloring points by quadrant\n",
        "sns.scatterplot(x=x, y=y, hue=quadrant, palette=['red', 'blue', 'green', 'purple'])\n",
        "\n",
        "# Add a legend\n",
        "plt.legend(title='Quadrant')\n",
        "\n",
        "# Add labels and title\n",
        "plt.xlabel('X-axis')\n",
        "plt.ylabel('Y-axis')\n",
        "plt.title('Quadrant-wise Scatter Plot')\n",
        "\n",
        "# Display the plot\n",
        "plt.show()"
      ],
      "metadata": {
        "colab": {
          "base_uri": "https://localhost:8080/",
          "height": 472
        },
        "id": "uXTlWAV8CAdi",
        "outputId": "be177a8f-b2b9-45cf-a4cb-94afd8d67a2b"
      },
      "execution_count": null,
      "outputs": [
        {
          "output_type": "display_data",
          "data": {
            "text/plain": [
              "<Figure size 640x480 with 1 Axes>"
            ],
            "image/png": "[encoded data removed]"
          },
          "metadata": {}
        }
      ]
    },
    {
      "cell_type": "markdown",
      "source": [
        "Q18. With Bokeh, plot a line chart of a sine wave function, add grid lines, label the axes, and set the title as 'Sine\n",
        "Wave Function'8"
      ],
      "metadata": {
        "id": "454qveTmCAtu"
      }
    },
    {
      "cell_type": "code",
      "source": [
        "!pip install bokeh\n",
        "\n",
        "from bokeh.plotting import figure, show\n",
        "from bokeh.io import output_notebook\n",
        "import numpy as np\n",
        "\n",
        "output_notebook()\n",
        "\n",
        "# Generate data for the sine wave\n",
        "x = np.linspace(0, 2 * np.pi, 200)\n",
        "y = np.sin(x)\n",
        "\n",
        "# Create a figure\n",
        "p = figure(title=\"Sine Wave Function\", x_axis_label='X', y_axis_label='Y')\n",
        "\n",
        "# Add a line glyph\n",
        "p.line(x, y, line_width=2)\n",
        "\n",
        "# Add grid lines\n",
        "p.grid.grid_line_alpha = 0.5\n",
        "\n",
        "# Show the plot\n",
        "show(p)"
      ],
      "metadata": {
        "colab": {
          "base_uri": "https://localhost:8080/",
          "height": 897
        },
        "id": "zLXdwT1L_qIt",
        "outputId": "2963e7be-3f9c-4512-ef1a-3945cec561ed"
      },
      "execution_count": null,
      "outputs": [
        {
          "output_type": "stream",
          "name": "stdout",
          "text": [
            "Requirement already satisfied: bokeh in /usr/local/lib/python3.10/dist-packages (3.4.3)\n",
            "Requirement already satisfied: Jinja2>=2.9 in /usr/local/lib/python3.10/dist-packages (from bokeh) (3.1.4)\n",
            "Requirement already satisfied: contourpy>=1.2 in /usr/local/lib/python3.10/dist-packages (from bokeh) (1.3.0)\n",
            "Requirement already satisfied: numpy>=1.16 in /usr/local/lib/python3.10/dist-packages (from bokeh) (1.26.4)\n",
            "Requirement already satisfied: packaging>=16.8 in /usr/local/lib/python3.10/dist-packages (from bokeh) (24.1)\n",
            "Requirement already satisfied: pandas>=1.2 in /usr/local/lib/python3.10/dist-packages (from bokeh) (2.2.2)\n",
            "Requirement already satisfied: pillow>=7.1.0 in /usr/local/lib/python3.10/dist-packages (from bokeh) (10.4.0)\n",
            "Requirement already satisfied: PyYAML>=3.10 in /usr/local/lib/python3.10/dist-packages (from bokeh) (6.0.2)\n",
            "Requirement already satisfied: tornado>=6.2 in /usr/local/lib/python3.10/dist-packages (from bokeh) (6.3.3)\n",
            "Requirement already satisfied: xyzservices>=2021.09.1 in /usr/local/lib/python3.10/dist-packages (from bokeh) (2024.9.0)\n",
            "Requirement already satisfied: MarkupSafe>=2.0 in /usr/local/lib/python3.10/dist-packages (from Jinja2>=2.9->bokeh) (2.1.5)\n",
            "Requirement already satisfied: python-dateutil>=2.8.2 in /usr/local/lib/python3.10/dist-packages (from pandas>=1.2->bokeh) (2.8.2)\n",
            "Requirement already satisfied: pytz>=2020.1 in /usr/local/lib/python3.10/dist-packages (from pandas>=1.2->bokeh) (2024.2)\n",
            "Requirement already satisfied: tzdata>=2022.7 in /usr/local/lib/python3.10/dist-packages (from pandas>=1.2->bokeh) (2024.2)\n",
            "Requirement already satisfied: six>=1.5 in /usr/local/lib/python3.10/dist-packages (from python-dateutil>=2.8.2->pandas>=1.2->bokeh) (1.16.0)\n"
          ]
        },
        {
          "output_type": "display_data",
          "data": {
            "application/javascript": [
              "'use strict';\n",
              "(function(root) {\n",
              "  function now() {\n",
              "    return new Date();\n",
              "  }\n",
              "\n",
              "  const force = true;\n",
              "\n",
              "  if (typeof root._bokeh_onload_callbacks === \"undefined\" || force === true) {\n",
              "    root._bokeh_onload_callbacks = [];\n",
              "    root._bokeh_is_loading = undefined;\n",
              "  }\n",
              "\n",
              "const JS_MIME_TYPE = 'application/javascript';\n",
              "  const HTML_MIME_TYPE = 'text/html';\n",
              "  const EXEC_MIME_TYPE = 'application/vnd.bokehjs_exec.v0+json';\n",
              "  const CLASS_NAME = 'output_bokeh rendered_html';\n",
              "\n",
              "  /**\n",
              "   * Render data to the DOM node\n",
              "   */\n",
              "  function render(props, node) {\n",
              "    const script = document.createElement(\"script\");\n",
              "    node.appendChild(script);\n",
              "  }\n",
              "\n",
              "  /**\n",
              "   * Handle when an output is cleared or removed\n",
              "   */\n",
              "  function handleClearOutput(event, handle) {\n",
              "    function drop(id) {\n",
              "      const view = Bokeh.index.get_by_id(id)\n",
              "      if (view != null) {\n",
              "        view.model.document.clear()\n",
              "        Bokeh.index.delete(view)\n",
              "      }\n",
              "    }\n",
              "\n",
              "    const cell = handle.cell;\n",
              "\n",
              "    const id = cell.output_area._bokeh_element_id;\n",
              "    const server_id = cell.output_area._bokeh_server_id;\n",
              "\n",
              "    // Clean up Bokeh references\n",
              "    if (id != null) {\n",
              "      drop(id)\n",
              "    }\n",
              "\n",
              "    if (server_id !== undefined) {\n",
              "      // Clean up Bokeh references\n",
              "      const cmd_clean = \"from bokeh.io.state import curstate; print(curstate().uuid_to_server['\" + server_id + \"'].get_sessions()[0].document.roots[0]._id)\";\n",
              "      cell.notebook.kernel.execute(cmd_clean, {\n",
              "        iopub: {\n",
              "          output: function(msg) {\n",
              "            const id = msg.content.text.trim()\n",
              "            drop(id)\n",
              "          }\n",
              "        }\n",
              "      });\n",
              "      // Destroy server and session\n",
              "      const cmd_destroy = \"import bokeh.io.notebook as ion; ion.destroy_server('\" + server_id + \"')\";\n",
              "      cell.notebook.kernel.execute(cmd_destroy);\n",
              "    }\n",
              "  }\n",
              "\n",
              "  /**\n",
              "   * Handle when a new output is added\n",
              "   */\n",
              "  function handleAddOutput(event, handle) {\n",
              "    const output_area = handle.output_area;\n",
              "    const output = handle.output;\n",
              "\n",
              "    // limit handleAddOutput to display_data with EXEC_MIME_TYPE content only\n",
              "    if ((output.output_type != \"display_data\") || (!Object.prototype.hasOwnProperty.call(output.data, EXEC_MIME_TYPE))) {\n",
              "      return\n",
              "    }\n",
              "\n",
              "    const toinsert = output_area.element.find(\".\" + CLASS_NAME.split(' ')[0]);\n",
              "\n",
              "    if (output.metadata[EXEC_MIME_TYPE][\"id\"] !== undefined) {\n",
              "      toinsert[toinsert.length - 1].firstChild.textContent = output.data[JS_MIME_TYPE];\n",
              "      // store reference to embed id on output_area\n",
              "      output_area._bokeh_element_id = output.metadata[EXEC_MIME_TYPE][\"id\"];\n",
              "    }\n",
              "    if (output.metadata[EXEC_MIME_TYPE][\"server_id\"] !== undefined) {\n",
              "      const bk_div = document.createElement(\"div\");\n",
              "      bk_div.innerHTML = output.data[HTML_MIME_TYPE];\n",
              "      const script_attrs = bk_div.children[0].attributes;\n",
              "      for (let i = 0; i < script_attrs.length; i++) {\n",
              "        toinsert[toinsert.length - 1].firstChild.setAttribute(script_attrs[i].name, script_attrs[i].value);\n",
              "        toinsert[toinsert.length - 1].firstChild.textContent = bk_div.children[0].textContent\n",
              "      }\n",
              "      // store reference to server id on output_area\n",
              "      output_area._bokeh_server_id = output.metadata[EXEC_MIME_TYPE][\"server_id\"];\n",
              "    }\n",
              "  }\n",
              "\n",
              "  function register_renderer(events, OutputArea) {\n",
              "\n",
              "    function append_mime(data, metadata, element) {\n",
              "      // create a DOM node to render to\n",
              "      const toinsert = this.create_output_subarea(\n",
              "        metadata,\n",
              "        CLASS_NAME,\n",
              "        EXEC_MIME_TYPE\n",
              "      );\n",
              "      this.keyboard_manager.register_events(toinsert);\n",
              "      // Render to node\n",
              "      const props = {data: data, metadata: metadata[EXEC_MIME_TYPE]};\n",
              "      render(props, toinsert[toinsert.length - 1]);\n",
              "      element.append(toinsert);\n",
              "      return toinsert\n",
              "    }\n",
              "\n",
              "    /* Handle when an output is cleared or removed */\n",
              "    events.on('clear_output.CodeCell', handleClearOutput);\n",
              "    events.on('delete.Cell', handleClearOutput);\n",
              "\n",
              "    /* Handle when a new output is added */\n",
              "    events.on('output_added.OutputArea', handleAddOutput);\n",
              "\n",
              "    /**\n",
              "     * Register the mime type and append_mime function with output_area\n",
              "     */\n",
              "    OutputArea.prototype.register_mime_type(EXEC_MIME_TYPE, append_mime, {\n",
              "      /* Is output safe? */\n",
              "      safe: true,\n",
              "      /* Index of renderer in `output_area.display_order` */\n",
              "      index: 0\n",
              "    });\n",
              "  }\n",
              "\n",
              "  // register the mime type if in Jupyter Notebook environment and previously unregistered\n",
              "  if (root.Jupyter !== undefined) {\n",
              "    const events = require('base/js/events');\n",
              "    const OutputArea = require('notebook/js/outputarea').OutputArea;\n",
              "\n",
              "    if (OutputArea.prototype.mime_types().indexOf(EXEC_MIME_TYPE) == -1) {\n",
              "      register_renderer(events, OutputArea);\n",
              "    }\n",
              "  }\n",
              "  if (typeof (root._bokeh_timeout) === \"undefined\" || force === true) {\n",
              "    root._bokeh_timeout = Date.now() + 5000;\n",
              "    root._bokeh_failed_load = false;\n",
              "  }\n",
              "\n",
              "  const NB_LOAD_WARNING = {'data': {'text/html':\n",
              "     \"<div style='background-color: #fdd'>\\n\"+\n",
              "     \"<p>\\n\"+\n",
              "     \"BokehJS does not appear to have successfully loaded. If loading BokehJS from CDN, this \\n\"+\n",
              "     \"may be due to a slow or bad network connection. Possible fixes:\\n\"+\n",
              "     \"</p>\\n\"+\n",
              "     \"<ul>\\n\"+\n",
              "     \"<li>re-rerun `output_notebook()` to attempt to load from CDN again, or</li>\\n\"+\n",
              "     \"<li>use INLINE resources instead, as so:</li>\\n\"+\n",
              "     \"</ul>\\n\"+\n",
              "     \"<code>\\n\"+\n",
              "     \"from bokeh.resources import INLINE\\n\"+\n",
              "     \"output_notebook(resources=INLINE)\\n\"+\n",
              "     \"</code>\\n\"+\n",
              "     \"</div>\"}};\n",
              "\n",
              "  function display_loaded(error = null) {\n",
              "    const el = document.getElementById(null);\n",
              "    if (el != null) {\n",
              "      const html = (() => {\n",
              "        if (typeof root.Bokeh === \"undefined\") {\n",
              "          if (error == null) {\n",
              "            return \"BokehJS is loading ...\";\n",
              "          } else {\n",
              "            return \"BokehJS failed to load.\";\n",
              "          }\n",
              "        } else {\n",
              "          const prefix = `BokehJS ${root.Bokeh.version}`;\n",
              "          if (error == null) {\n",
              "            return `${prefix} successfully loaded.`;\n",
              "          } else {\n",
              "            return `${prefix} <b>encountered errors</b> while loading and may not function as expected.`;\n",
              "          }\n",
              "        }\n",
              "      })();\n",
              "      el.innerHTML = html;\n",
              "\n",
              "      if (error != null) {\n",
              "        const wrapper = document.createElement(\"div\");\n",
              "        wrapper.style.overflow = \"auto\";\n",
              "        wrapper.style.height = \"5em\";\n",
              "        wrapper.style.resize = \"vertical\";\n",
              "        const content = document.createElement(\"div\");\n",
              "        content.style.fontFamily = \"monospace\";\n",
              "        content.style.whiteSpace = \"pre-wrap\";\n",
              "        content.style.backgroundColor = \"rgb(255, 221, 221)\";\n",
              "        content.textContent = error.stack ?? error.toString();\n",
              "        wrapper.append(content);\n",
              "        el.append(wrapper);\n",
              "      }\n",
              "    } else if (Date.now() < root._bokeh_timeout) {\n",
              "      setTimeout(() => display_loaded(error), 100);\n",
              "    }\n",
              "  }\n",
              "\n",
              "  function run_callbacks() {\n",
              "    try {\n",
              "      root._bokeh_onload_callbacks.forEach(function(callback) {\n",
              "        if (callback != null)\n",
              "          callback();\n",
              "      });\n",
              "    } finally {\n",
              "      delete root._bokeh_onload_callbacks\n",
              "    }\n",
              "    console.debug(\"Bokeh: all callbacks have finished\");\n",
              "  }\n",
              "\n",
              "  function load_libs(css_urls, js_urls, callback) {\n",
              "    if (css_urls == null) css_urls = [];\n",
              "    if (js_urls == null) js_urls = [];\n",
              "\n",
              "    root._bokeh_onload_callbacks.push(callback);\n",
              "    if (root._bokeh_is_loading > 0) {\n",
              "      console.debug(\"Bokeh: BokehJS is being loaded, scheduling callback at\", now());\n",
              "      return null;\n",
              "    }\n",
              "    if (js_urls == null || js_urls.length === 0) {\n",
              "      run_callbacks();\n",
              "      return null;\n",
              "    }\n",
              "    console.debug(\"Bokeh: BokehJS not loaded, scheduling load and callback at\", now());\n",
              "    root._bokeh_is_loading = css_urls.length + js_urls.length;\n",
              "\n",
              "    function on_load() {\n",
              "      root._bokeh_is_loading--;\n",
              "      if (root._bokeh_is_loading === 0) {\n",
              "        console.debug(\"Bokeh: all BokehJS libraries/stylesheets loaded\");\n",
              "        run_callbacks()\n",
              "      }\n",
              "    }\n",
              "\n",
              "    function on_error(url) {\n",
              "      console.error(\"failed to load \" + url);\n",
              "    }\n",
              "\n",
              "    for (let i = 0; i < css_urls.length; i++) {\n",
              "      const url = css_urls[i];\n",
              "      const element = document.createElement(\"link\");\n",
              "      element.onload = on_load;\n",
              "      element.onerror = on_error.bind(null, url);\n",
              "      element.rel = \"stylesheet\";\n",
              "      element.type = \"text/css\";\n",
              "      element.href = url;\n",
              "      console.debug(\"Bokeh: injecting link tag for BokehJS stylesheet: \", url);\n",
              "      document.body.appendChild(element);\n",
              "    }\n",
              "\n",
              "    for (let i = 0; i < js_urls.length; i++) {\n",
              "      const url = js_urls[i];\n",
              "      const element = document.createElement('script');\n",
              "      element.onload = on_load;\n",
              "      element.onerror = on_error.bind(null, url);\n",
              "      element.async = false;\n",
              "      element.src = url;\n",
              "      console.debug(\"Bokeh: injecting script tag for BokehJS library: \", url);\n",
              "      document.head.appendChild(element);\n",
              "    }\n",
              "  };\n",
              "\n",
              "  function inject_raw_css(css) {\n",
              "    const element = document.createElement(\"style\");\n",
              "    element.appendChild(document.createTextNode(css));\n",
              "    document.body.appendChild(element);\n",
              "  }\n",
              "\n",
              "  const js_urls = [\"https://cdn.bokeh.org/bokeh/release/bokeh-3.4.3.min.js\", \"https://cdn.bokeh.org/bokeh/release/bokeh-gl-3.4.3.min.js\", \"https://cdn.bokeh.org/bokeh/release/bokeh-widgets-3.4.3.min.js\", \"https://cdn.bokeh.org/bokeh/release/bokeh-tables-3.4.3.min.js\", \"https://cdn.bokeh.org/bokeh/release/bokeh-mathjax-3.4.3.min.js\"];\n",
              "  const css_urls = [];\n",
              "\n",
              "  const inline_js = [    function(Bokeh) {\n",
              "      Bokeh.set_log_level(\"info\");\n",
              "    },\n",
              "function(Bokeh) {\n",
              "    }\n",
              "  ];\n",
              "\n",
              "  function run_inline_js() {\n",
              "    if (root.Bokeh !== undefined || force === true) {\n",
              "      try {\n",
              "            for (let i = 0; i < inline_js.length; i++) {\n",
              "      inline_js[i].call(root, root.Bokeh);\n",
              "    }\n",
              "\n",
              "      } catch (error) {throw error;\n",
              "      }} else if (Date.now() < root._bokeh_timeout) {\n",
              "      setTimeout(run_inline_js, 100);\n",
              "    } else if (!root._bokeh_failed_load) {\n",
              "      console.log(\"Bokeh: BokehJS failed to load within specified timeout.\");\n",
              "      root._bokeh_failed_load = true;\n",
              "    } else if (force !== true) {\n",
              "      const cell = $(document.getElementById(null)).parents('.cell').data().cell;\n",
              "      cell.output_area.append_execute_result(NB_LOAD_WARNING)\n",
              "    }\n",
              "  }\n",
              "\n",
              "  if (root._bokeh_is_loading === 0) {\n",
              "    console.debug(\"Bokeh: BokehJS loaded, going straight to plotting\");\n",
              "    run_inline_js();\n",
              "  } else {\n",
              "    load_libs(css_urls, js_urls, function() {\n",
              "      console.debug(\"Bokeh: BokehJS plotting callback run at\", now());\n",
              "      run_inline_js();\n",
              "    });\n",
              "  }\n",
              "}(window));"
            ],
            "application/vnd.bokehjs_load.v0+json": "'use strict';\n(function(root) {\n  function now() {\n    return new Date();\n  }\n\n  const force = true;\n\n  if (typeof root._bokeh_onload_callbacks === \"undefined\" || force === true) {\n    root._bokeh_onload_callbacks = [];\n    root._bokeh_is_loading = undefined;\n  }\n\n\n  if (typeof (root._bokeh_timeout) === \"undefined\" || force === true) {\n    root._bokeh_timeout = Date.now() + 5000;\n    root._bokeh_failed_load = false;\n  }\n\n  const NB_LOAD_WARNING = {'data': {'text/html':\n     \"<div style='background-color: #fdd'>\\n\"+\n     \"<p>\\n\"+\n     \"BokehJS does not appear to have successfully loaded. If loading BokehJS from CDN, this \\n\"+\n     \"may be due to a slow or bad network connection. Possible fixes:\\n\"+\n     \"</p>\\n\"+\n     \"<ul>\\n\"+\n     \"<li>re-rerun `output_notebook()` to attempt to load from CDN again, or</li>\\n\"+\n     \"<li>use INLINE resources instead, as so:</li>\\n\"+\n     \"</ul>\\n\"+\n     \"<code>\\n\"+\n     \"from bokeh.resources import INLINE\\n\"+\n     \"output_notebook(resources=INLINE)\\n\"+\n     \"</code>\\n\"+\n     \"</div>\"}};\n\n  function display_loaded(error = null) {\n    const el = document.getElementById(null);\n    if (el != null) {\n      const html = (() => {\n        if (typeof root.Bokeh === \"undefined\") {\n          if (error == null) {\n            return \"BokehJS is loading ...\";\n          } else {\n            return \"BokehJS failed to load.\";\n          }\n        } else {\n          const prefix = `BokehJS ${root.Bokeh.version}`;\n          if (error == null) {\n            return `${prefix} successfully loaded.`;\n          } else {\n            return `${prefix} <b>encountered errors</b> while loading and may not function as expected.`;\n          }\n        }\n      })();\n      el.innerHTML = html;\n\n      if (error != null) {\n        const wrapper = document.createElement(\"div\");\n        wrapper.style.overflow = \"auto\";\n        wrapper.style.height = \"5em\";\n        wrapper.style.resize = \"vertical\";\n        const content = document.createElement(\"div\");\n        content.style.fontFamily = \"monospace\";\n        content.style.whiteSpace = \"pre-wrap\";\n        content.style.backgroundColor = \"rgb(255, 221, 221)\";\n        content.textContent = error.stack ?? error.toString();\n        wrapper.append(content);\n        el.append(wrapper);\n      }\n    } else if (Date.now() < root._bokeh_timeout) {\n      setTimeout(() => display_loaded(error), 100);\n    }\n  }\n\n  function run_callbacks() {\n    try {\n      root._bokeh_onload_callbacks.forEach(function(callback) {\n        if (callback != null)\n          callback();\n      });\n    } finally {\n      delete root._bokeh_onload_callbacks\n    }\n    console.debug(\"Bokeh: all callbacks have finished\");\n  }\n\n  function load_libs(css_urls, js_urls, callback) {\n    if (css_urls == null) css_urls = [];\n    if (js_urls == null) js_urls = [];\n\n    root._bokeh_onload_callbacks.push(callback);\n    if (root._bokeh_is_loading > 0) {\n      console.debug(\"Bokeh: BokehJS is being loaded, scheduling callback at\", now());\n      return null;\n    }\n    if (js_urls == null || js_urls.length === 0) {\n      run_callbacks();\n      return null;\n    }\n    console.debug(\"Bokeh: BokehJS not loaded, scheduling load and callback at\", now());\n    root._bokeh_is_loading = css_urls.length + js_urls.length;\n\n    function on_load() {\n      root._bokeh_is_loading--;\n      if (root._bokeh_is_loading === 0) {\n        console.debug(\"Bokeh: all BokehJS libraries/stylesheets loaded\");\n        run_callbacks()\n      }\n    }\n\n    function on_error(url) {\n      console.error(\"failed to load \" + url);\n    }\n\n    for (let i = 0; i < css_urls.length; i++) {\n      const url = css_urls[i];\n      const element = document.createElement(\"link\");\n      element.onload = on_load;\n      element.onerror = on_error.bind(null, url);\n      element.rel = \"stylesheet\";\n      element.type = \"text/css\";\n      element.href = url;\n      console.debug(\"Bokeh: injecting link tag for BokehJS stylesheet: \", url);\n      document.body.appendChild(element);\n    }\n\n    for (let i = 0; i < js_urls.length; i++) {\n      const url = js_urls[i];\n      const element = document.createElement('script');\n      element.onload = on_load;\n      element.onerror = on_error.bind(null, url);\n      element.async = false;\n      element.src = url;\n      console.debug(\"Bokeh: injecting script tag for BokehJS library: \", url);\n      document.head.appendChild(element);\n    }\n  };\n\n  function inject_raw_css(css) {\n    const element = document.createElement(\"style\");\n    element.appendChild(document.createTextNode(css));\n    document.body.appendChild(element);\n  }\n\n  const js_urls = [\"https://cdn.bokeh.org/bokeh/release/bokeh-3.4.3.min.js\", \"https://cdn.bokeh.org/bokeh/release/bokeh-gl-3.4.3.min.js\", \"https://cdn.bokeh.org/bokeh/release/bokeh-widgets-3.4.3.min.js\", \"https://cdn.bokeh.org/bokeh/release/bokeh-tables-3.4.3.min.js\", \"https://cdn.bokeh.org/bokeh/release/bokeh-mathjax-3.4.3.min.js\"];\n  const css_urls = [];\n\n  const inline_js = [    function(Bokeh) {\n      Bokeh.set_log_level(\"info\");\n    },\nfunction(Bokeh) {\n    }\n  ];\n\n  function run_inline_js() {\n    if (root.Bokeh !== undefined || force === true) {\n      try {\n            for (let i = 0; i < inline_js.length; i++) {\n      inline_js[i].call(root, root.Bokeh);\n    }\n\n      } catch (error) {throw error;\n      }} else if (Date.now() < root._bokeh_timeout) {\n      setTimeout(run_inline_js, 100);\n    } else if (!root._bokeh_failed_load) {\n      console.log(\"Bokeh: BokehJS failed to load within specified timeout.\");\n      root._bokeh_failed_load = true;\n    } else if (force !== true) {\n      const cell = $(document.getElementById(null)).parents('.cell').data().cell;\n      cell.output_area.append_execute_result(NB_LOAD_WARNING)\n    }\n  }\n\n  if (root._bokeh_is_loading === 0) {\n    console.debug(\"Bokeh: BokehJS loaded, going straight to plotting\");\n    run_inline_js();\n  } else {\n    load_libs(css_urls, js_urls, function() {\n      console.debug(\"Bokeh: BokehJS plotting callback run at\", now());\n      run_inline_js();\n    });\n  }\n}(window));"
          },
          "metadata": {}
        },
        {
          "output_type": "display_data",
          "data": {
            "text/html": [
              "\n",
              "  <div id=\"b46863ef-8047-44bf-aab1-094f06ad6af5\" data-root-id=\"p1001\" style=\"display: contents;\"></div>\n"
            ]
          },
          "metadata": {}
        },
        {
          "output_type": "display_data",
          "data": {
            "application/javascript": [
              "(function(root) {\n",
              "  function embed_document(root) {\n",
              "  const docs_json = {\"8d69a5ef-eebf-4ded-8125-907d9fedaa71\":{\"version\":\"3.4.3\",\"title\":\"Bokeh Application\",\"roots\":[{\"type\":\"object\",\"name\":\"Figure\",\"id\":\"p1001\",\"attributes\":{\"x_range\":{\"type\":\"object\",\"name\":\"DataRange1d\",\"id\":\"p1002\"},\"y_range\":{\"type\":\"object\",\"name\":\"DataRange1d\",\"id\":\"p1003\"},\"x_scale\":{\"type\":\"object\",\"name\":\"LinearScale\",\"id\":\"p1011\"},\"y_scale\":{\"type\":\"object\",\"name\":\"LinearScale\",\"id\":\"p1012\"},\"title\":{\"type\":\"object\",\"name\":\"Title\",\"id\":\"p1004\",\"attributes\":{\"text\":\"Sine Wave Function\"}},\"renderers\":[{\"type\":\"object\",\"name\":\"GlyphRenderer\",\"id\":\"p1040\",\"attributes\":{\"data_source\":{\"type\":\"object\",\"name\":\"ColumnDataSource\",\"id\":\"p1034\",\"attributes\":{\"selected\":{\"type\":\"object\",\"name\":\"Selection\",\"id\":\"p1035\",\"attributes\":{\"indices\":[],\"line_indices\":[]}},\"selection_policy\":{\"type\":\"object\",\"name\":\"UnionRenderers\",\"id\":\"p1036\"},\"data\":{\"type\":\"map\",\"entries\":[[\"x\",{\"type\":\"ndarray\",\"array\":{\"type\":\"bytes\",\"data\":\"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\"},\"shape\":[200],\"dtype\":\"float64\",\"order\":\"little\"}],[\"y\",{\"type\":\"ndarray\",\"array\":{\"type\":\"bytes\",\"data\":\"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\"},\"shape\":[200],\"dtype\":\"float64\",\"order\":\"little\"}]]}}},\"view\":{\"type\":\"object\",\"name\":\"CDSView\",\"id\":\"p1041\",\"attributes\":{\"filter\":{\"type\":\"object\",\"name\":\"AllIndices\",\"id\":\"p1042\"}}},\"glyph\":{\"type\":\"object\",\"name\":\"Line\",\"id\":\"p1037\",\"attributes\":{\"x\":{\"type\":\"field\",\"field\":\"x\"},\"y\":{\"type\":\"field\",\"field\":\"y\"},\"line_color\":\"#1f77b4\",\"line_width\":2}},\"nonselection_glyph\":{\"type\":\"object\",\"name\":\"Line\",\"id\":\"p1038\",\"attributes\":{\"x\":{\"type\":\"field\",\"field\":\"x\"},\"y\":{\"type\":\"field\",\"field\":\"y\"},\"line_color\":\"#1f77b4\",\"line_alpha\":0.1,\"line_width\":2}},\"muted_glyph\":{\"type\":\"object\",\"name\":\"Line\",\"id\":\"p1039\",\"attributes\":{\"x\":{\"type\":\"field\",\"field\":\"x\"},\"y\":{\"type\":\"field\",\"field\":\"y\"},\"line_color\":\"#1f77b4\",\"line_alpha\":0.2,\"line_width\":2}}}}],\"toolbar\":{\"type\":\"object\",\"name\":\"Toolbar\",\"id\":\"p1010\",\"attributes\":{\"tools\":[{\"type\":\"object\",\"name\":\"PanTool\",\"id\":\"p1023\"},{\"type\":\"object\",\"name\":\"WheelZoomTool\",\"id\":\"p1024\",\"attributes\":{\"renderers\":\"auto\"}},{\"type\":\"object\",\"name\":\"BoxZoomTool\",\"id\":\"p1025\",\"attributes\":{\"overlay\":{\"type\":\"object\",\"name\":\"BoxAnnotation\",\"id\":\"p1026\",\"attributes\":{\"syncable\":false,\"level\":\"overlay\",\"visible\":false,\"left\":{\"type\":\"number\",\"value\":\"nan\"},\"right\":{\"type\":\"number\",\"value\":\"nan\"},\"top\":{\"type\":\"number\",\"value\":\"nan\"},\"bottom\":{\"type\":\"number\",\"value\":\"nan\"},\"left_units\":\"canvas\",\"right_units\":\"canvas\",\"top_units\":\"canvas\",\"bottom_units\":\"canvas\",\"line_color\":\"black\",\"line_alpha\":1.0,\"line_width\":2,\"line_dash\":[4,4],\"fill_color\":\"lightgrey\",\"fill_alpha\":0.5}}}},{\"type\":\"object\",\"name\":\"SaveTool\",\"id\":\"p1031\"},{\"type\":\"object\",\"name\":\"ResetTool\",\"id\":\"p1032\"},{\"type\":\"object\",\"name\":\"HelpTool\",\"id\":\"p1033\"}]}},\"left\":[{\"type\":\"object\",\"name\":\"LinearAxis\",\"id\":\"p1018\",\"attributes\":{\"ticker\":{\"type\":\"object\",\"name\":\"BasicTicker\",\"id\":\"p1019\",\"attributes\":{\"mantissas\":[1,2,5]}},\"formatter\":{\"type\":\"object\",\"name\":\"BasicTickFormatter\",\"id\":\"p1020\"},\"axis_label\":\"Y\",\"major_label_policy\":{\"type\":\"object\",\"name\":\"AllLabels\",\"id\":\"p1021\"}}}],\"below\":[{\"type\":\"object\",\"name\":\"LinearAxis\",\"id\":\"p1013\",\"attributes\":{\"ticker\":{\"type\":\"object\",\"name\":\"BasicTicker\",\"id\":\"p1014\",\"attributes\":{\"mantissas\":[1,2,5]}},\"formatter\":{\"type\":\"object\",\"name\":\"BasicTickFormatter\",\"id\":\"p1015\"},\"axis_label\":\"X\",\"major_label_policy\":{\"type\":\"object\",\"name\":\"AllLabels\",\"id\":\"p1016\"}}}],\"center\":[{\"type\":\"object\",\"name\":\"Grid\",\"id\":\"p1017\",\"attributes\":{\"axis\":{\"id\":\"p1013\"},\"grid_line_alpha\":0.5}},{\"type\":\"object\",\"name\":\"Grid\",\"id\":\"p1022\",\"attributes\":{\"dimension\":1,\"axis\":{\"id\":\"p1018\"},\"grid_line_alpha\":0.5}}]}}]}};\n",
              "  const render_items = [{\"docid\":\"8d69a5ef-eebf-4ded-8125-907d9fedaa71\",\"roots\":{\"p1001\":\"b46863ef-8047-44bf-aab1-094f06ad6af5\"},\"root_ids\":[\"p1001\"]}];\n",
              "  void root.Bokeh.embed.embed_items_notebook(docs_json, render_items);\n",
              "  }\n",
              "  if (root.Bokeh !== undefined) {\n",
              "    embed_document(root);\n",
              "  } else {\n",
              "    let attempts = 0;\n",
              "    const timer = setInterval(function(root) {\n",
              "      if (root.Bokeh !== undefined) {\n",
              "        clearInterval(timer);\n",
              "        embed_document(root);\n",
              "      } else {\n",
              "        attempts++;\n",
              "        if (attempts > 100) {\n",
              "          clearInterval(timer);\n",
              "          console.log(\"Bokeh: ERROR: Unable to run BokehJS code because BokehJS library is missing\");\n",
              "        }\n",
              "      }\n",
              "    }, 10, root)\n",
              "  }\n",
              "})(window);"
            ],
            "application/vnd.bokehjs_exec.v0+json": ""
          },
          "metadata": {
            "application/vnd.bokehjs_exec.v0+json": {
              "id": "p1001"
            }
          }
        }
      ]
    },
    {
      "cell_type": "markdown",
      "source": [
        "Q19. Using Bokeh, generate a bar chart of randomly generated categorical data, color bars based on their\n",
        "values, add hover tooltips to display exact values, label the axes, and set the title as 'Random Categorical\n",
        "Bar Chart'8"
      ],
      "metadata": {
        "id": "8lPBnGlY5Xhq"
      }
    },
    {
      "cell_type": "code",
      "source": [
        "!pip install bokeh\n",
        "from bokeh.io import output_notebook, show\n",
        "from bokeh.plotting import figure\n",
        "from bokeh.models import ColumnDataSource, HoverTool\n",
        "# Import factor_cmap from bokeh.transform\n",
        "from bokeh.transform import factor_cmap\n",
        "import numpy as np\n",
        "import pandas as pd\n",
        "\n",
        "output_notebook()\n",
        "\n",
        "# Generate random categorical data\n",
        "categories = ['A', 'B', 'C', 'D', 'E']\n",
        "values = np.random.randint(1, 20, size=5)\n",
        "\n",
        "# Create a ColumnDataSource\n",
        "source = ColumnDataSource(data=dict(categories=categories, values=values))\n",
        "\n",
        "# Create a figure\n",
        "p = figure(x_range=categories, title=\"Random Categorical Bar Chart\",\n",
        "           toolbar_location=None, tools=\"\")\n",
        "\n",
        "# Add a vbar glyph\n",
        "p.vbar(x='categories', top='values', width=0.9, source=source, legend_field=\"categories\",\n",
        "       line_color='white', fill_color=factor_cmap('categories', palette=['red', 'green', 'blue', 'orange', 'purple'], factors=categories))\n",
        "\n",
        "\n",
        "# Add hover tooltips\n",
        "hover = HoverTool(tooltips=[\n",
        "    (\"Category\", \"@categories\"),\n",
        "    (\"Value\", \"@values\")\n",
        "])\n",
        "p.add_tools(hover)\n",
        "\n",
        "# Label the axes\n",
        "p.xaxis.axis_label = 'Category'\n",
        "p.yaxis.axis_label = 'Value'\n",
        "\n",
        "# Show the plot\n",
        "show(p)"
      ],
      "metadata": {
        "colab": {
          "base_uri": "https://localhost:8080/",
          "height": 897
        },
        "id": "9Udzrz0WCq0u",
        "outputId": "98cb0917-1278-42b2-d4a4-4ff15d21d355"
      },
      "execution_count": null,
      "outputs": [
        {
          "output_type": "stream",
          "name": "stdout",
          "text": [
            "Requirement already satisfied: bokeh in /usr/local/lib/python3.10/dist-packages (3.4.3)\n",
            "Requirement already satisfied: Jinja2>=2.9 in /usr/local/lib/python3.10/dist-packages (from bokeh) (3.1.4)\n",
            "Requirement already satisfied: contourpy>=1.2 in /usr/local/lib/python3.10/dist-packages (from bokeh) (1.3.0)\n",
            "Requirement already satisfied: numpy>=1.16 in /usr/local/lib/python3.10/dist-packages (from bokeh) (1.26.4)\n",
            "Requirement already satisfied: packaging>=16.8 in /usr/local/lib/python3.10/dist-packages (from bokeh) (24.1)\n",
            "Requirement already satisfied: pandas>=1.2 in /usr/local/lib/python3.10/dist-packages (from bokeh) (2.2.2)\n",
            "Requirement already satisfied: pillow>=7.1.0 in /usr/local/lib/python3.10/dist-packages (from bokeh) (10.4.0)\n",
            "Requirement already satisfied: PyYAML>=3.10 in /usr/local/lib/python3.10/dist-packages (from bokeh) (6.0.2)\n",
            "Requirement already satisfied: tornado>=6.2 in /usr/local/lib/python3.10/dist-packages (from bokeh) (6.3.3)\n",
            "Requirement already satisfied: xyzservices>=2021.09.1 in /usr/local/lib/python3.10/dist-packages (from bokeh) (2024.9.0)\n",
            "Requirement already satisfied: MarkupSafe>=2.0 in /usr/local/lib/python3.10/dist-packages (from Jinja2>=2.9->bokeh) (2.1.5)\n",
            "Requirement already satisfied: python-dateutil>=2.8.2 in /usr/local/lib/python3.10/dist-packages (from pandas>=1.2->bokeh) (2.8.2)\n",
            "Requirement already satisfied: pytz>=2020.1 in /usr/local/lib/python3.10/dist-packages (from pandas>=1.2->bokeh) (2024.2)\n",
            "Requirement already satisfied: tzdata>=2022.7 in /usr/local/lib/python3.10/dist-packages (from pandas>=1.2->bokeh) (2024.2)\n",
            "Requirement already satisfied: six>=1.5 in /usr/local/lib/python3.10/dist-packages (from python-dateutil>=2.8.2->pandas>=1.2->bokeh) (1.16.0)\n"
          ]
        },
        {
          "output_type": "display_data",
          "data": {
            "application/javascript": [
              "'use strict';\n",
              "(function(root) {\n",
              "  function now() {\n",
              "    return new Date();\n",
              "  }\n",
              "\n",
              "  const force = true;\n",
              "\n",
              "  if (typeof root._bokeh_onload_callbacks === \"undefined\" || force === true) {\n",
              "    root._bokeh_onload_callbacks = [];\n",
              "    root._bokeh_is_loading = undefined;\n",
              "  }\n",
              "\n",
              "const JS_MIME_TYPE = 'application/javascript';\n",
              "  const HTML_MIME_TYPE = 'text/html';\n",
              "  const EXEC_MIME_TYPE = 'application/vnd.bokehjs_exec.v0+json';\n",
              "  const CLASS_NAME = 'output_bokeh rendered_html';\n",
              "\n",
              "  /**\n",
              "   * Render data to the DOM node\n",
              "   */\n",
              "  function render(props, node) {\n",
              "    const script = document.createElement(\"script\");\n",
              "    node.appendChild(script);\n",
              "  }\n",
              "\n",
              "  /**\n",
              "   * Handle when an output is cleared or removed\n",
              "   */\n",
              "  function handleClearOutput(event, handle) {\n",
              "    function drop(id) {\n",
              "      const view = Bokeh.index.get_by_id(id)\n",
              "      if (view != null) {\n",
              "        view.model.document.clear()\n",
              "        Bokeh.index.delete(view)\n",
              "      }\n",
              "    }\n",
              "\n",
              "    const cell = handle.cell;\n",
              "\n",
              "    const id = cell.output_area._bokeh_element_id;\n",
              "    const server_id = cell.output_area._bokeh_server_id;\n",
              "\n",
              "    // Clean up Bokeh references\n",
              "    if (id != null) {\n",
              "      drop(id)\n",
              "    }\n",
              "\n",
              "    if (server_id !== undefined) {\n",
              "      // Clean up Bokeh references\n",
              "      const cmd_clean = \"from bokeh.io.state import curstate; print(curstate().uuid_to_server['\" + server_id + \"'].get_sessions()[0].document.roots[0]._id)\";\n",
              "      cell.notebook.kernel.execute(cmd_clean, {\n",
              "        iopub: {\n",
              "          output: function(msg) {\n",
              "            const id = msg.content.text.trim()\n",
              "            drop(id)\n",
              "          }\n",
              "        }\n",
              "      });\n",
              "      // Destroy server and session\n",
              "      const cmd_destroy = \"import bokeh.io.notebook as ion; ion.destroy_server('\" + server_id + \"')\";\n",
              "      cell.notebook.kernel.execute(cmd_destroy);\n",
              "    }\n",
              "  }\n",
              "\n",
              "  /**\n",
              "   * Handle when a new output is added\n",
              "   */\n",
              "  function handleAddOutput(event, handle) {\n",
              "    const output_area = handle.output_area;\n",
              "    const output = handle.output;\n",
              "\n",
              "    // limit handleAddOutput to display_data with EXEC_MIME_TYPE content only\n",
              "    if ((output.output_type != \"display_data\") || (!Object.prototype.hasOwnProperty.call(output.data, EXEC_MIME_TYPE))) {\n",
              "      return\n",
              "    }\n",
              "\n",
              "    const toinsert = output_area.element.find(\".\" + CLASS_NAME.split(' ')[0]);\n",
              "\n",
              "    if (output.metadata[EXEC_MIME_TYPE][\"id\"] !== undefined) {\n",
              "      toinsert[toinsert.length - 1].firstChild.textContent = output.data[JS_MIME_TYPE];\n",
              "      // store reference to embed id on output_area\n",
              "      output_area._bokeh_element_id = output.metadata[EXEC_MIME_TYPE][\"id\"];\n",
              "    }\n",
              "    if (output.metadata[EXEC_MIME_TYPE][\"server_id\"] !== undefined) {\n",
              "      const bk_div = document.createElement(\"div\");\n",
              "      bk_div.innerHTML = output.data[HTML_MIME_TYPE];\n",
              "      const script_attrs = bk_div.children[0].attributes;\n",
              "      for (let i = 0; i < script_attrs.length; i++) {\n",
              "        toinsert[toinsert.length - 1].firstChild.setAttribute(script_attrs[i].name, script_attrs[i].value);\n",
              "        toinsert[toinsert.length - 1].firstChild.textContent = bk_div.children[0].textContent\n",
              "      }\n",
              "      // store reference to server id on output_area\n",
              "      output_area._bokeh_server_id = output.metadata[EXEC_MIME_TYPE][\"server_id\"];\n",
              "    }\n",
              "  }\n",
              "\n",
              "  function register_renderer(events, OutputArea) {\n",
              "\n",
              "    function append_mime(data, metadata, element) {\n",
              "      // create a DOM node to render to\n",
              "      const toinsert = this.create_output_subarea(\n",
              "        metadata,\n",
              "        CLASS_NAME,\n",
              "        EXEC_MIME_TYPE\n",
              "      );\n",
              "      this.keyboard_manager.register_events(toinsert);\n",
              "      // Render to node\n",
              "      const props = {data: data, metadata: metadata[EXEC_MIME_TYPE]};\n",
              "      render(props, toinsert[toinsert.length - 1]);\n",
              "      element.append(toinsert);\n",
              "      return toinsert\n",
              "    }\n",
              "\n",
              "    /* Handle when an output is cleared or removed */\n",
              "    events.on('clear_output.CodeCell', handleClearOutput);\n",
              "    events.on('delete.Cell', handleClearOutput);\n",
              "\n",
              "    /* Handle when a new output is added */\n",
              "    events.on('output_added.OutputArea', handleAddOutput);\n",
              "\n",
              "    /**\n",
              "     * Register the mime type and append_mime function with output_area\n",
              "     */\n",
              "    OutputArea.prototype.register_mime_type(EXEC_MIME_TYPE, append_mime, {\n",
              "      /* Is output safe? */\n",
              "      safe: true,\n",
              "      /* Index of renderer in `output_area.display_order` */\n",
              "      index: 0\n",
              "    });\n",
              "  }\n",
              "\n",
              "  // register the mime type if in Jupyter Notebook environment and previously unregistered\n",
              "  if (root.Jupyter !== undefined) {\n",
              "    const events = require('base/js/events');\n",
              "    const OutputArea = require('notebook/js/outputarea').OutputArea;\n",
              "\n",
              "    if (OutputArea.prototype.mime_types().indexOf(EXEC_MIME_TYPE) == -1) {\n",
              "      register_renderer(events, OutputArea);\n",
              "    }\n",
              "  }\n",
              "  if (typeof (root._bokeh_timeout) === \"undefined\" || force === true) {\n",
              "    root._bokeh_timeout = Date.now() + 5000;\n",
              "    root._bokeh_failed_load = false;\n",
              "  }\n",
              "\n",
              "  const NB_LOAD_WARNING = {'data': {'text/html':\n",
              "     \"<div style='background-color: #fdd'>\\n\"+\n",
              "     \"<p>\\n\"+\n",
              "     \"BokehJS does not appear to have successfully loaded. If loading BokehJS from CDN, this \\n\"+\n",
              "     \"may be due to a slow or bad network connection. Possible fixes:\\n\"+\n",
              "     \"</p>\\n\"+\n",
              "     \"<ul>\\n\"+\n",
              "     \"<li>re-rerun `output_notebook()` to attempt to load from CDN again, or</li>\\n\"+\n",
              "     \"<li>use INLINE resources instead, as so:</li>\\n\"+\n",
              "     \"</ul>\\n\"+\n",
              "     \"<code>\\n\"+\n",
              "     \"from bokeh.resources import INLINE\\n\"+\n",
              "     \"output_notebook(resources=INLINE)\\n\"+\n",
              "     \"</code>\\n\"+\n",
              "     \"</div>\"}};\n",
              "\n",
              "  function display_loaded(error = null) {\n",
              "    const el = document.getElementById(null);\n",
              "    if (el != null) {\n",
              "      const html = (() => {\n",
              "        if (typeof root.Bokeh === \"undefined\") {\n",
              "          if (error == null) {\n",
              "            return \"BokehJS is loading ...\";\n",
              "          } else {\n",
              "            return \"BokehJS failed to load.\";\n",
              "          }\n",
              "        } else {\n",
              "          const prefix = `BokehJS ${root.Bokeh.version}`;\n",
              "          if (error == null) {\n",
              "            return `${prefix} successfully loaded.`;\n",
              "          } else {\n",
              "            return `${prefix} <b>encountered errors</b> while loading and may not function as expected.`;\n",
              "          }\n",
              "        }\n",
              "      })();\n",
              "      el.innerHTML = html;\n",
              "\n",
              "      if (error != null) {\n",
              "        const wrapper = document.createElement(\"div\");\n",
              "        wrapper.style.overflow = \"auto\";\n",
              "        wrapper.style.height = \"5em\";\n",
              "        wrapper.style.resize = \"vertical\";\n",
              "        const content = document.createElement(\"div\");\n",
              "        content.style.fontFamily = \"monospace\";\n",
              "        content.style.whiteSpace = \"pre-wrap\";\n",
              "        content.style.backgroundColor = \"rgb(255, 221, 221)\";\n",
              "        content.textContent = error.stack ?? error.toString();\n",
              "        wrapper.append(content);\n",
              "        el.append(wrapper);\n",
              "      }\n",
              "    } else if (Date.now() < root._bokeh_timeout) {\n",
              "      setTimeout(() => display_loaded(error), 100);\n",
              "    }\n",
              "  }\n",
              "\n",
              "  function run_callbacks() {\n",
              "    try {\n",
              "      root._bokeh_onload_callbacks.forEach(function(callback) {\n",
              "        if (callback != null)\n",
              "          callback();\n",
              "      });\n",
              "    } finally {\n",
              "      delete root._bokeh_onload_callbacks\n",
              "    }\n",
              "    console.debug(\"Bokeh: all callbacks have finished\");\n",
              "  }\n",
              "\n",
              "  function load_libs(css_urls, js_urls, callback) {\n",
              "    if (css_urls == null) css_urls = [];\n",
              "    if (js_urls == null) js_urls = [];\n",
              "\n",
              "    root._bokeh_onload_callbacks.push(callback);\n",
              "    if (root._bokeh_is_loading > 0) {\n",
              "      console.debug(\"Bokeh: BokehJS is being loaded, scheduling callback at\", now());\n",
              "      return null;\n",
              "    }\n",
              "    if (js_urls == null || js_urls.length === 0) {\n",
              "      run_callbacks();\n",
              "      return null;\n",
              "    }\n",
              "    console.debug(\"Bokeh: BokehJS not loaded, scheduling load and callback at\", now());\n",
              "    root._bokeh_is_loading = css_urls.length + js_urls.length;\n",
              "\n",
              "    function on_load() {\n",
              "      root._bokeh_is_loading--;\n",
              "      if (root._bokeh_is_loading === 0) {\n",
              "        console.debug(\"Bokeh: all BokehJS libraries/stylesheets loaded\");\n",
              "        run_callbacks()\n",
              "      }\n",
              "    }\n",
              "\n",
              "    function on_error(url) {\n",
              "      console.error(\"failed to load \" + url);\n",
              "    }\n",
              "\n",
              "    for (let i = 0; i < css_urls.length; i++) {\n",
              "      const url = css_urls[i];\n",
              "      const element = document.createElement(\"link\");\n",
              "      element.onload = on_load;\n",
              "      element.onerror = on_error.bind(null, url);\n",
              "      element.rel = \"stylesheet\";\n",
              "      element.type = \"text/css\";\n",
              "      element.href = url;\n",
              "      console.debug(\"Bokeh: injecting link tag for BokehJS stylesheet: \", url);\n",
              "      document.body.appendChild(element);\n",
              "    }\n",
              "\n",
              "    for (let i = 0; i < js_urls.length; i++) {\n",
              "      const url = js_urls[i];\n",
              "      const element = document.createElement('script');\n",
              "      element.onload = on_load;\n",
              "      element.onerror = on_error.bind(null, url);\n",
              "      element.async = false;\n",
              "      element.src = url;\n",
              "      console.debug(\"Bokeh: injecting script tag for BokehJS library: \", url);\n",
              "      document.head.appendChild(element);\n",
              "    }\n",
              "  };\n",
              "\n",
              "  function inject_raw_css(css) {\n",
              "    const element = document.createElement(\"style\");\n",
              "    element.appendChild(document.createTextNode(css));\n",
              "    document.body.appendChild(element);\n",
              "  }\n",
              "\n",
              "  const js_urls = [\"https://cdn.bokeh.org/bokeh/release/bokeh-3.4.3.min.js\", \"https://cdn.bokeh.org/bokeh/release/bokeh-gl-3.4.3.min.js\", \"https://cdn.bokeh.org/bokeh/release/bokeh-widgets-3.4.3.min.js\", \"https://cdn.bokeh.org/bokeh/release/bokeh-tables-3.4.3.min.js\", \"https://cdn.bokeh.org/bokeh/release/bokeh-mathjax-3.4.3.min.js\"];\n",
              "  const css_urls = [];\n",
              "\n",
              "  const inline_js = [    function(Bokeh) {\n",
              "      Bokeh.set_log_level(\"info\");\n",
              "    },\n",
              "function(Bokeh) {\n",
              "    }\n",
              "  ];\n",
              "\n",
              "  function run_inline_js() {\n",
              "    if (root.Bokeh !== undefined || force === true) {\n",
              "      try {\n",
              "            for (let i = 0; i < inline_js.length; i++) {\n",
              "      inline_js[i].call(root, root.Bokeh);\n",
              "    }\n",
              "\n",
              "      } catch (error) {throw error;\n",
              "      }} else if (Date.now() < root._bokeh_timeout) {\n",
              "      setTimeout(run_inline_js, 100);\n",
              "    } else if (!root._bokeh_failed_load) {\n",
              "      console.log(\"Bokeh: BokehJS failed to load within specified timeout.\");\n",
              "      root._bokeh_failed_load = true;\n",
              "    } else if (force !== true) {\n",
              "      const cell = $(document.getElementById(null)).parents('.cell').data().cell;\n",
              "      cell.output_area.append_execute_result(NB_LOAD_WARNING)\n",
              "    }\n",
              "  }\n",
              "\n",
              "  if (root._bokeh_is_loading === 0) {\n",
              "    console.debug(\"Bokeh: BokehJS loaded, going straight to plotting\");\n",
              "    run_inline_js();\n",
              "  } else {\n",
              "    load_libs(css_urls, js_urls, function() {\n",
              "      console.debug(\"Bokeh: BokehJS plotting callback run at\", now());\n",
              "      run_inline_js();\n",
              "    });\n",
              "  }\n",
              "}(window));"
            ],
            "application/vnd.bokehjs_load.v0+json": "'use strict';\n(function(root) {\n  function now() {\n    return new Date();\n  }\n\n  const force = true;\n\n  if (typeof root._bokeh_onload_callbacks === \"undefined\" || force === true) {\n    root._bokeh_onload_callbacks = [];\n    root._bokeh_is_loading = undefined;\n  }\n\n\n  if (typeof (root._bokeh_timeout) === \"undefined\" || force === true) {\n    root._bokeh_timeout = Date.now() + 5000;\n    root._bokeh_failed_load = false;\n  }\n\n  const NB_LOAD_WARNING = {'data': {'text/html':\n     \"<div style='background-color: #fdd'>\\n\"+\n     \"<p>\\n\"+\n     \"BokehJS does not appear to have successfully loaded. If loading BokehJS from CDN, this \\n\"+\n     \"may be due to a slow or bad network connection. Possible fixes:\\n\"+\n     \"</p>\\n\"+\n     \"<ul>\\n\"+\n     \"<li>re-rerun `output_notebook()` to attempt to load from CDN again, or</li>\\n\"+\n     \"<li>use INLINE resources instead, as so:</li>\\n\"+\n     \"</ul>\\n\"+\n     \"<code>\\n\"+\n     \"from bokeh.resources import INLINE\\n\"+\n     \"output_notebook(resources=INLINE)\\n\"+\n     \"</code>\\n\"+\n     \"</div>\"}};\n\n  function display_loaded(error = null) {\n    const el = document.getElementById(null);\n    if (el != null) {\n      const html = (() => {\n        if (typeof root.Bokeh === \"undefined\") {\n          if (error == null) {\n            return \"BokehJS is loading ...\";\n          } else {\n            return \"BokehJS failed to load.\";\n          }\n        } else {\n          const prefix = `BokehJS ${root.Bokeh.version}`;\n          if (error == null) {\n            return `${prefix} successfully loaded.`;\n          } else {\n            return `${prefix} <b>encountered errors</b> while loading and may not function as expected.`;\n          }\n        }\n      })();\n      el.innerHTML = html;\n\n      if (error != null) {\n        const wrapper = document.createElement(\"div\");\n        wrapper.style.overflow = \"auto\";\n        wrapper.style.height = \"5em\";\n        wrapper.style.resize = \"vertical\";\n        const content = document.createElement(\"div\");\n        content.style.fontFamily = \"monospace\";\n        content.style.whiteSpace = \"pre-wrap\";\n        content.style.backgroundColor = \"rgb(255, 221, 221)\";\n        content.textContent = error.stack ?? error.toString();\n        wrapper.append(content);\n        el.append(wrapper);\n      }\n    } else if (Date.now() < root._bokeh_timeout) {\n      setTimeout(() => display_loaded(error), 100);\n    }\n  }\n\n  function run_callbacks() {\n    try {\n      root._bokeh_onload_callbacks.forEach(function(callback) {\n        if (callback != null)\n          callback();\n      });\n    } finally {\n      delete root._bokeh_onload_callbacks\n    }\n    console.debug(\"Bokeh: all callbacks have finished\");\n  }\n\n  function load_libs(css_urls, js_urls, callback) {\n    if (css_urls == null) css_urls = [];\n    if (js_urls == null) js_urls = [];\n\n    root._bokeh_onload_callbacks.push(callback);\n    if (root._bokeh_is_loading > 0) {\n      console.debug(\"Bokeh: BokehJS is being loaded, scheduling callback at\", now());\n      return null;\n    }\n    if (js_urls == null || js_urls.length === 0) {\n      run_callbacks();\n      return null;\n    }\n    console.debug(\"Bokeh: BokehJS not loaded, scheduling load and callback at\", now());\n    root._bokeh_is_loading = css_urls.length + js_urls.length;\n\n    function on_load() {\n      root._bokeh_is_loading--;\n      if (root._bokeh_is_loading === 0) {\n        console.debug(\"Bokeh: all BokehJS libraries/stylesheets loaded\");\n        run_callbacks()\n      }\n    }\n\n    function on_error(url) {\n      console.error(\"failed to load \" + url);\n    }\n\n    for (let i = 0; i < css_urls.length; i++) {\n      const url = css_urls[i];\n      const element = document.createElement(\"link\");\n      element.onload = on_load;\n      element.onerror = on_error.bind(null, url);\n      element.rel = \"stylesheet\";\n      element.type = \"text/css\";\n      element.href = url;\n      console.debug(\"Bokeh: injecting link tag for BokehJS stylesheet: \", url);\n      document.body.appendChild(element);\n    }\n\n    for (let i = 0; i < js_urls.length; i++) {\n      const url = js_urls[i];\n      const element = document.createElement('script');\n      element.onload = on_load;\n      element.onerror = on_error.bind(null, url);\n      element.async = false;\n      element.src = url;\n      console.debug(\"Bokeh: injecting script tag for BokehJS library: \", url);\n      document.head.appendChild(element);\n    }\n  };\n\n  function inject_raw_css(css) {\n    const element = document.createElement(\"style\");\n    element.appendChild(document.createTextNode(css));\n    document.body.appendChild(element);\n  }\n\n  const js_urls = [\"https://cdn.bokeh.org/bokeh/release/bokeh-3.4.3.min.js\", \"https://cdn.bokeh.org/bokeh/release/bokeh-gl-3.4.3.min.js\", \"https://cdn.bokeh.org/bokeh/release/bokeh-widgets-3.4.3.min.js\", \"https://cdn.bokeh.org/bokeh/release/bokeh-tables-3.4.3.min.js\", \"https://cdn.bokeh.org/bokeh/release/bokeh-mathjax-3.4.3.min.js\"];\n  const css_urls = [];\n\n  const inline_js = [    function(Bokeh) {\n      Bokeh.set_log_level(\"info\");\n    },\nfunction(Bokeh) {\n    }\n  ];\n\n  function run_inline_js() {\n    if (root.Bokeh !== undefined || force === true) {\n      try {\n            for (let i = 0; i < inline_js.length; i++) {\n      inline_js[i].call(root, root.Bokeh);\n    }\n\n      } catch (error) {throw error;\n      }} else if (Date.now() < root._bokeh_timeout) {\n      setTimeout(run_inline_js, 100);\n    } else if (!root._bokeh_failed_load) {\n      console.log(\"Bokeh: BokehJS failed to load within specified timeout.\");\n      root._bokeh_failed_load = true;\n    } else if (force !== true) {\n      const cell = $(document.getElementById(null)).parents('.cell').data().cell;\n      cell.output_area.append_execute_result(NB_LOAD_WARNING)\n    }\n  }\n\n  if (root._bokeh_is_loading === 0) {\n    console.debug(\"Bokeh: BokehJS loaded, going straight to plotting\");\n    run_inline_js();\n  } else {\n    load_libs(css_urls, js_urls, function() {\n      console.debug(\"Bokeh: BokehJS plotting callback run at\", now());\n      run_inline_js();\n    });\n  }\n}(window));"
          },
          "metadata": {}
        },
        {
          "output_type": "display_data",
          "data": {
            "text/html": [
              "\n",
              "  <div id=\"bd96759e-21a9-4cef-b1fb-30d881649cb1\" data-root-id=\"p1074\" style=\"display: contents;\"></div>\n"
            ]
          },
          "metadata": {}
        },
        {
          "output_type": "display_data",
          "data": {
            "application/javascript": [
              "(function(root) {\n",
              "  function embed_document(root) {\n",
              "  const docs_json = {\"7cd84ddc-2b4c-44cd-8265-0cafcd37fe86\":{\"version\":\"3.4.3\",\"title\":\"Bokeh Application\",\"roots\":[{\"type\":\"object\",\"name\":\"Figure\",\"id\":\"p1074\",\"attributes\":{\"x_range\":{\"type\":\"object\",\"name\":\"FactorRange\",\"id\":\"p1084\",\"attributes\":{\"factors\":[\"A\",\"B\",\"C\",\"D\",\"E\"]}},\"y_range\":{\"type\":\"object\",\"name\":\"DataRange1d\",\"id\":\"p1076\"},\"x_scale\":{\"type\":\"object\",\"name\":\"CategoricalScale\",\"id\":\"p1085\"},\"y_scale\":{\"type\":\"object\",\"name\":\"LinearScale\",\"id\":\"p1086\"},\"title\":{\"type\":\"object\",\"name\":\"Title\",\"id\":\"p1077\",\"attributes\":{\"text\":\"Random Categorical Bar Chart\"}},\"renderers\":[{\"type\":\"object\",\"name\":\"GlyphRenderer\",\"id\":\"p1104\",\"attributes\":{\"data_source\":{\"type\":\"object\",\"name\":\"ColumnDataSource\",\"id\":\"p1071\",\"attributes\":{\"selected\":{\"type\":\"object\",\"name\":\"Selection\",\"id\":\"p1072\",\"attributes\":{\"indices\":[],\"line_indices\":[]}},\"selection_policy\":{\"type\":\"object\",\"name\":\"UnionRenderers\",\"id\":\"p1073\"},\"data\":{\"type\":\"map\",\"entries\":[[\"categories\",[\"A\",\"B\",\"C\",\"D\",\"E\"]],[\"values\",{\"type\":\"ndarray\",\"array\":{\"type\":\"bytes\",\"data\":\"DQAAAAkAAAARAAAABgAAAAMAAAA=\"},\"shape\":[5],\"dtype\":\"int32\",\"order\":\"little\"}]]}}},\"view\":{\"type\":\"object\",\"name\":\"CDSView\",\"id\":\"p1105\",\"attributes\":{\"filter\":{\"type\":\"object\",\"name\":\"AllIndices\",\"id\":\"p1106\"}}},\"glyph\":{\"type\":\"object\",\"name\":\"VBar\",\"id\":\"p1101\",\"attributes\":{\"x\":{\"type\":\"field\",\"field\":\"categories\"},\"width\":{\"type\":\"value\",\"value\":0.9},\"top\":{\"type\":\"field\",\"field\":\"values\"},\"line_color\":{\"type\":\"value\",\"value\":\"white\"},\"fill_color\":{\"type\":\"field\",\"field\":\"categories\",\"transform\":{\"type\":\"object\",\"name\":\"CategoricalColorMapper\",\"id\":\"p1097\",\"attributes\":{\"palette\":[\"red\",\"green\",\"blue\",\"orange\",\"purple\"],\"factors\":[\"A\",\"B\",\"C\",\"D\",\"E\"]}}}}},\"nonselection_glyph\":{\"type\":\"object\",\"name\":\"VBar\",\"id\":\"p1102\",\"attributes\":{\"x\":{\"type\":\"field\",\"field\":\"categories\"},\"width\":{\"type\":\"value\",\"value\":0.9},\"top\":{\"type\":\"field\",\"field\":\"values\"},\"line_color\":{\"type\":\"value\",\"value\":\"white\"},\"line_alpha\":{\"type\":\"value\",\"value\":0.1},\"fill_color\":{\"type\":\"field\",\"field\":\"categories\",\"transform\":{\"id\":\"p1097\"}},\"fill_alpha\":{\"type\":\"value\",\"value\":0.1},\"hatch_alpha\":{\"type\":\"value\",\"value\":0.1}}},\"muted_glyph\":{\"type\":\"object\",\"name\":\"VBar\",\"id\":\"p1103\",\"attributes\":{\"x\":{\"type\":\"field\",\"field\":\"categories\"},\"width\":{\"type\":\"value\",\"value\":0.9},\"top\":{\"type\":\"field\",\"field\":\"values\"},\"line_color\":{\"type\":\"value\",\"value\":\"white\"},\"line_alpha\":{\"type\":\"value\",\"value\":0.2},\"fill_color\":{\"type\":\"field\",\"field\":\"categories\",\"transform\":{\"id\":\"p1097\"}},\"fill_alpha\":{\"type\":\"value\",\"value\":0.2},\"hatch_alpha\":{\"type\":\"value\",\"value\":0.2}}}}}],\"toolbar\":{\"type\":\"object\",\"name\":\"Toolbar\",\"id\":\"p1083\",\"attributes\":{\"tools\":[{\"type\":\"object\",\"name\":\"HoverTool\",\"id\":\"p1109\",\"attributes\":{\"renderers\":\"auto\",\"tooltips\":[[\"Category\",\"@categories\"],[\"Value\",\"@values\"]]}}]}},\"toolbar_location\":null,\"left\":[{\"type\":\"object\",\"name\":\"LinearAxis\",\"id\":\"p1092\",\"attributes\":{\"ticker\":{\"type\":\"object\",\"name\":\"BasicTicker\",\"id\":\"p1093\",\"attributes\":{\"mantissas\":[1,2,5]}},\"formatter\":{\"type\":\"object\",\"name\":\"BasicTickFormatter\",\"id\":\"p1094\"},\"axis_label\":\"Value\",\"major_label_policy\":{\"type\":\"object\",\"name\":\"AllLabels\",\"id\":\"p1095\"}}}],\"below\":[{\"type\":\"object\",\"name\":\"CategoricalAxis\",\"id\":\"p1087\",\"attributes\":{\"ticker\":{\"type\":\"object\",\"name\":\"CategoricalTicker\",\"id\":\"p1088\"},\"formatter\":{\"type\":\"object\",\"name\":\"CategoricalTickFormatter\",\"id\":\"p1089\"},\"axis_label\":\"Category\",\"major_label_policy\":{\"type\":\"object\",\"name\":\"AllLabels\",\"id\":\"p1090\"}}}],\"center\":[{\"type\":\"object\",\"name\":\"Grid\",\"id\":\"p1091\",\"attributes\":{\"axis\":{\"id\":\"p1087\"}}},{\"type\":\"object\",\"name\":\"Grid\",\"id\":\"p1096\",\"attributes\":{\"dimension\":1,\"axis\":{\"id\":\"p1092\"}}},{\"type\":\"object\",\"name\":\"Legend\",\"id\":\"p1107\",\"attributes\":{\"items\":[{\"type\":\"object\",\"name\":\"LegendItem\",\"id\":\"p1108\",\"attributes\":{\"label\":{\"type\":\"field\",\"field\":\"categories\"},\"renderers\":[{\"id\":\"p1104\"}]}}]}}]}}]}};\n",
              "  const render_items = [{\"docid\":\"7cd84ddc-2b4c-44cd-8265-0cafcd37fe86\",\"roots\":{\"p1074\":\"bd96759e-21a9-4cef-b1fb-30d881649cb1\"},\"root_ids\":[\"p1074\"]}];\n",
              "  void root.Bokeh.embed.embed_items_notebook(docs_json, render_items);\n",
              "  }\n",
              "  if (root.Bokeh !== undefined) {\n",
              "    embed_document(root);\n",
              "  } else {\n",
              "    let attempts = 0;\n",
              "    const timer = setInterval(function(root) {\n",
              "      if (root.Bokeh !== undefined) {\n",
              "        clearInterval(timer);\n",
              "        embed_document(root);\n",
              "      } else {\n",
              "        attempts++;\n",
              "        if (attempts > 100) {\n",
              "          clearInterval(timer);\n",
              "          console.log(\"Bokeh: ERROR: Unable to run BokehJS code because BokehJS library is missing\");\n",
              "        }\n",
              "      }\n",
              "    }, 10, root)\n",
              "  }\n",
              "})(window);"
            ],
            "application/vnd.bokehjs_exec.v0+json": ""
          },
          "metadata": {
            "application/vnd.bokehjs_exec.v0+json": {
              "id": "p1074"
            }
          }
        }
      ]
    },
    {
      "cell_type": "markdown",
      "source": [
        "Q20. Using Plotly, create a basic line plot of a randomly generated dataset, label the axes, and set the title as\n",
        "'Simple Line Plot'8"
      ],
      "metadata": {
        "id": "Rwd2l7s7CrNd"
      }
    },
    {
      "cell_type": "code",
      "source": [
        "!pip install plotly\n",
        "\n",
        "import plotly.graph_objects as go\n",
        "import numpy as np\n",
        "\n",
        "# Generate random data\n",
        "x = np.arange(0, 10, 0.1)\n",
        "y = np.random.randn(len(x))\n",
        "\n",
        "# Create a line plot\n",
        "fig = go.Figure(data=go.Scatter(x=x, y=y, mode='lines'))\n",
        "\n",
        "# Set the title and axis labels\n",
        "fig.update_layout(title='Simple Line Plot', xaxis_title='X-axis', yaxis_title='Y-axis')\n",
        "\n",
        "# Show the plot\n",
        "fig.show()"
      ],
      "metadata": {
        "colab": {
          "base_uri": "https://localhost:8080/",
          "height": 594
        },
        "id": "a3qB0-HcCtcz",
        "outputId": "0a750393-a23d-4746-d6b7-6140f8abbb55"
      },
      "execution_count": null,
      "outputs": [
        {
          "output_type": "stream",
          "name": "stdout",
          "text": [
            "Requirement already satisfied: plotly in /usr/local/lib/python3.10/dist-packages (5.24.1)\n",
            "Requirement already satisfied: tenacity>=6.2.0 in /usr/local/lib/python3.10/dist-packages (from plotly) (9.0.0)\n",
            "Requirement already satisfied: packaging in /usr/local/lib/python3.10/dist-packages (from plotly) (24.1)\n"
          ]
        },
        {
          "output_type": "display_data",
          "data": {
            "text/html": [
              "<html>\n",
              "<head><meta charset=\"utf-8\" /></head>\n",
              "<body>\n",
              "    <div>            <script src=\"https://cdnjs.cloudflare.com/ajax/libs/mathjax/2.7.5/MathJax.js?config=TeX-AMS-MML_SVG\"></script><script type=\"text/javascript\">if (window.MathJax && window.MathJax.Hub && window.MathJax.Hub.Config) {window.MathJax.Hub.Config({SVG: {font: \"STIX-Web\"}});}</script>                <script type=\"text/javascript\">window.PlotlyConfig = {MathJaxConfig: 'local'};</script>\n",
              "        <script charset=\"utf-8\" src=\"https://cdn.plot.ly/plotly-2.35.2.min.js\"></script>                <div id=\"0333059e-a4a5-43ac-860e-41164b2f6ba5\" class=\"plotly-graph-div\" style=\"height:525px; width:100%;\"></div>            <script type=\"text/javascript\">                                    window.PLOTLYENV=window.PLOTLYENV || {};                                    if (document.getElementById(\"0333059e-a4a5-43ac-860e-41164b2f6ba5\")) {                    Plotly.newPlot(                        \"0333059e-a4a5-43ac-860e-41164b2f6ba5\",                        [{\"mode\":\"lines\",\"x\":[0.0,0.1,0.2,0.30000000000000004,0.4,0.5,0.6000000000000001,0.7000000000000001,0.8,0.9,1.0,1.1,1.2000000000000002,1.3,1.4000000000000001,1.5,1.6,1.7000000000000002,1.8,1.9000000000000001,2.0,2.1,2.2,2.3000000000000003,2.4000000000000004,2.5,2.6,2.7,2.8000000000000003,2.9000000000000004,3.0,3.1,3.2,3.3000000000000003,3.4000000000000004,3.5,3.6,3.7,3.8000000000000003,3.9000000000000004,4.0,4.1000000000000005,4.2,4.3,4.4,4.5,4.6000000000000005,4.7,4.800000000000001,4.9,5.0,5.1000000000000005,5.2,5.300000000000001,5.4,5.5,5.6000000000000005,5.7,5.800000000000001,5.9,6.0,6.1000000000000005,6.2,6.300000000000001,6.4,6.5,6.6000000000000005,6.7,6.800000000000001,6.9,7.0,7.1000000000000005,7.2,7.300000000000001,7.4,7.5,7.6000000000000005,7.7,7.800000000000001,7.9,8.0,8.1,8.200000000000001,8.3,8.4,8.5,8.6,8.700000000000001,8.8,8.9,9.0,9.1,9.200000000000001,9.3,9.4,9.5,9.600000000000001,9.700000000000001,9.8,9.9],\"y\":[-0.3493972590003756,-0.6555405493272676,-0.6376724596895714,0.6789615652557857,-2.984144021014553,-1.0086104185324658,0.7511670937827497,1.0385379842090232,0.5353131594673736,-0.8764114889445577,0.22662627100698268,-1.1679789376738008,0.7811543511829656,0.8203764138474529,-1.3559367575513013,-0.12170070126808909,0.7026204428428835,-0.6943266732638642,0.8651713453540575,0.3793155690929638,-0.6304876472007739,-0.11124794262789547,0.017500155053408052,-0.9768398662252786,-1.501599174135821,-0.04545633188858849,0.2006303716368631,0.38031581737352066,-0.8151275678629669,0.4198322633340018,-0.06222810036408802,2.823962428078678,-2.1405711652636814,0.5322617284633188,-0.9349415870692105,1.2409606143984604,0.7454819541582344,-1.234155351802018,-0.8835465731934531,0.7624780026887178,-1.0861280568751106,-1.2769982985485893,-0.588190372303873,0.8095132711522157,-1.4292573281295293,0.9967451834368145,0.28292735773764094,-0.17017649749046282,0.4049719461965876,-1.0031037159684129,0.1298372674398664,-1.2741942482726645,0.16240294431432606,-0.010127142996006326,-1.1151435201331075,0.3265838090667736,-0.481694847973616,-0.6603347281580803,-1.2711964763305184,1.8176837142880005,1.1070768344191912,-0.3617433238872204,-1.2753099391675502,-0.8719714578088921,-0.6372016582530393,-0.4984827336639203,1.1709001568870707,-0.28607216565142435,-0.021307906404325935,0.9664758184837747,-1.5758547174069735,2.35089943949858,1.239944943262008,0.1717851912661448,-0.08729561920830303,-0.43868744020439865,0.05932852170792622,1.280953968509463,-0.6115419185159479,-0.22618649347100375,-0.8885190976179406,-0.49709130235919274,-0.5359918020768776,0.9595579977957,0.03749741726469282,-0.2905512520796899,-1.2204571010067757,0.037533962083240856,-0.6041805117463961,1.729737308326307,-1.7107682406797489,-0.1627100912864256,1.3916952643002312,-0.08403978552867425,1.8267015840988887,0.35874605743800153,0.13019203398475968,-0.5819270600571331,1.765558510868856,-0.5645319351105081],\"type\":\"scatter\"}],                        {\"template\":{\"data\":{\"histogram2dcontour\":[{\"type\":\"histogram2dcontour\",\"colorbar\":{\"outlinewidth\":0,\"ticks\":\"\"},\"colorscale\":[[0.0,\"#0d0887\"],[0.1111111111111111,\"#46039f\"],[0.2222222222222222,\"#7201a8\"],[0.3333333333333333,\"#9c179e\"],[0.4444444444444444,\"#bd3786\"],[0.5555555555555556,\"#d8576b\"],[0.6666666666666666,\"#ed7953\"],[0.7777777777777778,\"#fb9f3a\"],[0.8888888888888888,\"#fdca26\"],[1.0,\"#f0f921\"]]}],\"choropleth\":[{\"type\":\"choropleth\",\"colorbar\":{\"outlinewidth\":0,\"ticks\":\"\"}}],\"histogram2d\":[{\"type\":\"histogram2d\",\"colorbar\":{\"outlinewidth\":0,\"ticks\":\"\"},\"colorscale\":[[0.0,\"#0d0887\"],[0.1111111111111111,\"#46039f\"],[0.2222222222222222,\"#7201a8\"],[0.3333333333333333,\"#9c179e\"],[0.4444444444444444,\"#bd3786\"],[0.5555555555555556,\"#d8576b\"],[0.6666666666666666,\"#ed7953\"],[0.7777777777777778,\"#fb9f3a\"],[0.8888888888888888,\"#fdca26\"],[1.0,\"#f0f921\"]]}],\"heatmap\":[{\"type\":\"heatmap\",\"colorbar\":{\"outlinewidth\":0,\"ticks\":\"\"},\"colorscale\":[[0.0,\"#0d0887\"],[0.1111111111111111,\"#46039f\"],[0.2222222222222222,\"#7201a8\"],[0.3333333333333333,\"#9c179e\"],[0.4444444444444444,\"#bd3786\"],[0.5555555555555556,\"#d8576b\"],[0.6666666666666666,\"#ed7953\"],[0.7777777777777778,\"#fb9f3a\"],[0.8888888888888888,\"#fdca26\"],[1.0,\"#f0f921\"]]}],\"heatmapgl\":[{\"type\":\"heatmapgl\",\"colorbar\":{\"outlinewidth\":0,\"ticks\":\"\"},\"colorscale\":[[0.0,\"#0d0887\"],[0.1111111111111111,\"#46039f\"],[0.2222222222222222,\"#7201a8\"],[0.3333333333333333,\"#9c179e\"],[0.4444444444444444,\"#bd3786\"],[0.5555555555555556,\"#d8576b\"],[0.6666666666666666,\"#ed7953\"],[0.7777777777777778,\"#fb9f3a\"],[0.8888888888888888,\"#fdca26\"],[1.0,\"#f0f921\"]]}],\"contourcarpet\":[{\"type\":\"contourcarpet\",\"colorbar\":{\"outlinewidth\":0,\"ticks\":\"\"}}],\"contour\":[{\"type\":\"contour\",\"colorbar\":{\"outlinewidth\":0,\"ticks\":\"\"},\"colorscale\":[[0.0,\"#0d0887\"],[0.1111111111111111,\"#46039f\"],[0.2222222222222222,\"#7201a8\"],[0.3333333333333333,\"#9c179e\"],[0.4444444444444444,\"#bd3786\"],[0.5555555555555556,\"#d8576b\"],[0.6666666666666666,\"#ed7953\"],[0.7777777777777778,\"#fb9f3a\"],[0.8888888888888888,\"#fdca26\"],[1.0,\"#f0f921\"]]}],\"surface\":[{\"type\":\"surface\",\"colorbar\":{\"outlinewidth\":0,\"ticks\":\"\"},\"colorscale\":[[0.0,\"#0d0887\"],[0.1111111111111111,\"#46039f\"],[0.2222222222222222,\"#7201a8\"],[0.3333333333333333,\"#9c179e\"],[0.4444444444444444,\"#bd3786\"],[0.5555555555555556,\"#d8576b\"],[0.6666666666666666,\"#ed7953\"],[0.7777777777777778,\"#fb9f3a\"],[0.8888888888888888,\"#fdca26\"],[1.0,\"#f0f921\"]]}],\"mesh3d\":[{\"type\":\"mesh3d\",\"colorbar\":{\"outlinewidth\":0,\"ticks\":\"\"}}],\"scatter\":[{\"fillpattern\":{\"fillmode\":\"overlay\",\"size\":10,\"solidity\":0.2},\"type\":\"scatter\"}],\"parcoords\":[{\"type\":\"parcoords\",\"line\":{\"colorbar\":{\"outlinewidth\":0,\"ticks\":\"\"}}}],\"scatterpolargl\":[{\"type\":\"scatterpolargl\",\"marker\":{\"colorbar\":{\"outlinewidth\":0,\"ticks\":\"\"}}}],\"bar\":[{\"error_x\":{\"color\":\"#2a3f5f\"},\"error_y\":{\"color\":\"#2a3f5f\"},\"marker\":{\"line\":{\"color\":\"#E5ECF6\",\"width\":0.5},\"pattern\":{\"fillmode\":\"overlay\",\"size\":10,\"solidity\":0.2}},\"type\":\"bar\"}],\"scattergeo\":[{\"type\":\"scattergeo\",\"marker\":{\"colorbar\":{\"outlinewidth\":0,\"ticks\":\"\"}}}],\"scatterpolar\":[{\"type\":\"scatterpolar\",\"marker\":{\"colorbar\":{\"outlinewidth\":0,\"ticks\":\"\"}}}],\"histogram\":[{\"marker\":{\"pattern\":{\"fillmode\":\"overlay\",\"size\":10,\"solidity\":0.2}},\"type\":\"histogram\"}],\"scattergl\":[{\"type\":\"scattergl\",\"marker\":{\"colorbar\":{\"outlinewidth\":0,\"ticks\":\"\"}}}],\"scatter3d\":[{\"type\":\"scatter3d\",\"line\":{\"colorbar\":{\"outlinewidth\":0,\"ticks\":\"\"}},\"marker\":{\"colorbar\":{\"outlinewidth\":0,\"ticks\":\"\"}}}],\"scattermapbox\":[{\"type\":\"scattermapbox\",\"marker\":{\"colorbar\":{\"outlinewidth\":0,\"ticks\":\"\"}}}],\"scatterternary\":[{\"type\":\"scatterternary\",\"marker\":{\"colorbar\":{\"outlinewidth\":0,\"ticks\":\"\"}}}],\"scattercarpet\":[{\"type\":\"scattercarpet\",\"marker\":{\"colorbar\":{\"outlinewidth\":0,\"ticks\":\"\"}}}],\"carpet\":[{\"aaxis\":{\"endlinecolor\":\"#2a3f5f\",\"gridcolor\":\"white\",\"linecolor\":\"white\",\"minorgridcolor\":\"white\",\"startlinecolor\":\"#2a3f5f\"},\"baxis\":{\"endlinecolor\":\"#2a3f5f\",\"gridcolor\":\"white\",\"linecolor\":\"white\",\"minorgridcolor\":\"white\",\"startlinecolor\":\"#2a3f5f\"},\"type\":\"carpet\"}],\"table\":[{\"cells\":{\"fill\":{\"color\":\"#EBF0F8\"},\"line\":{\"color\":\"white\"}},\"header\":{\"fill\":{\"color\":\"#C8D4E3\"},\"line\":{\"color\":\"white\"}},\"type\":\"table\"}],\"barpolar\":[{\"marker\":{\"line\":{\"color\":\"#E5ECF6\",\"width\":0.5},\"pattern\":{\"fillmode\":\"overlay\",\"size\":10,\"solidity\":0.2}},\"type\":\"barpolar\"}],\"pie\":[{\"automargin\":true,\"type\":\"pie\"}]},\"layout\":{\"autotypenumbers\":\"strict\",\"colorway\":[\"#636efa\",\"#EF553B\",\"#00cc96\",\"#ab63fa\",\"#FFA15A\",\"#19d3f3\",\"#FF6692\",\"#B6E880\",\"#FF97FF\",\"#FECB52\"],\"font\":{\"color\":\"#2a3f5f\"},\"hovermode\":\"closest\",\"hoverlabel\":{\"align\":\"left\"},\"paper_bgcolor\":\"white\",\"plot_bgcolor\":\"#E5ECF6\",\"polar\":{\"bgcolor\":\"#E5ECF6\",\"angularaxis\":{\"gridcolor\":\"white\",\"linecolor\":\"white\",\"ticks\":\"\"},\"radialaxis\":{\"gridcolor\":\"white\",\"linecolor\":\"white\",\"ticks\":\"\"}},\"ternary\":{\"bgcolor\":\"#E5ECF6\",\"aaxis\":{\"gridcolor\":\"white\",\"linecolor\":\"white\",\"ticks\":\"\"},\"baxis\":{\"gridcolor\":\"white\",\"linecolor\":\"white\",\"ticks\":\"\"},\"caxis\":{\"gridcolor\":\"white\",\"linecolor\":\"white\",\"ticks\":\"\"}},\"coloraxis\":{\"colorbar\":{\"outlinewidth\":0,\"ticks\":\"\"}},\"colorscale\":{\"sequential\":[[0.0,\"#0d0887\"],[0.1111111111111111,\"#46039f\"],[0.2222222222222222,\"#7201a8\"],[0.3333333333333333,\"#9c179e\"],[0.4444444444444444,\"#bd3786\"],[0.5555555555555556,\"#d8576b\"],[0.6666666666666666,\"#ed7953\"],[0.7777777777777778,\"#fb9f3a\"],[0.8888888888888888,\"#fdca26\"],[1.0,\"#f0f921\"]],\"sequentialminus\":[[0.0,\"#0d0887\"],[0.1111111111111111,\"#46039f\"],[0.2222222222222222,\"#7201a8\"],[0.3333333333333333,\"#9c179e\"],[0.4444444444444444,\"#bd3786\"],[0.5555555555555556,\"#d8576b\"],[0.6666666666666666,\"#ed7953\"],[0.7777777777777778,\"#fb9f3a\"],[0.8888888888888888,\"#fdca26\"],[1.0,\"#f0f921\"]],\"diverging\":[[0,\"#8e0152\"],[0.1,\"#c51b7d\"],[0.2,\"#de77ae\"],[0.3,\"#f1b6da\"],[0.4,\"#fde0ef\"],[0.5,\"#f7f7f7\"],[0.6,\"#e6f5d0\"],[0.7,\"#b8e186\"],[0.8,\"#7fbc41\"],[0.9,\"#4d9221\"],[1,\"#276419\"]]},\"xaxis\":{\"gridcolor\":\"white\",\"linecolor\":\"white\",\"ticks\":\"\",\"title\":{\"standoff\":15},\"zerolinecolor\":\"white\",\"automargin\":true,\"zerolinewidth\":2},\"yaxis\":{\"gridcolor\":\"white\",\"linecolor\":\"white\",\"ticks\":\"\",\"title\":{\"standoff\":15},\"zerolinecolor\":\"white\",\"automargin\":true,\"zerolinewidth\":2},\"scene\":{\"xaxis\":{\"backgroundcolor\":\"#E5ECF6\",\"gridcolor\":\"white\",\"linecolor\":\"white\",\"showbackground\":true,\"ticks\":\"\",\"zerolinecolor\":\"white\",\"gridwidth\":2},\"yaxis\":{\"backgroundcolor\":\"#E5ECF6\",\"gridcolor\":\"white\",\"linecolor\":\"white\",\"showbackground\":true,\"ticks\":\"\",\"zerolinecolor\":\"white\",\"gridwidth\":2},\"zaxis\":{\"backgroundcolor\":\"#E5ECF6\",\"gridcolor\":\"white\",\"linecolor\":\"white\",\"showbackground\":true,\"ticks\":\"\",\"zerolinecolor\":\"white\",\"gridwidth\":2}},\"shapedefaults\":{\"line\":{\"color\":\"#2a3f5f\"}},\"annotationdefaults\":{\"arrowcolor\":\"#2a3f5f\",\"arrowhead\":0,\"arrowwidth\":1},\"geo\":{\"bgcolor\":\"white\",\"landcolor\":\"#E5ECF6\",\"subunitcolor\":\"white\",\"showland\":true,\"showlakes\":true,\"lakecolor\":\"white\"},\"title\":{\"x\":0.05},\"mapbox\":{\"style\":\"light\"}}},\"title\":{\"text\":\"Simple Line Plot\"},\"xaxis\":{\"title\":{\"text\":\"X-axis\"}},\"yaxis\":{\"title\":{\"text\":\"Y-axis\"}}},                        {\"responsive\": true}                    ).then(function(){\n",
              "                            \n",
              "var gd = document.getElementById('0333059e-a4a5-43ac-860e-41164b2f6ba5');\n",
              "var x = new MutationObserver(function (mutations, observer) {{\n",
              "        var display = window.getComputedStyle(gd).display;\n",
              "        if (!display || display === 'none') {{\n",
              "            console.log([gd, 'removed!']);\n",
              "            Plotly.purge(gd);\n",
              "            observer.disconnect();\n",
              "        }}\n",
              "}});\n",
              "\n",
              "// Listen for the removal of the full notebook cells\n",
              "var notebookContainer = gd.closest('#notebook-container');\n",
              "if (notebookContainer) {{\n",
              "    x.observe(notebookContainer, {childList: true});\n",
              "}}\n",
              "\n",
              "// Listen for the clearing of the current output cell\n",
              "var outputEl = gd.closest('.output');\n",
              "if (outputEl) {{\n",
              "    x.observe(outputEl, {childList: true});\n",
              "}}\n",
              "\n",
              "                        })                };                            </script>        </div>\n",
              "</body>\n",
              "</html>"
            ]
          },
          "metadata": {}
        }
      ]
    },
    {
      "cell_type": "markdown",
      "source": [
        "Q21. Using Plotly, create an interactive pie chart of randomly generated data, add labels and percentages, set\n",
        "the title as 'Interactive Pie Chart'."
      ],
      "metadata": {
        "id": "XV8eLys4CtoE"
      }
    },
    {
      "cell_type": "code",
      "source": [
        "!pip install plotly\n",
        "\n",
        "import plotly.graph_objects as go\n",
        "import numpy as np\n",
        "\n",
        "# Generate random data\n",
        "labels = ['A', 'B', 'C', 'D', 'E']\n",
        "values = np.random.randint(1, 100, size=5)\n",
        "\n",
        "# Create the pie chart\n",
        "fig = go.Figure(data=[go.Pie(labels=labels, values=values, textinfo='label+percent',\n",
        "                             insidetextorientation='radial')])\n",
        "\n",
        "# Set the title\n",
        "fig.update_layout(title='Interactive Pie Chart')\n",
        "\n",
        "# Show the plot\n",
        "fig.show()"
      ],
      "metadata": {
        "colab": {
          "base_uri": "https://localhost:8080/",
          "height": 594
        },
        "id": "3XBvy31LCt4U",
        "outputId": "5d4f6255-adc2-4ca3-938d-30346f5c7cf7"
      },
      "execution_count": null,
      "outputs": [
        {
          "output_type": "stream",
          "name": "stdout",
          "text": [
            "Requirement already satisfied: plotly in /usr/local/lib/python3.10/dist-packages (5.24.1)\n",
            "Requirement already satisfied: tenacity>=6.2.0 in /usr/local/lib/python3.10/dist-packages (from plotly) (9.0.0)\n",
            "Requirement already satisfied: packaging in /usr/local/lib/python3.10/dist-packages (from plotly) (24.1)\n"
          ]
        },
        {
          "output_type": "display_data",
          "data": {
            "text/html": [
              "<html>\n",
              "<head><meta charset=\"utf-8\" /></head>\n",
              "<body>\n",
              "    <div>            <script src=\"https://cdnjs.cloudflare.com/ajax/libs/mathjax/2.7.5/MathJax.js?config=TeX-AMS-MML_SVG\"></script><script type=\"text/javascript\">if (window.MathJax && window.MathJax.Hub && window.MathJax.Hub.Config) {window.MathJax.Hub.Config({SVG: {font: \"STIX-Web\"}});}</script>                <script type=\"text/javascript\">window.PlotlyConfig = {MathJaxConfig: 'local'};</script>\n",
              "        <script charset=\"utf-8\" src=\"https://cdn.plot.ly/plotly-2.35.2.min.js\"></script>                <div id=\"0f0c072f-7d88-4e22-acb6-8ac2947b1d70\" class=\"plotly-graph-div\" style=\"height:525px; width:100%;\"></div>            <script type=\"text/javascript\">                                    window.PLOTLYENV=window.PLOTLYENV || {};                                    if (document.getElementById(\"0f0c072f-7d88-4e22-acb6-8ac2947b1d70\")) {                    Plotly.newPlot(                        \"0f0c072f-7d88-4e22-acb6-8ac2947b1d70\",                        [{\"insidetextorientation\":\"radial\",\"labels\":[\"A\",\"B\",\"C\",\"D\",\"E\"],\"textinfo\":\"label+percent\",\"values\":[25,8,59,56,50],\"type\":\"pie\"}],                        {\"template\":{\"data\":{\"histogram2dcontour\":[{\"type\":\"histogram2dcontour\",\"colorbar\":{\"outlinewidth\":0,\"ticks\":\"\"},\"colorscale\":[[0.0,\"#0d0887\"],[0.1111111111111111,\"#46039f\"],[0.2222222222222222,\"#7201a8\"],[0.3333333333333333,\"#9c179e\"],[0.4444444444444444,\"#bd3786\"],[0.5555555555555556,\"#d8576b\"],[0.6666666666666666,\"#ed7953\"],[0.7777777777777778,\"#fb9f3a\"],[0.8888888888888888,\"#fdca26\"],[1.0,\"#f0f921\"]]}],\"choropleth\":[{\"type\":\"choropleth\",\"colorbar\":{\"outlinewidth\":0,\"ticks\":\"\"}}],\"histogram2d\":[{\"type\":\"histogram2d\",\"colorbar\":{\"outlinewidth\":0,\"ticks\":\"\"},\"colorscale\":[[0.0,\"#0d0887\"],[0.1111111111111111,\"#46039f\"],[0.2222222222222222,\"#7201a8\"],[0.3333333333333333,\"#9c179e\"],[0.4444444444444444,\"#bd3786\"],[0.5555555555555556,\"#d8576b\"],[0.6666666666666666,\"#ed7953\"],[0.7777777777777778,\"#fb9f3a\"],[0.8888888888888888,\"#fdca26\"],[1.0,\"#f0f921\"]]}],\"heatmap\":[{\"type\":\"heatmap\",\"colorbar\":{\"outlinewidth\":0,\"ticks\":\"\"},\"colorscale\":[[0.0,\"#0d0887\"],[0.1111111111111111,\"#46039f\"],[0.2222222222222222,\"#7201a8\"],[0.3333333333333333,\"#9c179e\"],[0.4444444444444444,\"#bd3786\"],[0.5555555555555556,\"#d8576b\"],[0.6666666666666666,\"#ed7953\"],[0.7777777777777778,\"#fb9f3a\"],[0.8888888888888888,\"#fdca26\"],[1.0,\"#f0f921\"]]}],\"heatmapgl\":[{\"type\":\"heatmapgl\",\"colorbar\":{\"outlinewidth\":0,\"ticks\":\"\"},\"colorscale\":[[0.0,\"#0d0887\"],[0.1111111111111111,\"#46039f\"],[0.2222222222222222,\"#7201a8\"],[0.3333333333333333,\"#9c179e\"],[0.4444444444444444,\"#bd3786\"],[0.5555555555555556,\"#d8576b\"],[0.6666666666666666,\"#ed7953\"],[0.7777777777777778,\"#fb9f3a\"],[0.8888888888888888,\"#fdca26\"],[1.0,\"#f0f921\"]]}],\"contourcarpet\":[{\"type\":\"contourcarpet\",\"colorbar\":{\"outlinewidth\":0,\"ticks\":\"\"}}],\"contour\":[{\"type\":\"contour\",\"colorbar\":{\"outlinewidth\":0,\"ticks\":\"\"},\"colorscale\":[[0.0,\"#0d0887\"],[0.1111111111111111,\"#46039f\"],[0.2222222222222222,\"#7201a8\"],[0.3333333333333333,\"#9c179e\"],[0.4444444444444444,\"#bd3786\"],[0.5555555555555556,\"#d8576b\"],[0.6666666666666666,\"#ed7953\"],[0.7777777777777778,\"#fb9f3a\"],[0.8888888888888888,\"#fdca26\"],[1.0,\"#f0f921\"]]}],\"surface\":[{\"type\":\"surface\",\"colorbar\":{\"outlinewidth\":0,\"ticks\":\"\"},\"colorscale\":[[0.0,\"#0d0887\"],[0.1111111111111111,\"#46039f\"],[0.2222222222222222,\"#7201a8\"],[0.3333333333333333,\"#9c179e\"],[0.4444444444444444,\"#bd3786\"],[0.5555555555555556,\"#d8576b\"],[0.6666666666666666,\"#ed7953\"],[0.7777777777777778,\"#fb9f3a\"],[0.8888888888888888,\"#fdca26\"],[1.0,\"#f0f921\"]]}],\"mesh3d\":[{\"type\":\"mesh3d\",\"colorbar\":{\"outlinewidth\":0,\"ticks\":\"\"}}],\"scatter\":[{\"fillpattern\":{\"fillmode\":\"overlay\",\"size\":10,\"solidity\":0.2},\"type\":\"scatter\"}],\"parcoords\":[{\"type\":\"parcoords\",\"line\":{\"colorbar\":{\"outlinewidth\":0,\"ticks\":\"\"}}}],\"scatterpolargl\":[{\"type\":\"scatterpolargl\",\"marker\":{\"colorbar\":{\"outlinewidth\":0,\"ticks\":\"\"}}}],\"bar\":[{\"error_x\":{\"color\":\"#2a3f5f\"},\"error_y\":{\"color\":\"#2a3f5f\"},\"marker\":{\"line\":{\"color\":\"#E5ECF6\",\"width\":0.5},\"pattern\":{\"fillmode\":\"overlay\",\"size\":10,\"solidity\":0.2}},\"type\":\"bar\"}],\"scattergeo\":[{\"type\":\"scattergeo\",\"marker\":{\"colorbar\":{\"outlinewidth\":0,\"ticks\":\"\"}}}],\"scatterpolar\":[{\"type\":\"scatterpolar\",\"marker\":{\"colorbar\":{\"outlinewidth\":0,\"ticks\":\"\"}}}],\"histogram\":[{\"marker\":{\"pattern\":{\"fillmode\":\"overlay\",\"size\":10,\"solidity\":0.2}},\"type\":\"histogram\"}],\"scattergl\":[{\"type\":\"scattergl\",\"marker\":{\"colorbar\":{\"outlinewidth\":0,\"ticks\":\"\"}}}],\"scatter3d\":[{\"type\":\"scatter3d\",\"line\":{\"colorbar\":{\"outlinewidth\":0,\"ticks\":\"\"}},\"marker\":{\"colorbar\":{\"outlinewidth\":0,\"ticks\":\"\"}}}],\"scattermapbox\":[{\"type\":\"scattermapbox\",\"marker\":{\"colorbar\":{\"outlinewidth\":0,\"ticks\":\"\"}}}],\"scatterternary\":[{\"type\":\"scatterternary\",\"marker\":{\"colorbar\":{\"outlinewidth\":0,\"ticks\":\"\"}}}],\"scattercarpet\":[{\"type\":\"scattercarpet\",\"marker\":{\"colorbar\":{\"outlinewidth\":0,\"ticks\":\"\"}}}],\"carpet\":[{\"aaxis\":{\"endlinecolor\":\"#2a3f5f\",\"gridcolor\":\"white\",\"linecolor\":\"white\",\"minorgridcolor\":\"white\",\"startlinecolor\":\"#2a3f5f\"},\"baxis\":{\"endlinecolor\":\"#2a3f5f\",\"gridcolor\":\"white\",\"linecolor\":\"white\",\"minorgridcolor\":\"white\",\"startlinecolor\":\"#2a3f5f\"},\"type\":\"carpet\"}],\"table\":[{\"cells\":{\"fill\":{\"color\":\"#EBF0F8\"},\"line\":{\"color\":\"white\"}},\"header\":{\"fill\":{\"color\":\"#C8D4E3\"},\"line\":{\"color\":\"white\"}},\"type\":\"table\"}],\"barpolar\":[{\"marker\":{\"line\":{\"color\":\"#E5ECF6\",\"width\":0.5},\"pattern\":{\"fillmode\":\"overlay\",\"size\":10,\"solidity\":0.2}},\"type\":\"barpolar\"}],\"pie\":[{\"automargin\":true,\"type\":\"pie\"}]},\"layout\":{\"autotypenumbers\":\"strict\",\"colorway\":[\"#636efa\",\"#EF553B\",\"#00cc96\",\"#ab63fa\",\"#FFA15A\",\"#19d3f3\",\"#FF6692\",\"#B6E880\",\"#FF97FF\",\"#FECB52\"],\"font\":{\"color\":\"#2a3f5f\"},\"hovermode\":\"closest\",\"hoverlabel\":{\"align\":\"left\"},\"paper_bgcolor\":\"white\",\"plot_bgcolor\":\"#E5ECF6\",\"polar\":{\"bgcolor\":\"#E5ECF6\",\"angularaxis\":{\"gridcolor\":\"white\",\"linecolor\":\"white\",\"ticks\":\"\"},\"radialaxis\":{\"gridcolor\":\"white\",\"linecolor\":\"white\",\"ticks\":\"\"}},\"ternary\":{\"bgcolor\":\"#E5ECF6\",\"aaxis\":{\"gridcolor\":\"white\",\"linecolor\":\"white\",\"ticks\":\"\"},\"baxis\":{\"gridcolor\":\"white\",\"linecolor\":\"white\",\"ticks\":\"\"},\"caxis\":{\"gridcolor\":\"white\",\"linecolor\":\"white\",\"ticks\":\"\"}},\"coloraxis\":{\"colorbar\":{\"outlinewidth\":0,\"ticks\":\"\"}},\"colorscale\":{\"sequential\":[[0.0,\"#0d0887\"],[0.1111111111111111,\"#46039f\"],[0.2222222222222222,\"#7201a8\"],[0.3333333333333333,\"#9c179e\"],[0.4444444444444444,\"#bd3786\"],[0.5555555555555556,\"#d8576b\"],[0.6666666666666666,\"#ed7953\"],[0.7777777777777778,\"#fb9f3a\"],[0.8888888888888888,\"#fdca26\"],[1.0,\"#f0f921\"]],\"sequentialminus\":[[0.0,\"#0d0887\"],[0.1111111111111111,\"#46039f\"],[0.2222222222222222,\"#7201a8\"],[0.3333333333333333,\"#9c179e\"],[0.4444444444444444,\"#bd3786\"],[0.5555555555555556,\"#d8576b\"],[0.6666666666666666,\"#ed7953\"],[0.7777777777777778,\"#fb9f3a\"],[0.8888888888888888,\"#fdca26\"],[1.0,\"#f0f921\"]],\"diverging\":[[0,\"#8e0152\"],[0.1,\"#c51b7d\"],[0.2,\"#de77ae\"],[0.3,\"#f1b6da\"],[0.4,\"#fde0ef\"],[0.5,\"#f7f7f7\"],[0.6,\"#e6f5d0\"],[0.7,\"#b8e186\"],[0.8,\"#7fbc41\"],[0.9,\"#4d9221\"],[1,\"#276419\"]]},\"xaxis\":{\"gridcolor\":\"white\",\"linecolor\":\"white\",\"ticks\":\"\",\"title\":{\"standoff\":15},\"zerolinecolor\":\"white\",\"automargin\":true,\"zerolinewidth\":2},\"yaxis\":{\"gridcolor\":\"white\",\"linecolor\":\"white\",\"ticks\":\"\",\"title\":{\"standoff\":15},\"zerolinecolor\":\"white\",\"automargin\":true,\"zerolinewidth\":2},\"scene\":{\"xaxis\":{\"backgroundcolor\":\"#E5ECF6\",\"gridcolor\":\"white\",\"linecolor\":\"white\",\"showbackground\":true,\"ticks\":\"\",\"zerolinecolor\":\"white\",\"gridwidth\":2},\"yaxis\":{\"backgroundcolor\":\"#E5ECF6\",\"gridcolor\":\"white\",\"linecolor\":\"white\",\"showbackground\":true,\"ticks\":\"\",\"zerolinecolor\":\"white\",\"gridwidth\":2},\"zaxis\":{\"backgroundcolor\":\"#E5ECF6\",\"gridcolor\":\"white\",\"linecolor\":\"white\",\"showbackground\":true,\"ticks\":\"\",\"zerolinecolor\":\"white\",\"gridwidth\":2}},\"shapedefaults\":{\"line\":{\"color\":\"#2a3f5f\"}},\"annotationdefaults\":{\"arrowcolor\":\"#2a3f5f\",\"arrowhead\":0,\"arrowwidth\":1},\"geo\":{\"bgcolor\":\"white\",\"landcolor\":\"#E5ECF6\",\"subunitcolor\":\"white\",\"showland\":true,\"showlakes\":true,\"lakecolor\":\"white\"},\"title\":{\"x\":0.05},\"mapbox\":{\"style\":\"light\"}}},\"title\":{\"text\":\"Interactive Pie Chart\"}},                        {\"responsive\": true}                    ).then(function(){\n",
              "                            \n",
              "var gd = document.getElementById('0f0c072f-7d88-4e22-acb6-8ac2947b1d70');\n",
              "var x = new MutationObserver(function (mutations, observer) {{\n",
              "        var display = window.getComputedStyle(gd).display;\n",
              "        if (!display || display === 'none') {{\n",
              "            console.log([gd, 'removed!']);\n",
              "            Plotly.purge(gd);\n",
              "            observer.disconnect();\n",
              "        }}\n",
              "}});\n",
              "\n",
              "// Listen for the removal of the full notebook cells\n",
              "var notebookContainer = gd.closest('#notebook-container');\n",
              "if (notebookContainer) {{\n",
              "    x.observe(notebookContainer, {childList: true});\n",
              "}}\n",
              "\n",
              "// Listen for the clearing of the current output cell\n",
              "var outputEl = gd.closest('.output');\n",
              "if (outputEl) {{\n",
              "    x.observe(outputEl, {childList: true});\n",
              "}}\n",
              "\n",
              "                        })                };                            </script>        </div>\n",
              "</body>\n",
              "</html>"
            ]
          },
          "metadata": {}
        }
      ]
    }
  ]
}